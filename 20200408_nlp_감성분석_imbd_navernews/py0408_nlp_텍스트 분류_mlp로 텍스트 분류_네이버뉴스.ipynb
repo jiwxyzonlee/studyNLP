{
 "cells": [
  {
   "cell_type": "markdown",
   "metadata": {},
   "source": [
    "### 텍스트 분석 수행 프로세스\n",
    "#### 20 뉴스그룹 데이터 세트를 이용, 텍스트 분류\n",
    "- 특정 문서의 분류를 학습 데이터를 통해 학습해 모델을 생성한 뒤 이 학습 모델을 이용해 다른 문서의 분류를 예측\n",
    "- 텍스트를 피처 벡터화로 변환, 희소 행렬로 만들고 로지스틱 회귀를 이용해 분류 수행\n",
    "- Count 기반 과 TF-IDF 기반의 벡터화를 각각 적용, 성능 비교\n",
    "- 피처 벡터화를 위한 파라미터와 GridSearchCV 기반의 하이퍼파라미터 튜닝을 일괄적으로 수행"
   ]
  },
  {
   "cell_type": "code",
   "execution_count": 1,
   "metadata": {},
   "outputs": [
    {
     "name": "stdout",
     "output_type": "stream",
     "text": [
      "dict_keys(['data', 'filenames', 'target_names', 'target', 'DESCR'])\n"
     ]
    }
   ],
   "source": [
    "# 텍스트 정규화\n",
    "# scikit-learn이 제공하는 데이터셋 다운로드 받기\n",
    "from sklearn.datasets import fetch_20newsgroups\n",
    "news_data = fetch_20newsgroups(subset='all', random_state=156)\n",
    "print(news_data.keys())"
   ]
  },
  {
   "cell_type": "code",
   "execution_count": 9,
   "metadata": {},
   "outputs": [],
   "source": [
    "#news_data.data"
   ]
  },
  {
   "cell_type": "code",
   "execution_count": 2,
   "metadata": {},
   "outputs": [
    {
     "data": {
      "text/plain": [
       "10    999\n",
       "15    997\n",
       "8     996\n",
       "9     994\n",
       "11    991\n",
       "13    990\n",
       "7     990\n",
       "5     988\n",
       "14    987\n",
       "2     985\n",
       "12    984\n",
       "3     982\n",
       "6     975\n",
       "1     973\n",
       "4     963\n",
       "17    940\n",
       "16    910\n",
       "0     799\n",
       "18    775\n",
       "19    628\n",
       "dtype: int64"
      ]
     },
     "execution_count": 2,
     "metadata": {},
     "output_type": "execute_result"
    }
   ],
   "source": [
    "import pandas as pd\n",
    "len(news_data.data)\n",
    "pd.Series(news_data.target).value_counts()\n",
    "# 20개 개수대로 sort돼서 나옴"
   ]
  },
  {
   "cell_type": "code",
   "execution_count": 3,
   "metadata": {},
   "outputs": [
    {
     "data": {
      "text/plain": [
       "'.. _20newsgroups_dataset:\\n\\nThe 20 newsgroups text dataset\\n------------------------------\\n\\nThe 20 newsgroups dataset comprises around 18000 newsgroups posts on\\n20 topics split in two subsets: one for training (or development)\\nand the other one for testing (or for performance evaluation). The split\\nbetween the train and test set is based upon a messages posted before\\nand after a specific date.\\n\\nThis module contains two loaders. The first one,\\n:func:`sklearn.datasets.fetch_20newsgroups`,\\nreturns a list of the raw texts that can be fed to text feature\\nextractors such as :class:`sklearn.feature_extraction.text.CountVectorizer`\\nwith custom parameters so as to extract feature vectors.\\nThe second one, :func:`sklearn.datasets.fetch_20newsgroups_vectorized`,\\nreturns ready-to-use features, i.e., it is not necessary to use a feature\\nextractor.\\n\\n**Data Set Characteristics:**\\n\\n    =================   ==========\\n    Classes                     20\\n    Samples total            18846\\n    Dimensionality               1\\n    Features                  text\\n    =================   ==========\\n\\nUsage\\n~~~~~\\n\\nThe :func:`sklearn.datasets.fetch_20newsgroups` function is a data\\nfetching / caching functions that downloads the data archive from\\nthe original `20 newsgroups website`_, extracts the archive contents\\nin the ``~/scikit_learn_data/20news_home`` folder and calls the\\n:func:`sklearn.datasets.load_files` on either the training or\\ntesting set folder, or both of them::\\n\\n  >>> from sklearn.datasets import fetch_20newsgroups\\n  >>> newsgroups_train = fetch_20newsgroups(subset=\\'train\\')\\n\\n  >>> from pprint import pprint\\n  >>> pprint(list(newsgroups_train.target_names))\\n  [\\'alt.atheism\\',\\n   \\'comp.graphics\\',\\n   \\'comp.os.ms-windows.misc\\',\\n   \\'comp.sys.ibm.pc.hardware\\',\\n   \\'comp.sys.mac.hardware\\',\\n   \\'comp.windows.x\\',\\n   \\'misc.forsale\\',\\n   \\'rec.autos\\',\\n   \\'rec.motorcycles\\',\\n   \\'rec.sport.baseball\\',\\n   \\'rec.sport.hockey\\',\\n   \\'sci.crypt\\',\\n   \\'sci.electronics\\',\\n   \\'sci.med\\',\\n   \\'sci.space\\',\\n   \\'soc.religion.christian\\',\\n   \\'talk.politics.guns\\',\\n   \\'talk.politics.mideast\\',\\n   \\'talk.politics.misc\\',\\n   \\'talk.religion.misc\\']\\n\\nThe real data lies in the ``filenames`` and ``target`` attributes. The target\\nattribute is the integer index of the category::\\n\\n  >>> newsgroups_train.filenames.shape\\n  (11314,)\\n  >>> newsgroups_train.target.shape\\n  (11314,)\\n  >>> newsgroups_train.target[:10]\\n  array([ 7,  4,  4,  1, 14, 16, 13,  3,  2,  4])\\n\\nIt is possible to load only a sub-selection of the categories by passing the\\nlist of the categories to load to the\\n:func:`sklearn.datasets.fetch_20newsgroups` function::\\n\\n  >>> cats = [\\'alt.atheism\\', \\'sci.space\\']\\n  >>> newsgroups_train = fetch_20newsgroups(subset=\\'train\\', categories=cats)\\n\\n  >>> list(newsgroups_train.target_names)\\n  [\\'alt.atheism\\', \\'sci.space\\']\\n  >>> newsgroups_train.filenames.shape\\n  (1073,)\\n  >>> newsgroups_train.target.shape\\n  (1073,)\\n  >>> newsgroups_train.target[:10]\\n  array([0, 1, 1, 1, 0, 1, 1, 0, 0, 0])\\n\\nConverting text to vectors\\n~~~~~~~~~~~~~~~~~~~~~~~~~~\\n\\nIn order to feed predictive or clustering models with the text data,\\none first need to turn the text into vectors of numerical values suitable\\nfor statistical analysis. This can be achieved with the utilities of the\\n``sklearn.feature_extraction.text`` as demonstrated in the following\\nexample that extract `TF-IDF`_ vectors of unigram tokens\\nfrom a subset of 20news::\\n\\n  >>> from sklearn.feature_extraction.text import TfidfVectorizer\\n  >>> categories = [\\'alt.atheism\\', \\'talk.religion.misc\\',\\n  ...               \\'comp.graphics\\', \\'sci.space\\']\\n  >>> newsgroups_train = fetch_20newsgroups(subset=\\'train\\',\\n  ...                                       categories=categories)\\n  >>> vectorizer = TfidfVectorizer()\\n  >>> vectors = vectorizer.fit_transform(newsgroups_train.data)\\n  >>> vectors.shape\\n  (2034, 34118)\\n\\nThe extracted TF-IDF vectors are very sparse, with an average of 159 non-zero\\ncomponents by sample in a more than 30000-dimensional space\\n(less than .5% non-zero features)::\\n\\n  >>> vectors.nnz / float(vectors.shape[0])\\n  159.01327...\\n\\n:func:`sklearn.datasets.fetch_20newsgroups_vectorized` is a function which \\nreturns ready-to-use token counts features instead of file names.\\n\\n.. _`20 newsgroups website`: http://people.csail.mit.edu/jrennie/20Newsgroups/\\n.. _`TF-IDF`: https://en.wikipedia.org/wiki/Tf-idf\\n\\n\\nFiltering text for more realistic training\\n~~~~~~~~~~~~~~~~~~~~~~~~~~~~~~~~~~~~~~~~~~\\n\\nIt is easy for a classifier to overfit on particular things that appear in the\\n20 Newsgroups data, such as newsgroup headers. Many classifiers achieve very\\nhigh F-scores, but their results would not generalize to other documents that\\naren\\'t from this window of time.\\n\\nFor example, let\\'s look at the results of a multinomial Naive Bayes classifier,\\nwhich is fast to train and achieves a decent F-score::\\n\\n  >>> from sklearn.naive_bayes import MultinomialNB\\n  >>> from sklearn import metrics\\n  >>> newsgroups_test = fetch_20newsgroups(subset=\\'test\\',\\n  ...                                      categories=categories)\\n  >>> vectors_test = vectorizer.transform(newsgroups_test.data)\\n  >>> clf = MultinomialNB(alpha=.01)\\n  >>> clf.fit(vectors, newsgroups_train.target)\\n  MultinomialNB(alpha=0.01, class_prior=None, fit_prior=True)\\n\\n  >>> pred = clf.predict(vectors_test)\\n  >>> metrics.f1_score(newsgroups_test.target, pred, average=\\'macro\\')\\n  0.88213...\\n\\n(The example :ref:`sphx_glr_auto_examples_text_plot_document_classification_20newsgroups.py` shuffles\\nthe training and test data, instead of segmenting by time, and in that case\\nmultinomial Naive Bayes gets a much higher F-score of 0.88. Are you suspicious\\nyet of what\\'s going on inside this classifier?)\\n\\nLet\\'s take a look at what the most informative features are:\\n\\n  >>> import numpy as np\\n  >>> def show_top10(classifier, vectorizer, categories):\\n  ...     feature_names = np.asarray(vectorizer.get_feature_names())\\n  ...     for i, category in enumerate(categories):\\n  ...         top10 = np.argsort(classifier.coef_[i])[-10:]\\n  ...         print(\"%s: %s\" % (category, \" \".join(feature_names[top10])))\\n  ...\\n  >>> show_top10(clf, vectorizer, newsgroups_train.target_names)\\n  alt.atheism: edu it and in you that is of to the\\n  comp.graphics: edu in graphics it is for and of to the\\n  sci.space: edu it that is in and space to of the\\n  talk.religion.misc: not it you in is that and to of the\\n\\n\\nYou can now see many things that these features have overfit to:\\n\\n- Almost every group is distinguished by whether headers such as\\n  ``NNTP-Posting-Host:`` and ``Distribution:`` appear more or less often.\\n- Another significant feature involves whether the sender is affiliated with\\n  a university, as indicated either by their headers or their signature.\\n- The word \"article\" is a significant feature, based on how often people quote\\n  previous posts like this: \"In article [article ID], [name] <[e-mail address]>\\n  wrote:\"\\n- Other features match the names and e-mail addresses of particular people who\\n  were posting at the time.\\n\\nWith such an abundance of clues that distinguish newsgroups, the classifiers\\nbarely have to identify topics from text at all, and they all perform at the\\nsame high level.\\n\\nFor this reason, the functions that load 20 Newsgroups data provide a\\nparameter called **remove**, telling it what kinds of information to strip out\\nof each file. **remove** should be a tuple containing any subset of\\n``(\\'headers\\', \\'footers\\', \\'quotes\\')``, telling it to remove headers, signature\\nblocks, and quotation blocks respectively.\\n\\n  >>> newsgroups_test = fetch_20newsgroups(subset=\\'test\\',\\n  ...                                      remove=(\\'headers\\', \\'footers\\', \\'quotes\\'),\\n  ...                                      categories=categories)\\n  >>> vectors_test = vectorizer.transform(newsgroups_test.data)\\n  >>> pred = clf.predict(vectors_test)\\n  >>> metrics.f1_score(pred, newsgroups_test.target, average=\\'macro\\')\\n  0.77310...\\n\\nThis classifier lost over a lot of its F-score, just because we removed\\nmetadata that has little to do with topic classification.\\nIt loses even more if we also strip this metadata from the training data:\\n\\n  >>> newsgroups_train = fetch_20newsgroups(subset=\\'train\\',\\n  ...                                       remove=(\\'headers\\', \\'footers\\', \\'quotes\\'),\\n  ...                                       categories=categories)\\n  >>> vectors = vectorizer.fit_transform(newsgroups_train.data)\\n  >>> clf = MultinomialNB(alpha=.01)\\n  >>> clf.fit(vectors, newsgroups_train.target)\\n  MultinomialNB(alpha=0.01, class_prior=None, fit_prior=True)\\n\\n  >>> vectors_test = vectorizer.transform(newsgroups_test.data)\\n  >>> pred = clf.predict(vectors_test)\\n  >>> metrics.f1_score(newsgroups_test.target, pred, average=\\'macro\\')\\n  0.76995...\\n\\nSome other classifiers cope better with this harder version of the task. Try\\nrunning :ref:`sphx_glr_auto_examples_model_selection_grid_search_text_feature_extraction.py` with and without\\nthe ``--filter`` option to compare the results.\\n\\n.. topic:: Recommendation\\n\\n  When evaluating text classifiers on the 20 Newsgroups data, you\\n  should strip newsgroup-related metadata. In scikit-learn, you can do this by\\n  setting ``remove=(\\'headers\\', \\'footers\\', \\'quotes\\')``. The F-score will be\\n  lower because it is more realistic.\\n\\n.. topic:: Examples\\n\\n   * :ref:`sphx_glr_auto_examples_model_selection_grid_search_text_feature_extraction.py`\\n\\n   * :ref:`sphx_glr_auto_examples_text_plot_document_classification_20newsgroups.py`\\n'"
      ]
     },
     "execution_count": 3,
     "metadata": {},
     "output_type": "execute_result"
    }
   ],
   "source": [
    " news_data.DESCR"
   ]
  },
  {
   "cell_type": "code",
   "execution_count": 4,
   "metadata": {},
   "outputs": [
    {
     "name": "stdout",
     "output_type": "stream",
     "text": [
      "학습데이터 크기 11314, 테스트 데이터 크기 7532\n"
     ]
    }
   ],
   "source": [
    "# 순수한 텍스트만으로 구성된 기사 내용으로 어떤 뉴스그룹에 속하는지 분류\n",
    "#from sklearn.datasets import fetch_20newsgroups\n",
    "\n",
    "# 텍스트 정규화\n",
    "# 뉴스그룹 기사 내용을 제외하고 다른 정보 제거\n",
    "# 제목, 소속, 이메일 등 헤더와 푸터 정보들은 분류의 타겟 클래스 값과 유사할 수 있음\n",
    "train_news = fetch_20newsgroups(subset='train', remove=('headers', 'footers', 'quotes'), random_state=156)\n",
    "x_train = train_news.data\n",
    "y_train = train_news.target\n",
    "\n",
    "test_news = fetch_20newsgroups(subset='test', remove=('headers', 'footers', 'quotes'), random_state=156)\n",
    "x_test = test_news.data\n",
    "y_test = test_news.target\n",
    "\n",
    "print('학습데이터 크기 {0}, 테스트 데이터 크기 {1}'.format(len(train_news.data), len(test_news.data)))"
   ]
  },
  {
   "cell_type": "code",
   "execution_count": 5,
   "metadata": {},
   "outputs": [
    {
     "name": "stdout",
     "output_type": "stream",
     "text": [
      "0     319\n",
      "1     389\n",
      "2     394\n",
      "3     392\n",
      "4     385\n",
      "5     395\n",
      "6     390\n",
      "7     396\n",
      "8     398\n",
      "9     397\n",
      "10    399\n",
      "11    396\n",
      "12    393\n",
      "13    396\n",
      "14    394\n",
      "15    398\n",
      "16    364\n",
      "17    376\n",
      "18    310\n",
      "19    251\n",
      "dtype: int64\n"
     ]
    }
   ],
   "source": [
    "#import pandas as pd\n",
    "import numpy as np\n",
    "print(pd.Series(y_test).value_counts().sort_index())"
   ]
  },
  {
   "cell_type": "code",
   "execution_count": 6,
   "metadata": {},
   "outputs": [
    {
     "name": "stdout",
     "output_type": "stream",
     "text": [
      "(11314, 101631)\n",
      "(7532, 101631)\n"
     ]
    }
   ],
   "source": [
    "# 피처 벡터화 변환과 머신러닝 모델 학습/예측/평가\n",
    "# CountVectorizer으로 feature extraction 변환 수행\n",
    "from sklearn.feature_extraction.text import CountVectorizer\n",
    "cnt_vect = CountVectorizer()\n",
    "cnt_vect.fit(x_train, y_train)\n",
    "x_train_cnt_vect = cnt_vect.transform(x_train)\n",
    "\n",
    "# 학습 데이터로 fit()된 CountVectorizer를 반드시 이용하여 테스트 데이터 feature extraction 변환 수행(피처 개수가 동일해야 함)\n",
    "x_test_cnt_vect = cnt_vect.transform(x_test)\n",
    "\n",
    "print(x_train_cnt_vect.shape)\n",
    "print(x_test_cnt_vect.shape)"
   ]
  },
  {
   "cell_type": "code",
   "execution_count": 7,
   "metadata": {
    "scrolled": true
   },
   "outputs": [
    {
     "name": "stdout",
     "output_type": "stream",
     "text": [
      "0.6079394583112055\n"
     ]
    },
    {
     "data": {
      "text/plain": [
       "\"\\n# 로지스틱 회귀를 적용, 뉴스그룹에 대한 분류 예측\\n\\nfrom sklearn.linear_model import LogisticRegression\\nfrom sklearn.metrics import accuracy_score\\nimport warnings\\nwarnings.filterwarnings('ignore')\\n\\nlr_clf = LogisticRegression()\\nlr_clf.fit(X_train_cnt_vect, y_train)\\nlr_pred = lr_clf.predict(X_test_cnt_vect)\\nprint(accuracy_score(y_test, lr_pred))\\n\""
      ]
     },
     "execution_count": 7,
     "metadata": {},
     "output_type": "execute_result"
    }
   ],
   "source": [
    "# CountVect-Logistic Regression\n",
    "\n",
    "from sklearn.linear_model import LogisticRegression\n",
    "from sklearn.metrics import accuracy_score\n",
    "import warnings\n",
    "warnings.filterwarnings('ignore')\n",
    "\n",
    "lr = LogisticRegression()\n",
    "lr.fit(x_train_cnt_vect, y_train)\n",
    "lr_pred = lr.predict(x_test_cnt_vect)\n",
    "lr_accuracy = accuracy_score(y_test, lr_pred)\n",
    "\n",
    "print(lr_accuracy)\n",
    "\n",
    "\"\"\"\n",
    "# 로지스틱 회귀를 적용, 뉴스그룹에 대한 분류 예측\n",
    "\n",
    "from sklearn.linear_model import LogisticRegression\n",
    "from sklearn.metrics import accuracy_score\n",
    "import warnings\n",
    "warnings.filterwarnings('ignore')\n",
    "\n",
    "lr_clf = LogisticRegression()\n",
    "lr_clf.fit(X_train_cnt_vect, y_train)\n",
    "lr_pred = lr_clf.predict(X_test_cnt_vect)\n",
    "print(accuracy_score(y_test, lr_pred))\n",
    "\"\"\""
   ]
  },
  {
   "cell_type": "code",
   "execution_count": 8,
   "metadata": {},
   "outputs": [
    {
     "name": "stdout",
     "output_type": "stream",
     "text": [
      "(11314, 101631)\n",
      "(7532, 101631)\n",
      "0.6079394583112055\n"
     ]
    }
   ],
   "source": [
    "# 피처 벡터화 변환과 머신러닝 모델 학습/예측/평가\n",
    "# Count Vectorization으로 feature extraction 변환 수행. \n",
    "from sklearn.feature_extraction.text import CountVectorizer\n",
    "cnt_vect = CountVectorizer()\n",
    "cnt_vect.fit(x_train,y_train)\n",
    "X_train_cnt_vect = cnt_vect.transform(x_train)\n",
    "# 학습 데이터로 fit( )된 CountVectorizer를 반드시 이용하여 테스트 데이터 \n",
    "# feature extraction 변환 수행(피처 개수가 동일해야 함)\n",
    "X_test_cnt_vect = cnt_vect.transform(x_test)\n",
    "print(X_train_cnt_vect.shape)\n",
    "print(X_test_cnt_vect.shape)\n",
    "\n",
    "# 로지스틱 회귀를 적용, 뉴스그룹에 대한 분류 예측\n",
    "\n",
    "from sklearn.linear_model import LogisticRegression\n",
    "from sklearn.metrics import accuracy_score\n",
    "import warnings\n",
    "warnings.filterwarnings('ignore')\n",
    "\n",
    "lr_clf = LogisticRegression()\n",
    "lr_clf.fit(X_train_cnt_vect, y_train)\n",
    "lr_pred = lr_clf.predict(X_test_cnt_vect)\n",
    "print(accuracy_score(y_test, lr_pred))"
   ]
  },
  {
   "cell_type": "code",
   "execution_count": 9,
   "metadata": {},
   "outputs": [
    {
     "name": "stdout",
     "output_type": "stream",
     "text": [
      "(11314, 101631)\n",
      "(7532, 101631)\n"
     ]
    }
   ],
   "source": [
    "from sklearn.feature_extraction.text import TfidfVectorizer\n",
    "\n",
    "tfidf_vect = TfidfVectorizer()\n",
    "tfidf_vect.fit(x_train)\n",
    "x_train_tfidf_vect = tfidf_vect.transform(x_train)\n",
    "\n",
    "# 학습 데이터로 fit()된 CountVectorizer를 반드시 이용하여 테스트 데이터 feature extraction 변환 수행(피처 개수가 동일해야 함)\n",
    "x_test_tfidf_vect = tfidf_vect.transform(x_test)\n",
    "\n",
    "print(x_train_tfidf_vect.shape)\n",
    "print(x_test_tfidf_vect.shape)"
   ]
  },
  {
   "cell_type": "code",
   "execution_count": 10,
   "metadata": {},
   "outputs": [
    {
     "name": "stdout",
     "output_type": "stream",
     "text": [
      "0.6736590546999469\n"
     ]
    }
   ],
   "source": [
    "# TF-IDF Vect - Logistic Regression\n",
    "lr = LogisticRegression()\n",
    "lr.fit(x_train_tfidf_vect, y_train)\n",
    "lr_pred = lr.predict(x_test_tfidf_vect)\n",
    "lr_accuracy = accuracy_score(y_test, lr_pred)\n",
    "\n",
    "print(lr_accuracy)"
   ]
  },
  {
   "cell_type": "code",
   "execution_count": 11,
   "metadata": {},
   "outputs": [
    {
     "name": "stdout",
     "output_type": "stream",
     "text": [
      "(11314, 943737)\n",
      "(7532, 943737)\n",
      "\n",
      "0.6868029739776952\n"
     ]
    }
   ],
   "source": [
    "# 더 높은 정확도를 위해 불용어 제거\n",
    "\n",
    "tfidf_vect = TfidfVectorizer(stop_words='english', ngram_range=(1, 2))\n",
    "tfidf_vect.fit(x_train)\n",
    "x_train_tfidf_vect = tfidf_vect.transform(x_train)\n",
    "\n",
    "# 학습 데이터로 fit()된 CountVectorizer를 반드시 이용하여 테스트 데이터 feature extraction 변환 수행(피처 개수가 동일해야 함)\n",
    "x_test_tfidf_vect = tfidf_vect.transform(x_test)\n",
    "\n",
    "print(x_train_tfidf_vect.shape)\n",
    "print(x_test_tfidf_vect.shape)\n",
    "print()\n",
    "\n",
    "# TF-IDF Vect - Logistic Regression\n",
    "lr = LogisticRegression(random_state=0)\n",
    "lr.fit(x_train_tfidf_vect, y_train)\n",
    "lr_pred = lr.predict(x_test_tfidf_vect)\n",
    "lr_accuracy = accuracy_score(y_test, lr_pred)\n",
    "\n",
    "print(lr_accuracy)"
   ]
  },
  {
   "cell_type": "code",
   "execution_count": null,
   "metadata": {},
   "outputs": [],
   "source": [
    "# GridSearchCV\n",
    "\n",
    "# 30분 이상 걸림\n",
    "from sklearn.model_selection import GridSearchCV\n",
    "# 최적 C 값 도출 튜닝 수행. CV는 3 Fold셋으로 설정.\n",
    "params = {'C':[5,10]}\n",
    "gcv_lr = GridSearchCV(\n",
    "    lr_clf\n",
    "    , param_grid=params\n",
    "    # 교차 검증 폴드 수\n",
    "    , cv=3\n",
    "    , scoring='accuracy'\n",
    "    , verbose = 1)\n",
    "\n",
    "gcv_lr.fit(x_train_tfidf_vect, y_train)\n",
    "print(gcv_lr.best_params_)\n",
    "\n",
    "# 최적 C 값으로 학습된 grid_cv로 예측 수행하고 정확도 평가.\n",
    "lr_pred = gcv_lr.predict(X_test_tfidf_vect)\n",
    "print(accuracy_score(y_test, lr_pred))"
   ]
  },
  {
   "cell_type": "code",
   "execution_count": null,
   "metadata": {},
   "outputs": [],
   "source": [
    "# 30분 이상 소요\n",
    "from sklearn.pipeline import Pipeline\n",
    "\n",
    "pipeline = Pipeline([\n",
    "    ('tfidf_vect', TfidfVectorizer(stop_words='english')),\n",
    "    ('lr_clf', LogisticRegression())\n",
    "])\n",
    "# 하이퍼파라미터명이 개게 변수명과 결합 : 피처 벡터화 객체 파라미터와 Estimator 객체의 하이퍼파라미터 구별하기 위함\n",
    "params = {'tfidf_vect__ngram_range':[(1,1),(1,2),(1,3)],\n",
    "         'tfidf_vect__max_df':[100,300,700],\n",
    "         'lr_clf__C':[1,5,10]}\n",
    "\n",
    "grid_cv_pipe = GridSearchCV(pipeline, param_grid=params, cv=3, \\\n",
    "                           scoring = 'accuracy', verbose = 1)\n",
    "grid_cv_pipe.fit(x_train,y_train)\n",
    "print(grid_cv_pipe.best_params_, grid_cv_pripe.best_score_)\n",
    "\n",
    "pred = grid_cv_pipe.predict(x_test)\n",
    "print(accuracy_score(y_test,pred))"
   ]
  },
  {
   "cell_type": "markdown",
   "metadata": {},
   "source": [
    "### 뉴스기사의 카테고리 판정 - 네이버 뉴스 2400개 수집"
   ]
  },
  {
   "cell_type": "markdown",
   "metadata": {},
   "source": [
    "아래 모듈은 참고"
   ]
  },
  {
   "cell_type": "code",
   "execution_count": null,
   "metadata": {},
   "outputs": [],
   "source": [
    "# tfidf.py : TF-IDF로 텍스트를 벡터로 변환하는 모듈\n",
    "from konlpy.tag import Okt\n",
    "import pickle\n",
    "import numpy as np\n",
    "\n",
    "# KoNLPy의 Okt객체 초기화 \n",
    "okt = Okt()\n",
    "# 전역 변수 \n",
    "word_dic = {'_id': 0} # 단어 사전\n",
    "dt_dic = {} # 문장 전체에서의 단어 출현 횟수\n",
    "files = [] # 문서들을 저장할 리스트\n",
    "\n",
    "def tokenize(text):\n",
    "    '''KoNLPy로 형태소 분석하기''' \n",
    "    result = []\n",
    "    word_s = okt.pos(text, norm=True, stem=True)\n",
    "    for n, h in word_s:\n",
    "        if not (h in ['Noun', 'Verb ', 'Adjective']): continue\n",
    "        if h == 'Punctuation' and h2 == 'Number': continue\n",
    "        result.append(n)\n",
    "    return result\n",
    "\n",
    "def words_to_ids(words, auto_add = True):\n",
    "    ''' 단어를 ID로 변환하기 ''' \n",
    "    result = []\n",
    "    for w in words:\n",
    "        if w in word_dic:\n",
    "            result.append(word_dic[w])\n",
    "            continue\n",
    "        elif auto_add:\n",
    "            id = word_dic[w] = word_dic['_id']\n",
    "            word_dic['_id'] += 1\n",
    "            result.append(id)\n",
    "    return result\n",
    "\n",
    "def add_text(text):\n",
    "    '''텍스트를 ID 리스트로 변환해서 추가하기''' \n",
    "    ids = words_to_ids(tokenize(text))\n",
    "    files.append(ids)\n",
    "\n",
    "def add_file(path):\n",
    "    '''텍스트 파일을 학습 전용으로 추가하기''' \n",
    "    with open(path, \"r\", encoding=\"utf-8\") as f:\n",
    "        s = f.read()\n",
    "        add_text(s)\n",
    "\n",
    "def calc_files():\n",
    "    '''추가한 파일 계산하기''' \n",
    "    global dt_dic\n",
    "    result = []\n",
    "    doc_count = len(files)\n",
    "    dt_dic = {}\n",
    "    # 단어 출현 횟수 세기\n",
    "    for words in files:\n",
    "        used_word = {}\n",
    "        data = np.zeros(word_dic['_id'])\n",
    "        for id in words:\n",
    "            data[id] += 1\n",
    "            used_word[id] = 1\n",
    "        # 단어 t가 사용되고 있을 경우 dt_dic의 수를 1 더하기 \n",
    "        for id in used_word:\n",
    "            if not(id in dt_dic): dt_dic[id] = 0\n",
    "            dt_dic[id] += 1\n",
    "        # 정규화하기 \n",
    "        data = data / len(words) \n",
    "        result.append(data)\n",
    "    # TF-IDF 계산하기 \n",
    "    for i, doc in enumerate(result):\n",
    "        for id, v in enumerate(doc):\n",
    "            idf = np.log(doc_count / dt_dic[id]) + 1\n",
    "            doc[id] = min([doc[id] * idf, 1.0])\n",
    "        result[i] = doc\n",
    "    return result\n",
    "\n",
    "def save_dic(fname):\n",
    "    '''사전을 파일로 저장하기''' \n",
    "    pickle.dump(\n",
    "        [word_dic, dt_dic, files],\n",
    "        open(fname, \"wb\"))\n",
    "\n",
    "def load_dic(fname):\n",
    "    '''사전 파일 읽어 들이기''' \n",
    "    global word_dic, dt_dic, files\n",
    "    n = pickle.load(open(fname, 'rb'))\n",
    "    word_dic, dt_dic, files = n\n",
    "\n",
    "def calc_text(text):\n",
    "    ''' 문장을 벡터로 변환하기 ''' \n",
    "    data = np.zeros(word_dic['_id'])\n",
    "    words = words_to_ids(tokenize(text), False)\n",
    "    for w in words:\n",
    "        data[w] += 1\n",
    "    data = data / len(words)\n",
    "    for id, v in enumerate(data):\n",
    "        idf = np.log(len(files) / dt_dic[id]) + 1\n",
    "        data[id] = min([data[id] * idf, 1.0])\n",
    "    return data\n",
    "# 모듈 테스트하기 \n",
    "if __name__ == '__main__':\n",
    "    add_text('비')\n",
    "    add_text('오늘은 비가 내렸어요.') \n",
    "    add_text('오늘은 더웠지만 오후부터 비가 내렸다.') \n",
    "    add_text('비가 내리는 일요일이다.') \n",
    "    print(calc_files())\n",
    "    print(word_dic)"
   ]
  },
  {
   "cell_type": "code",
   "execution_count": null,
   "metadata": {},
   "outputs": [],
   "source": [
    "# 네이버 뉴스 정치, 경제, 생활, IT/과학 기사 TF-IDF 벡터 변환 후 genre.pickle로 저장\n",
    "# 텍스트 분류 과정\n",
    "# 1. 텍스트에서 불필요한 품사를 제거\n",
    "# 2. 사전을 기반으로 단어를 숫자로 변환\n",
    "# 3. 파일 내부의 단어 출현 비율을 계산\n",
    "# 4. 데이터를 학습\n",
    "\n",
    "# makedb_tfidf.py : 문장의 형태소를 벡터로 변환\n",
    "import os, glob, pickle\n",
    "import tfidf\n",
    "\n",
    "# 변수 초기화\n",
    "y = []\n",
    "x = []\n",
    "\n",
    "# 디렉터리 내부의 파일 목록 전체에 대해 처리하기 \n",
    "def read_files(path, label):\n",
    "    print(\"read_files=\", path)\n",
    "    files = glob.glob(path + \"/*.txt\")\n",
    "    for f in files:\n",
    "        if os.path.basename(f) == 'LICENSE.txt': continue\n",
    "        tfidf.add_file(f)\n",
    "        y.append(label)\n",
    "\n",
    "# 기사를 넣은 디렉터리 읽어 들이기 \n",
    "read_files('dataset/100', 0)\n",
    "read_files('dataset/101', 1)\n",
    "read_files('dataset/103', 2)\n",
    "read_files('dataset/105', 3)\n",
    "\n",
    "\n",
    "# TF-IDF 벡터로 변환하기 \n",
    "x = tfidf.calc_files()\n",
    "\n",
    "# 저장하기 \n",
    "pickle.dump([y, x], open('dataset/genre.pickle', 'wb'))\n",
    "tfidf.save_dic('dataset/genre-tdidf.dic')\n",
    "print('ok')"
   ]
  },
  {
   "cell_type": "markdown",
   "metadata": {},
   "source": [
    "### 실습"
   ]
  },
  {
   "cell_type": "code",
   "execution_count": 2,
   "metadata": {},
   "outputs": [
    {
     "name": "stdout",
     "output_type": "stream",
     "text": [
      "3197\n",
      "3197\n"
     ]
    }
   ],
   "source": [
    "import pickle\n",
    "from sklearn.naive_bayes import GaussianNB\n",
    "from sklearn.model_selection import train_test_split\n",
    "import sklearn.metrics as metrics\n",
    "import numpy as np\n",
    "\n",
    "# TF-IDF 데이터베이스 읽어 들이기\n",
    "data = pickle.load(open('./dataset/genre.pickle', 'rb'))\n",
    "\n",
    "# 레이블\n",
    "y = data[0]\n",
    "\n",
    "# TF-IDF\n",
    "x= data[1]\n",
    "\n",
    "print(len(y))\n",
    "print(len(x))"
   ]
  },
  {
   "cell_type": "code",
   "execution_count": 5,
   "metadata": {},
   "outputs": [
    {
     "name": "stdout",
     "output_type": "stream",
     "text": [
      "accuracy =  0.8\n",
      "\n",
      "              precision    recall  f1-score   support\n",
      "\n",
      "           0       0.89      0.88      0.89       138\n",
      "           1       0.80      0.70      0.75       169\n",
      "           2       0.72      0.89      0.80       160\n",
      "           3       0.82      0.74      0.78       173\n",
      "\n",
      "    accuracy                           0.80       640\n",
      "   macro avg       0.81      0.81      0.80       640\n",
      "weighted avg       0.81      0.80      0.80       640\n",
      "\n"
     ]
    }
   ],
   "source": [
    "# 학습, 테스트 분할\n",
    "x_train, x_test, y_train, y_test = train_test_split(\n",
    "    x, y\n",
    "    , test_size=0.2\n",
    ")\n",
    "\n",
    "# 모델 생성(나이브 베이지안, 가우시안)\n",
    "model = GaussianNB()\n",
    "model.fit(x_train, y_train)\n",
    "\n",
    "# 모델 평가, 결과 출력\n",
    "y_pred = model.predict(x_test)\n",
    "acc = metrics.accuracy_score(y_test, y_pred)\n",
    "rep = metrics.classification_report(y_test, y_pred)\n",
    "\n",
    "print('accuracy = ', acc)\n",
    "print()\n",
    "print(rep)"
   ]
  },
  {
   "cell_type": "code",
   "execution_count": 12,
   "metadata": {},
   "outputs": [],
   "source": [
    "import pickle\n",
    "from sklearn.model_selection import train_test_split\n",
    "import sklearn.metrics as metrics\n",
    "import keras\n",
    "from keras.models import Sequential\n",
    "from keras.layers import Dense, Dropout\n",
    "from keras.optimizers import RMSprop\n",
    "import matplotlib.pyplot as plt\n",
    "import numpy as np\n",
    "import h5py\n",
    "import warnings\n",
    "warnings.filterwarnings('ignore')\n",
    "\n",
    "# 분류할 레이블 수\n",
    "nb_classes = 4\n",
    "\n",
    "# read database\n",
    "data = pickle.load(open('./dataset/genre.pickle', 'rb'))\n",
    "\n",
    "# label\n",
    "y = data[0]\n",
    "# TF-IDF\n",
    "x = data[1]\n",
    "\n",
    "#import pandas as pd\n",
    "#print(pd.Series(y).value_counts())"
   ]
  },
  {
   "cell_type": "code",
   "execution_count": 2,
   "metadata": {},
   "outputs": [
    {
     "name": "stdout",
     "output_type": "stream",
     "text": [
      "3197\n"
     ]
    },
    {
     "data": {
      "text/plain": [
       "(36120,)"
      ]
     },
     "execution_count": 2,
     "metadata": {},
     "output_type": "execute_result"
    }
   ],
   "source": [
    "print(len(np.array(y)))\n",
    "x[0].shape"
   ]
  },
  {
   "cell_type": "code",
   "execution_count": 13,
   "metadata": {},
   "outputs": [
    {
     "name": "stdout",
     "output_type": "stream",
     "text": [
      "Train on 2557 samples, validate on 640 samples\n",
      "Epoch 1/10\n",
      "2557/2557 [==============================] - 4s 1ms/step - loss: 0.8486 - accuracy: 0.7270 - val_loss: 0.4104 - val_accuracy: 0.8500\n",
      "Epoch 2/10\n",
      "2557/2557 [==============================] - 3s 1ms/step - loss: 0.2303 - accuracy: 0.9280 - val_loss: 0.3343 - val_accuracy: 0.8750\n",
      "Epoch 3/10\n",
      "2557/2557 [==============================] - 3s 1ms/step - loss: 0.0953 - accuracy: 0.9734 - val_loss: 0.3270 - val_accuracy: 0.8844\n",
      "Epoch 4/10\n",
      "2557/2557 [==============================] - 3s 1ms/step - loss: 0.0463 - accuracy: 0.9855 - val_loss: 0.3343 - val_accuracy: 0.8953\n",
      "Epoch 5/10\n",
      "2557/2557 [==============================] - 4s 1ms/step - loss: 0.0225 - accuracy: 0.9934 - val_loss: 0.3930 - val_accuracy: 0.8844\n",
      "Epoch 6/10\n",
      "2557/2557 [==============================] - 3s 1ms/step - loss: 0.0127 - accuracy: 0.9961 - val_loss: 0.4298 - val_accuracy: 0.8828\n",
      "Epoch 7/10\n",
      "2557/2557 [==============================] - 3s 1ms/step - loss: 0.0079 - accuracy: 0.9965 - val_loss: 0.4278 - val_accuracy: 0.8875\n",
      "Epoch 8/10\n",
      "2557/2557 [==============================] - 3s 1ms/step - loss: 0.0056 - accuracy: 0.9980 - val_loss: 0.4845 - val_accuracy: 0.8797\n",
      "Epoch 9/10\n",
      "2557/2557 [==============================] - 4s 1ms/step - loss: 0.0064 - accuracy: 0.9973 - val_loss: 0.5320 - val_accuracy: 0.8844\n",
      "Epoch 10/10\n",
      "2557/2557 [==============================] - 4s 1ms/step - loss: 0.0022 - accuracy: 0.9996 - val_loss: 0.5118 - val_accuracy: 0.8891\n",
      "640/640 [==============================] - 0s 500us/step\n",
      "정답률= 0.8890625238418579 loss= 0.5118399925064295\n"
     ]
    },
    {
     "data": {
      "image/png": "[encoded data removed]",
      "text/plain": [
       "<Figure size 432x288 with 1 Axes>"
      ]
     },
     "metadata": {
      "needs_background": "light"
     },
     "output_type": "display_data"
    },
    {
     "data": {
      "image/png": "[encoded data removed]",
      "text/plain": [
       "<Figure size 432x288 with 1 Axes>"
      ]
     },
     "metadata": {
      "needs_background": "light"
     },
     "output_type": "display_data"
    }
   ],
   "source": [
    "# 레이블 데이터를 One-hot 형식 변환\n",
    "y = keras.utils.np_utils.to_categorical(y, nb_classes)\n",
    "in_size = x[0].shape[0]\n",
    "\n",
    "# 학습 전용과 테스트 전용으로 구분하기\n",
    "x_train, x_test, y_train, y_test = train_test_split(\n",
    "    np.array(x), np.array(y)\n",
    "    , test_size=0.2\n",
    ")\n",
    "\n",
    "# MLP모델의 구조 정의하기\n",
    "# 이진분류 : 시그모이드 활성화 함수와 하나의 유닛\n",
    "# 다중 분류 : 소프트맥스 활성화 함수와 k개의 유닛\n",
    "# 회귀 : 아무런 활성화 함수를 사용하지 않는 \n",
    "# dropout: 훈련도중 층의 출력 특성을 랜덤하게 유도\n",
    "# 0이 되는 특성의 비율 0.2~0.5\n",
    "# relu f(z) = max(0.z) z값이 0보다 크면 z가 되고 0보다 작으면 0이 됨\n",
    "model = Sequential()\n",
    "model.add(Dense(512, activation='relu', input_shape=(in_size,)))\n",
    "model.add(Dropout(0.2))\n",
    "model.add(Dense(512, activation='relu'))\n",
    "model.add(Dropout(0.2))\n",
    "model.add(Dense(nb_classes, activation='softmax'))\n",
    "\n",
    "# 모델 컴파일하기\n",
    "# 손실 함수를 정의: 이진 크로스 엔트로피(이진 분류), 범주형 크로스 엔트로피(다중 분류)\n",
    "# 옵티마이저(가장 작은 손실 함수 오차를 만드는 모델 파라미터 값을 찾는 전략)\n",
    "# 확률적 경사 하강법, 모멘텀을 사용한 확률적 경사 하강법, RMSProp, Adam(Adaptive momentum)\n",
    "# compile 메소드와 metrics 매개변수를 지정하지 않으면 \n",
    "model.compile(\n",
    "    loss='categorical_crossentropy',\n",
    "    optimizer=RMSprop(),\n",
    "    metrics=['accuracy'])\n",
    "\n",
    "# 학습 실행하기 \n",
    "hist = model.fit(x_train, y_train,\n",
    "          batch_size=128, \n",
    "          epochs=10,\n",
    "          verbose=1,\n",
    "          validation_data=(x_test, y_test))\n",
    "\n",
    "# 평가하기 \n",
    "score = model.evaluate(x_test, y_test, verbose=1)\n",
    "print(\"정답률=\", score[1], 'loss=', score[0])\n",
    "\n",
    "# 가중치데이터 저장하기 \n",
    "model.save_weights('./dataset/genre-model.hdf5')\n",
    "\n",
    "# 학습 상태를 그래프로 그리기\n",
    "# 모델 학습을 위해 fit() 함수를 사용하며 리턴값으로 학습 이력(History) 정보를 리턴\n",
    "# loss : 훈련 손실값\n",
    "# acc : 훈련 정확도\n",
    "# val_loss : 검증 손실값\n",
    "# val_acc : 검증 정확도\n",
    "# plt.plot(hist.history['loss'])\n",
    "plt.plot(hist.history['accuracy'])\n",
    "# plt.plot(hist.history['val_loss'])\n",
    "plt.plot(hist.history['val_accuracy'])\n",
    "plt.title('Accuracy')\n",
    "plt.legend(['train', 'test'], loc='upper left')\n",
    "plt.show()\n",
    "\n",
    "plt.plot(hist.history['loss'])\n",
    "#plt.plot(hist.history['accuracy'])\n",
    "plt.plot(hist.history['val_loss'])\n",
    "#plt.plot(hist.history['val_accuracy'])\n",
    "plt.title('Loss')\n",
    "plt.legend(['train', 'test'], loc='upper left')\n",
    "plt.show()"
   ]
  },
  {
   "cell_type": "markdown",
   "metadata": {},
   "source": [
    "오버피팅(과적합)\n",
    "모델이 훈련 데이터에 매우 잘 맞지만 일반성이 떨어짐(test loss 우상향)"
   ]
  },
  {
   "cell_type": "code",
   "execution_count": 22,
   "metadata": {},
   "outputs": [
    {
     "name": "stdout",
     "output_type": "stream",
     "text": [
      "[text1]\n",
      "정치 ( 0.99999976 )\n",
      "\n",
      "[text2]\n",
      "IT/과학 ( 0.99498606 )\n",
      "\n",
      "[text3]\n",
      "생활  ( 0.9999747 )\n",
      "\n",
      "[text4]\n",
      "경제 ( 0.96317756 )\n",
      "\n"
     ]
    }
   ],
   "source": [
    "# 기사 섹션 자동 판별\n",
    "\n",
    "import pickle, tfidf\n",
    "import numpy as np\n",
    "import keras\n",
    "from keras.models import Sequential\n",
    "from keras.layers import Dense, Dropout\n",
    "from keras.optimizers import RMSprop\n",
    "from keras.models import model_from_json\n",
    "import warnings\n",
    "warnings.filterwarnings('ignore')\n",
    "\n",
    "# 텍스트 준비하기 --- ( ※ 1)\n",
    "text1 = \"\"\"\n",
    "대통령이 북한과 관련된 이야기로 한미 정상회담을 준비하고 있습니다.\n",
    "\"\"\"\n",
    "text2 = \"\"\"\n",
    "iPhone과 iPad를 모두 가지고 다니므로 USB를 2개 연결할 수 있는 휴대용 배터리를 선호합니다.\n",
    "\"\"\"\n",
    "text3 = \"\"\"\n",
    "이번 주에는 미세먼지가 많을 것으로 예상되므로 노약자는 외출을 자제하는 것이 좋습니다.\n",
    "\"\"\"\n",
    "text4 = \"\"\"\n",
    "국내 개인투자자들의 주식투자 열풍이 불면서 최근 '동학개미운동'이라는 신조어까지 등장한 가운데, 개인투자자들도 향후 시장 움직임에 따른 투자전략을 준비할 필요성이 높아졌다.\n",
    "\"\"\"\n",
    "\n",
    "# TF-IDF 사전 읽어 들이기 --- (*2)\n",
    "tfidf.load_dic(\"./dataset/genre-tdidf.dic\")\n",
    "\n",
    "# Keras 모델 정의하고 가중치 데이터 읽어 들이기 --- (*3)\n",
    "nb_classes = 4\n",
    "model = Sequential()\n",
    "model.add(Dense(512, activation='relu', input_shape=(36120,)))\n",
    "model.add(Dropout(0.2))\n",
    "model.add(Dense(512, activation='relu'))\n",
    "model.add(Dropout(0.2))\n",
    "model.add(Dense(nb_classes, activation='softmax'))\n",
    "model.compile(\n",
    "    loss='categorical_crossentropy',\n",
    "    optimizer=RMSprop(),\n",
    "    metrics=['accuracy'])\n",
    "model.load_weights('./dataset/genre-model.hdf5')\n",
    "\n",
    "# 텍스트 지정해서 판별하기 --- (*4)\n",
    "def check_genre(text):\n",
    "    # 레이블 정의하기\n",
    "    LABELS = [\"정치\", \"경제\", \"생활 \", \"IT/과학\"]\n",
    "    # TF-IDF 벡터로 변환하기 -- (*5)\n",
    "    # 만들어놓은 모듈임\n",
    "    data = tfidf.calc_text(text)\n",
    "    # MLP로 예측하기 --- (*6)\n",
    "    pre = model.predict(np.array([data]))[0]\n",
    "    # argmax(): 최대치의 인덱스를 반환(정수)\n",
    "    n = pre.argmax()\n",
    "    print(LABELS[n], \"(\", pre[n], \")\")\n",
    "    # 인덱스에 해당하는 값, 가장 큰 값\n",
    "    return LABELS[n], float(pre[n]), int(n) \n",
    "\n",
    "# 기사 섹션 자동 판별\n",
    "if __name__ == '__main__':\n",
    "    print('[text1]'); check_genre(text1); print()\n",
    "    print('[text2]'); check_genre(text2); print()\n",
    "    print('[text3]'); check_genre(text3); print()\n",
    "    print('[text4]'); check_genre(text4); print()"
   ]
  }
 ],
 "metadata": {
  "kernelspec": {
   "display_name": "Python 3",
   "language": "python",
   "name": "python3"
  },
  "language_info": {
   "codemirror_mode": {
    "name": "ipython",
    "version": 3
   },
   "file_extension": ".py",
   "mimetype": "text/x-python",
   "name": "python",
   "nbconvert_exporter": "python",
   "pygments_lexer": "ipython3",
   "version": "3.7.7"
  }
 },
 "nbformat": 4,
 "nbformat_minor": 4
}
