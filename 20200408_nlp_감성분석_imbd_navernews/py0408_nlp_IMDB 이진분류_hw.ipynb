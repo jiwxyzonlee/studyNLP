{
 "cells": [
  {
   "cell_type": "markdown",
   "metadata": {},
   "source": [
    "## Q. 아래 사항을 참조하여 IMDB 영화평 감성분석을 딥러닝으로 수행하세요.\n",
    "- 인터넷 영화 데이터베이스로부터 가져온 양극단의 리뷰 50,000개로 이루어진 IMDB 데이터셋을 사용\\\n",
    "  from keras.datasets import imdb\n",
    "- 필요한 특성 개수를 지정 1000\\\n",
    " number_of_features = 1000\\\n",
    " (data_train, target_train), (data_test, target_test) = imdb.load_data(num_words=number_of_features)\n",
    "- IMDB 영화 데이터에서 훈련 데이터와 타깃 벡터를 로드\n",
    "- IMDB 데이터를 원-핫 인코딩된 특성 행렬로 변환\\\n",
    "  tokenizer = Tokenizer(num_words=number_of_features)\\\n",
    "  features_train = tokenizer.sequences_to_matrix(data_train, mode=\"binary\")\\\n",
    "  features_test = tokenizer.sequences_to_matrix(data_test, mode=\"binary\")\n",
    "- 모델 정의\n",
    "  16개의 은닉 유닛을 가진 2개의 은닉층(relu), 1개의 출력층(sigmoid)\n",
    "- 모델 컴파일\n",
    "- 학습 실행\n",
    "- 평가\n",
    "- 에폭별 정확도 시각화 및 적정 에폭 제시"
   ]
  },
  {
   "cell_type": "markdown",
   "metadata": {},
   "source": [
    "https://keras.io/datasets/#imdb-movie-reviews-sentiment-classification"
   ]
  },
  {
   "cell_type": "markdown",
   "metadata": {},
   "source": [
    "Dataset of 25,000 movies reviews from IMDB, labeled by sentiment (positive/negative). Reviews have been preprocessed, and each review is encoded as a sequence of word indexes (integers).\n",
    "\n",
    "For convenience, words are indexed by overall frequency in the dataset, so that for instance the integer \"3\" encodes the 3rd most frequent word in the data. This allows for quick filtering operations such as: \"only consider the top 10,000 most common words, but eliminate the top 20 most common words\".\n",
    "\n",
    "As a convention, \"0\" does not stand for a specific word, but instead is used to encode any unknown word."
   ]
  },
  {
   "cell_type": "code",
   "execution_count": 6,
   "metadata": {},
   "outputs": [],
   "source": [
    "# 인터넷 영화 데이터베이스로부터 가져온 양극단의 리뷰 50,000개로 이루어진 IMDB 데이터셋을 사용\n",
    "from keras.datasets import imdb\n",
    "\n",
    "# 필요한 특성 개수를 지정 1000\n",
    "number_of_features = 1000\n",
    "\n",
    "# IMDB 영화 데이터에서 훈련 데이터와 타깃 벡터를 로드\n",
    "# (data_train, target_train), (data_test, target_test) = imdb.load_data(\n",
    "#     path=\"imdb.npz\"\n",
    "#     , num_words=number_of_features\n",
    "#     , skip_top=0\n",
    "#     , maxlen=None\n",
    "#     , seed=113\n",
    "#     , start_char=1\n",
    "#     , oov_char=2\n",
    "#     , index_from=3\n",
    "# )\n",
    "\n",
    "(data_train, target_train), (data_test, target_test) = imdb.load_data(num_words=number_of_features)\n",
    "# (data_train, target_train), (data_test, target_test)"
   ]
  },
  {
   "cell_type": "markdown",
   "metadata": {},
   "source": [
    "\n",
    "- Returns:\n",
    "\n",
    " - 2 tuples:\n",
    "  - x_train, x_test: list of sequences, which are lists of indexes (integers). If the num_words argument was specific, the maximum possible index value is num_words-1. If the maxlen argument was specified, the largest possible sequence length is maxlen.\n",
    "  - y_train, y_test: list of integer labels (1 or 0).\n",
    "\n",
    "- Arguments:\n",
    "\n",
    " - path: if you do not have the data locally (at '~/.keras/datasets/' + path), it will be downloaded to this location.\n",
    " - num_words: integer or None. Top most frequent words to consider. Any less frequent word will appear as oov_char value in the sequence data.\n",
    " - skip_top: integer. Top most frequent words to ignore (they will appear as oov_char value in the sequence data).\n",
    " - maxlen: int. Maximum sequence length. Any longer sequence will be truncated.\n",
    " - seed: int. Seed for reproducible data shuffling.\n",
    " - start_char: int. The start of a sequence will be marked with this character. Set to 1 because 0 is usually the padding character.\n",
    " - oov_char: int. words that were cut out because of the num_words or skip_top limit will be replaced with this character.\n",
    " - index_from: int. Index actual words with this index and higher."
   ]
  },
  {
   "cell_type": "code",
   "execution_count": 10,
   "metadata": {},
   "outputs": [],
   "source": [
    "# IMDB 데이터를 원-핫 인코딩된 특성 행렬로 변환\n",
    "\n",
    "from keras.preprocessing.text import Tokenizer\n",
    "\n",
    "tokenizer = Tokenizer(num_words=number_of_features)\n",
    "features_train = tokenizer.sequences_to_matrix(data_train, mode=\"binary\")\n",
    "features_test = tokenizer.sequences_to_matrix(data_test, mode=\"binary\")"
   ]
  },
  {
   "cell_type": "markdown",
   "metadata": {},
   "source": [
    "keras tokenizer\n",
    "\n",
    "https://keras.io/preprocessing/text/\n",
    "\n",
    "keras.preprocessing.text.Tokenizer(num_words=None, filters='!\"#$%&()*+,-./:;<=>?@[\\\\]^_`{|}~\\t\\n', lower=True, split=' ', char_level=False, oov_token=None, document_count=0)\n",
    "\n",
    "Text tokenization utility class.\n",
    "\n",
    "This class allows to vectorize a text corpus, by turning each text into either a sequence of integers (each integer being the index of a token in a dictionary) or into a vector where the coefficient for each token could be binary, based on word count, based on tf-idf...\n",
    "\n",
    "- Arguments\n",
    "\n",
    " - num_words: the maximum number of words to keep, based on word frequency. Only the most common num_words-1 words will be kept.\n",
    " - filters: a string where each element is a character that will be filtered from the texts. The default is all punctuation, plus tabs and line breaks, minus the ' character.\n",
    " - lower: boolean. Whether to convert the texts to lowercase.\n",
    " - split: str. Separator for word splitting.\n",
    " - char_level: if True, every character will be treated as a token.\n",
    " - oov_token: if given, it will be added to word_index and used to replace out-of-vocabulary words during text_to_sequence calls\n",
    "\n",
    "By default, all punctuation is removed, turning the texts into space-separated sequences of words (words maybe include the ' character). These sequences are then split into lists of tokens. They will then be indexed or vectorized.\n",
    "\n",
    "0 is a reserved index that won't be assigned to any word."
   ]
  },
  {
   "cell_type": "code",
   "execution_count": 33,
   "metadata": {},
   "outputs": [
    {
     "name": "stdout",
     "output_type": "stream",
     "text": [
      "Model: \"sequential_15\"\n",
      "_________________________________________________________________\n",
      "Layer (type)                 Output Shape              Param #   \n",
      "=================================================================\n",
      "dense_51 (Dense)             (None, 16)                16016     \n",
      "_________________________________________________________________\n",
      "dropout_27 (Dropout)         (None, 16)                0         \n",
      "_________________________________________________________________\n",
      "dense_52 (Dense)             (None, 16)                272       \n",
      "_________________________________________________________________\n",
      "dropout_28 (Dropout)         (None, 16)                0         \n",
      "_________________________________________________________________\n",
      "dense_53 (Dense)             (None, 16)                272       \n",
      "_________________________________________________________________\n",
      "dense_54 (Dense)             (None, 1)                 17        \n",
      "=================================================================\n",
      "Total params: 16,577\n",
      "Trainable params: 16,577\n",
      "Non-trainable params: 0\n",
      "_________________________________________________________________\n",
      "Train on 25000 samples, validate on 25000 samples\n",
      "Epoch 1/10\n",
      "25000/25000 [==============================] - 1s 24us/step - loss: 0.5066 - accuracy: 0.7561 - val_loss: 0.3540 - val_accuracy: 0.8496\n",
      "Epoch 2/10\n",
      "25000/25000 [==============================] - 0s 19us/step - loss: 0.3650 - accuracy: 0.8465 - val_loss: 0.3313 - val_accuracy: 0.8581\n",
      "Epoch 3/10\n",
      "25000/25000 [==============================] - 0s 18us/step - loss: 0.3270 - accuracy: 0.8634 - val_loss: 0.3254 - val_accuracy: 0.8596\n",
      "Epoch 4/10\n",
      "25000/25000 [==============================] - 0s 20us/step - loss: 0.3078 - accuracy: 0.8733 - val_loss: 0.3385 - val_accuracy: 0.8528\n",
      "Epoch 5/10\n",
      "25000/25000 [==============================] - 0s 18us/step - loss: 0.2927 - accuracy: 0.8820 - val_loss: 0.3346 - val_accuracy: 0.8574\n",
      "Epoch 6/10\n",
      "25000/25000 [==============================] - 0s 18us/step - loss: 0.2778 - accuracy: 0.8896 - val_loss: 0.3439 - val_accuracy: 0.8538\n",
      "Epoch 7/10\n",
      "25000/25000 [==============================] - 0s 18us/step - loss: 0.2671 - accuracy: 0.8936 - val_loss: 0.3393 - val_accuracy: 0.8548\n",
      "Epoch 8/10\n",
      "25000/25000 [==============================] - 0s 18us/step - loss: 0.2525 - accuracy: 0.9027 - val_loss: 0.3516 - val_accuracy: 0.8516\n",
      "Epoch 9/10\n",
      "25000/25000 [==============================] - 0s 18us/step - loss: 0.2453 - accuracy: 0.9060 - val_loss: 0.3584 - val_accuracy: 0.8528\n",
      "Epoch 10/10\n",
      "25000/25000 [==============================] - 0s 18us/step - loss: 0.2357 - accuracy: 0.9120 - val_loss: 0.3680 - val_accuracy: 0.8539\n",
      "25000/25000 [==============================] - 0s 16us/step\n",
      "accuracy= 0.853879988193512 loss= 0.3679722707605362\n"
     ]
    },
    {
     "data": {
      "image/png": "[encoded data removed]",
      "text/plain": [
       "<Figure size 432x288 with 1 Axes>"
      ]
     },
     "metadata": {
      "needs_background": "light"
     },
     "output_type": "display_data"
    },
    {
     "data": {
      "image/png": "[encoded data removed]",
      "text/plain": [
       "<Figure size 432x288 with 1 Axes>"
      ]
     },
     "metadata": {
      "needs_background": "light"
     },
     "output_type": "display_data"
    }
   ],
   "source": [
    "import sklearn.metrics as metrics\n",
    "import keras\n",
    "from keras.models import Sequential\n",
    "from keras.layers import Dense, Dropout\n",
    "from keras.optimizers import RMSprop\n",
    "import matplotlib.pyplot as plt\n",
    "import h5py\n",
    "import warnings\n",
    "warnings.filterwarnings('ignore')\n",
    "\n",
    "# 모델 정의 16개의 은닉 유닛을 가진 2개의 은닉층(relu), 1개의 출력층(sigmoid)\n",
    "\n",
    "model = Sequential()\n",
    "# Input - Layer\n",
    "model.add(Dense(16, activation='relu', input_shape=(1000, )))\n",
    "# Hidden - Layers\n",
    "model.add(Dropout(0.2, noise_shape=None, seed=None))\n",
    "model.add(Dense(16, activation = \"relu\"))\n",
    "model.add(Dropout(0.2, noise_shape=None, seed=None))\n",
    "model.add(Dense(16, activation = \"relu\"))\n",
    "# Output- Layer\n",
    "model.add(Dense(1, activation = \"sigmoid\"))\n",
    "model.summary()\n",
    "\n",
    "\n",
    "# 모델 컴파일하기\n",
    "model.compile(\n",
    "    loss='binary_crossentropy',\n",
    "    optimizer=RMSprop(),\n",
    "    metrics=['accuracy'])\n",
    "\n",
    "\n",
    "# 학습 실행하기 \n",
    "hist = model.fit(features_train, target_train\n",
    "                 , batch_size=128\n",
    "                 , epochs=10\n",
    "                 , verbose=1\n",
    "                 , validation_data=(features_test, target_test))\n",
    "\n",
    "\n",
    "# 평가하기 \n",
    "score = model.evaluate(features_test, target_test, verbose=1)\n",
    "print(\"accuracy=\", score[1], 'loss=', score[0])\n",
    "\n",
    "# 가중치데이터 저장하기 \n",
    "model.save_weights('./dataset/genre-model.hdf5')\n",
    "\n",
    "# 에폭별 정확도 시각화 및 적정 에폭 제시\n",
    "# plt.plot(hist.history['loss'])\n",
    "plt.plot(hist.history['accuracy'])\n",
    "# plt.plot(hist.history['val_loss'])\n",
    "plt.plot(hist.history['val_accuracy'])\n",
    "plt.title('Accuracy')\n",
    "plt.legend(['train', 'test'], loc='upper left')\n",
    "plt.show()\n",
    "\n",
    "plt.plot(hist.history['loss'])\n",
    "#plt.plot(hist.history['accuracy'])\n",
    "plt.plot(hist.history['val_loss'])\n",
    "#plt.plot(hist.history['val_accuracy'])\n",
    "plt.title('Loss')\n",
    "plt.legend(['train', 'test'], loc='upper left')\n",
    "plt.show()"
   ]
  }
 ],
 "metadata": {
  "kernelspec": {
   "display_name": "Python 3",
   "language": "python",
   "name": "python3"
  },
  "language_info": {
   "codemirror_mode": {
    "name": "ipython",
    "version": 3
   },
   "file_extension": ".py",
   "mimetype": "text/x-python",
   "name": "python",
   "nbconvert_exporter": "python",
   "pygments_lexer": "ipython3",
   "version": "3.7.7"
  }
 },
 "nbformat": 4,
 "nbformat_minor": 2
}
