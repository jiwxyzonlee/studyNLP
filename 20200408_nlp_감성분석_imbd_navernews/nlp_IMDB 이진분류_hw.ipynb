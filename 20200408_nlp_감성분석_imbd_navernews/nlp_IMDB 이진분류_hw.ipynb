{
 "cells": [
  {
   "cell_type": "markdown",
   "metadata": {},
   "source": [
    "## Q. 아래 사항을 참조하여 IMDB 영화평 감성분석을 딥러닝으로 수행하세요.\n",
    "- 인터넷 영화 데이터베이스로부터 가져온 양극단의 리뷰 50,000개로 이루어진 IMDB 데이터셋을 사용\\\n",
    "  from keras.datasets import imdb\n",
    "- 필요한 특성 개수를 지정 1000\n",
    "- IMDB 영화 데이터에서 훈련 데이터와 타깃 벡터를 로드\n",
    "- IMDB 데이터를 원-핫 인코딩된 특성 행렬로 변환\\\n",
    "  tokenizer = Tokenizer(num_words=number_of_features)\\\n",
    "  features_train = tokenizer.sequences_to_matrix(data_train, mode=\"binary\")\\\n",
    "  features_test = tokenizer.sequences_to_matrix(data_test, mode=\"binary\")\n",
    "- 모델 정의\n",
    "  16개의 은닉 유닛을 가진 2개의 은닉층(relu), 1개의 출력층(sigmoid)\n",
    "- 모델 컴파일\n",
    "- 학습 실행\n",
    "- 평가\n",
    "- 에폭별 정확도 시각화 및 적정 에폭 제시"
   ]
  },
  {
   "cell_type": "code",
   "execution_count": null,
   "metadata": {},
   "outputs": [],
   "source": []
  }
 ],
 "metadata": {
  "kernelspec": {
   "display_name": "Python 3",
   "language": "python",
   "name": "python3"
  },
  "language_info": {
   "codemirror_mode": {
    "name": "ipython",
    "version": 3
   },
   "file_extension": ".py",
   "mimetype": "text/x-python",
   "name": "python",
   "nbconvert_exporter": "python",
   "pygments_lexer": "ipython3",
   "version": "3.7.7"
  }
 },
 "nbformat": 4,
 "nbformat_minor": 2
}
