{
 "cells": [
  {
   "cell_type": "markdown",
   "metadata": {},
   "source": [
    "### Q. 로이터 뉴스를 46개의 상호 배타적인 토픽으로 분류하는 신경망 모델 개발\n",
    "- 데이터 소스 : from keras.datasets import reuters\n",
    "- 데이터 및 레이블 벡터 변환 : 주어진 사용자 함수 참조\n",
    "- 모델 구성 : 2개 은닉층(64개 유닛), 1개 출력층\n",
    "- 검증(validation) : 훈련 데이터에서 1000개 분리하여 검증 데이터로 사용\n",
    "- 시각화 : 정확도와 손실율 곡선을 비교 시사점 도출"
   ]
  },
  {
   "cell_type": "markdown",
   "metadata": {},
   "source": [
    "### Reuters newswire topics classification\n",
    "Dataset of 11,228 newswires from Reuters, labeled over 46 topics. As with the IMDB dataset, each wire is encoded as a sequence of word indexes (same conventions)\n",
    "\n",
    "https://keras.io/datasets/#reuters-newswire-topics-classification"
   ]
  },
  {
   "cell_type": "code",
   "execution_count": 1,
   "metadata": {},
   "outputs": [
    {
     "name": "stderr",
     "output_type": "stream",
     "text": [
      "Using TensorFlow backend.\n"
     ]
    }
   ],
   "source": [
    "from keras.datasets import reuters\n",
    "\n",
    "(x_train, y_train), (x_test, y_test) = reuters.load_data(num_words=10000, seed=113)"
   ]
  },
  {
   "cell_type": "code",
   "execution_count": 2,
   "metadata": {},
   "outputs": [
    {
     "name": "stdout",
     "output_type": "stream",
     "text": [
      "8982\n"
     ]
    }
   ],
   "source": [
    "print(len(x_train))"
   ]
  },
  {
   "cell_type": "code",
   "execution_count": 3,
   "metadata": {},
   "outputs": [
    {
     "name": "stdout",
     "output_type": "stream",
     "text": [
      "2246\n"
     ]
    }
   ],
   "source": [
    "print(len(x_test))"
   ]
  },
  {
   "cell_type": "markdown",
   "metadata": {},
   "source": [
    "참고: \n",
    "https://tensorflow.blog/%EC%BC%80%EB%9D%BC%EC%8A%A4-%EB%94%A5%EB%9F%AC%EB%8B%9D/3-5-%EB%89%B4%EC%8A%A4-%EA%B8%B0%EC%82%AC-%EB%B6%84%EB%A5%98-%EB%8B%A4%EC%A4%91-%EB%B6%84%EB%A5%98-%EB%AC%B8%EC%A0%9C/"
   ]
  },
  {
   "cell_type": "code",
   "execution_count": 4,
   "metadata": {},
   "outputs": [],
   "source": [
    "# 데이터를 벡터로 변환\n",
    "import numpy as np\n",
    "\n",
    "def vectorize_sequence(sequences, dimension=10000):\n",
    "    results = np.zeros((len(sequences), dimension))\n",
    "    for i, sequence in enumerate(sequences):\n",
    "        results[i, sequence] = 1.\n",
    "    return results\n",
    "\n",
    "x_train = vectorize_sequence(x_train) # 훈련 데이터 벡터 변환\n",
    "x_test = vectorize_sequence(x_test) # 테스트 데이터 벡터 변환"
   ]
  },
  {
   "cell_type": "code",
   "execution_count": 5,
   "metadata": {},
   "outputs": [],
   "source": [
    "# 레이블을 벡터로 변환\n",
    "def to_one_hot(labels, dimension=46):\n",
    "    result = np.zeros((len(labels), dimension))\n",
    "    for i, label in enumerate(labels):\n",
    "        result[i, label] = 1.\n",
    "    return result\n",
    "\n",
    "one_hot_train_labels = to_one_hot(y_train) # 훈련 레이블 벡터 변환\n",
    "one_hot_test_labels = to_one_hot(y_test) # 테스트 레이블 벡터 변환"
   ]
  },
  {
   "cell_type": "code",
   "execution_count": 15,
   "metadata": {},
   "outputs": [
    {
     "name": "stdout",
     "output_type": "stream",
     "text": [
      "Model: \"sequential_10\"\n",
      "_________________________________________________________________\n",
      "Layer (type)                 Output Shape              Param #   \n",
      "=================================================================\n",
      "dense_37 (Dense)             (None, 64)                640064    \n",
      "_________________________________________________________________\n",
      "dropout_19 (Dropout)         (None, 64)                0         \n",
      "_________________________________________________________________\n",
      "dense_38 (Dense)             (None, 64)                4160      \n",
      "_________________________________________________________________\n",
      "dropout_20 (Dropout)         (None, 64)                0         \n",
      "_________________________________________________________________\n",
      "dense_39 (Dense)             (None, 64)                4160      \n",
      "_________________________________________________________________\n",
      "dense_40 (Dense)             (None, 46)                2990      \n",
      "=================================================================\n",
      "Total params: 651,374\n",
      "Trainable params: 651,374\n",
      "Non-trainable params: 0\n",
      "_________________________________________________________________\n",
      "Train on 7982 samples, validate on 1000 samples\n",
      "Epoch 1/16\n",
      "7982/7982 [==============================] - 1s 102us/step - loss: 2.6587 - accuracy: 0.4034 - val_loss: 1.7606 - val_accuracy: 0.5880\n",
      "Epoch 2/16\n",
      "7982/7982 [==============================] - 1s 92us/step - loss: 1.6115 - accuracy: 0.6312 - val_loss: 1.4143 - val_accuracy: 0.6880\n",
      "Epoch 3/16\n",
      "7982/7982 [==============================] - 1s 89us/step - loss: 1.2950 - accuracy: 0.6974 - val_loss: 1.2497 - val_accuracy: 0.7010\n",
      "Epoch 4/16\n",
      "7982/7982 [==============================] - 1s 89us/step - loss: 1.0960 - accuracy: 0.7359 - val_loss: 1.1563 - val_accuracy: 0.7300\n",
      "Epoch 5/16\n",
      "7982/7982 [==============================] - 1s 88us/step - loss: 0.9378 - accuracy: 0.7813 - val_loss: 1.0912 - val_accuracy: 0.7510\n",
      "Epoch 6/16\n",
      "7982/7982 [==============================] - 1s 89us/step - loss: 0.8196 - accuracy: 0.8117 - val_loss: 1.0285 - val_accuracy: 0.7750\n",
      "Epoch 7/16\n",
      "7982/7982 [==============================] - 1s 90us/step - loss: 0.7133 - accuracy: 0.8360 - val_loss: 0.9916 - val_accuracy: 0.7840\n",
      "Epoch 8/16\n",
      "7982/7982 [==============================] - 1s 89us/step - loss: 0.6232 - accuracy: 0.8500 - val_loss: 0.9912 - val_accuracy: 0.7960\n",
      "Epoch 9/16\n",
      "7982/7982 [==============================] - 1s 89us/step - loss: 0.5440 - accuracy: 0.8698 - val_loss: 1.0309 - val_accuracy: 0.7860\n",
      "Epoch 10/16\n",
      "7982/7982 [==============================] - 1s 92us/step - loss: 0.4872 - accuracy: 0.8832 - val_loss: 0.9911 - val_accuracy: 0.8000\n",
      "Epoch 11/16\n",
      "7982/7982 [==============================] - 1s 89us/step - loss: 0.4219 - accuracy: 0.8975 - val_loss: 1.0390 - val_accuracy: 0.7900\n",
      "Epoch 12/16\n",
      "7982/7982 [==============================] - 1s 89us/step - loss: 0.3770 - accuracy: 0.9038 - val_loss: 1.0330 - val_accuracy: 0.8060\n",
      "Epoch 13/16\n",
      "7982/7982 [==============================] - 1s 89us/step - loss: 0.3435 - accuracy: 0.9162 - val_loss: 1.0227 - val_accuracy: 0.8020\n",
      "Epoch 14/16\n",
      "7982/7982 [==============================] - 1s 89us/step - loss: 0.3089 - accuracy: 0.9213 - val_loss: 1.0618 - val_accuracy: 0.8060\n",
      "Epoch 15/16\n",
      "7982/7982 [==============================] - 1s 89us/step - loss: 0.2760 - accuracy: 0.9300 - val_loss: 1.0848 - val_accuracy: 0.8100\n",
      "Epoch 16/16\n",
      "7982/7982 [==============================] - 1s 89us/step - loss: 0.2561 - accuracy: 0.9386 - val_loss: 1.1027 - val_accuracy: 0.8050\n",
      "2246/2246 [==============================] - 0s 85us/step\n",
      "\n",
      "accuracy= 0.7845057845115662 loss= 1.2270464041566382\n"
     ]
    },
    {
     "data": {
      "image/png": "[encoded data removed]",
      "text/plain": [
       "<Figure size 432x288 with 1 Axes>"
      ]
     },
     "metadata": {
      "needs_background": "light"
     },
     "output_type": "display_data"
    },
    {
     "data": {
      "image/png": "[encoded data removed]",
      "text/plain": [
       "<Figure size 432x288 with 1 Axes>"
      ]
     },
     "metadata": {
      "needs_background": "light"
     },
     "output_type": "display_data"
    }
   ],
   "source": [
    "import sklearn.metrics as metrics\n",
    "import keras\n",
    "from keras.models import Sequential\n",
    "from keras.layers import Dense, Dropout\n",
    "import matplotlib.pyplot as plt\n",
    "import h5py\n",
    "import warnings\n",
    "warnings.filterwarnings('ignore')\n",
    "\n",
    "# 신경망 모델 정의 16개의 은닉 유닛을 가진 2개의 은닉층(relu) 64개 유닛, 1개의 출력층(softmax)\n",
    "model = Sequential()\n",
    "# Input - Layer\n",
    "model.add(Dense(64, activation='relu', input_shape=(10000, )))\n",
    "# Hidden - Layers\n",
    "model.add(Dropout(0.2, noise_shape=None, seed=None))\n",
    "model.add(Dense(64, activation = \"relu\"))\n",
    "model.add(Dropout(0.2, noise_shape=None, seed=None))\n",
    "model.add(Dense(64, activation = \"relu\"))\n",
    "# Output- Layer\n",
    "model.add(Dense(46, activation = \"softmax\")) # 다중이므로 softmax 써야 함\n",
    "model.summary()\n",
    "\n",
    "\n",
    "# 모델 컴파일하기\n",
    "model.compile(\n",
    "    loss='categorical_crossentropy',\n",
    "    optimizer='rmsprop',\n",
    "    metrics=['accuracy'])\n",
    "\n",
    "\n",
    "# # 학습 실행하기 \n",
    "# hist = model.fit(x_train, one_hot_train_labels\n",
    "#                  , batch_size=1000\n",
    "#                  , epochs=10\n",
    "#                  , verbose=1\n",
    "#                  , validation_data=(x_test, one_hot_test_labels))\n",
    "\n",
    "x_val = x_train[:1000]\n",
    "partial_x_train = x_train[1000:]\n",
    "\n",
    "y_val = one_hot_train_labels[:1000]\n",
    "partial_y_train = one_hot_train_labels[1000:]\n",
    "\n",
    "hist = model.fit(partial_x_train,\n",
    "                    partial_y_train,\n",
    "                    epochs=16,\n",
    "                    batch_size=512,\n",
    "                    validation_data=(x_val, y_val))\n",
    "\n",
    "# 모델 성능 평가하기 \n",
    "score = model.evaluate(x_test, one_hot_test_labels, verbose=1)\n",
    "print()\n",
    "print(\"accuracy=\", score[1], 'loss=', score[0])\n",
    "\n",
    "# 가중치데이터 저장하기 \n",
    "model.save_weights('./dataset/genre-model.hdf5')\n",
    "\n",
    "# 에폭별 정확도 시각화\n",
    "loss = hist.history['loss']\n",
    "val_loss = hist.history['val_loss']\n",
    "\n",
    "# 에포크 횟수를 사용해 카운트 객체 생성\n",
    "epochs = range(1, len(loss) + 1)\n",
    "\n",
    "plt.plot(epochs, loss, label='Training loss')\n",
    "plt.plot(epochs, val_loss, label='Validation loss')\n",
    "plt.title('Training and validation loss')\n",
    "plt.xlabel('Epochs')\n",
    "plt.ylabel('Loss')\n",
    "plt.legend()\n",
    "\n",
    "plt.show()\n",
    "\n",
    "acc = hist.history['accuracy']\n",
    "val_acc = hist.history['val_accuracy']\n",
    "\n",
    "plt.plot(epochs, acc, label='Training acc')\n",
    "plt.plot(epochs, val_acc, label='Validation acc')\n",
    "plt.title('Training and validation accuracy')\n",
    "plt.xlabel('Epochs')\n",
    "plt.ylabel('Accuracy')\n",
    "plt.legend()\n",
    "\n",
    "plt.show()"
   ]
  },
  {
   "cell_type": "markdown",
   "metadata": {},
   "source": [
    "### 같은 문제 - 특성행렬 변환으로 tokenizer을 사용한 신경망 모델\n",
    "- keras에서 tokenizer 제공, 이 방법이 더 쉬움"
   ]
  },
  {
   "cell_type": "code",
   "execution_count": 20,
   "metadata": {},
   "outputs": [
    {
     "name": "stdout",
     "output_type": "stream",
     "text": [
      "Train on 8982 samples, validate on 2246 samples\n",
      "Epoch 1/30\n",
      "8982/8982 [==============================] - 2s 235us/step - loss: 2.0762 - accuracy: 0.5210 - val_loss: 1.4397 - val_accuracy: 0.6812\n",
      "Epoch 2/30\n",
      "8982/8982 [==============================] - 2s 218us/step - loss: 1.4040 - accuracy: 0.6776 - val_loss: 1.2643 - val_accuracy: 0.7061\n",
      "Epoch 3/30\n",
      "8982/8982 [==============================] - 2s 207us/step - loss: 1.2047 - accuracy: 0.7207 - val_loss: 1.1596 - val_accuracy: 0.7404\n",
      "Epoch 4/30\n",
      "8982/8982 [==============================] - 2s 206us/step - loss: 1.0652 - accuracy: 0.7570 - val_loss: 1.1070 - val_accuracy: 0.7609\n",
      "Epoch 5/30\n",
      "8982/8982 [==============================] - 2s 207us/step - loss: 0.9813 - accuracy: 0.7784 - val_loss: 1.0672 - val_accuracy: 0.7738\n",
      "Epoch 6/30\n",
      "8982/8982 [==============================] - 2s 206us/step - loss: 0.8892 - accuracy: 0.7941 - val_loss: 1.0583 - val_accuracy: 0.7774\n",
      "Epoch 7/30\n",
      "8982/8982 [==============================] - 2s 206us/step - loss: 0.8301 - accuracy: 0.8093 - val_loss: 1.0516 - val_accuracy: 0.7801\n",
      "Epoch 8/30\n",
      "8982/8982 [==============================] - 2s 207us/step - loss: 0.7752 - accuracy: 0.8187 - val_loss: 1.0495 - val_accuracy: 0.7836\n",
      "Epoch 9/30\n",
      "8982/8982 [==============================] - 2s 207us/step - loss: 0.7239 - accuracy: 0.8281 - val_loss: 1.0636 - val_accuracy: 0.7872\n",
      "Epoch 10/30\n",
      "8982/8982 [==============================] - 2s 210us/step - loss: 0.6858 - accuracy: 0.8379 - val_loss: 1.0767 - val_accuracy: 0.7912\n",
      "Epoch 11/30\n",
      "8982/8982 [==============================] - 2s 208us/step - loss: 0.6576 - accuracy: 0.8452 - val_loss: 1.0930 - val_accuracy: 0.7898\n",
      "Epoch 12/30\n",
      "8982/8982 [==============================] - 2s 210us/step - loss: 0.6376 - accuracy: 0.8500 - val_loss: 1.1200 - val_accuracy: 0.7925\n",
      "Epoch 13/30\n",
      "8982/8982 [==============================] - 2s 207us/step - loss: 0.5944 - accuracy: 0.8597 - val_loss: 1.1517 - val_accuracy: 0.7970\n",
      "Epoch 14/30\n",
      "8982/8982 [==============================] - 2s 208us/step - loss: 0.5717 - accuracy: 0.8599 - val_loss: 1.1841 - val_accuracy: 0.7965\n",
      "Epoch 15/30\n",
      "8982/8982 [==============================] - 2s 206us/step - loss: 0.5367 - accuracy: 0.8715 - val_loss: 1.2258 - val_accuracy: 0.7925\n",
      "Epoch 16/30\n",
      "8982/8982 [==============================] - 2s 209us/step - loss: 0.5326 - accuracy: 0.8756 - val_loss: 1.2133 - val_accuracy: 0.7983\n",
      "Epoch 17/30\n",
      "8982/8982 [==============================] - 2s 207us/step - loss: 0.5043 - accuracy: 0.8786 - val_loss: 1.2864 - val_accuracy: 0.7988\n",
      "Epoch 18/30\n",
      "8982/8982 [==============================] - 2s 208us/step - loss: 0.5027 - accuracy: 0.8818 - val_loss: 1.3105 - val_accuracy: 0.8010\n",
      "Epoch 19/30\n",
      "8982/8982 [==============================] - 2s 209us/step - loss: 0.4803 - accuracy: 0.8866 - val_loss: 1.3057 - val_accuracy: 0.7983\n",
      "Epoch 20/30\n",
      "8982/8982 [==============================] - 2s 208us/step - loss: 0.4791 - accuracy: 0.8843 - val_loss: 1.3278 - val_accuracy: 0.7992\n",
      "Epoch 21/30\n",
      "8982/8982 [==============================] - 2s 211us/step - loss: 0.4619 - accuracy: 0.8888 - val_loss: 1.3653 - val_accuracy: 0.7996\n",
      "Epoch 22/30\n",
      "8982/8982 [==============================] - 2s 208us/step - loss: 0.4476 - accuracy: 0.8907 - val_loss: 1.3605 - val_accuracy: 0.7988\n",
      "Epoch 23/30\n",
      "8982/8982 [==============================] - 2s 211us/step - loss: 0.4391 - accuracy: 0.8936 - val_loss: 1.4226 - val_accuracy: 0.8010\n",
      "Epoch 24/30\n",
      "8982/8982 [==============================] - 2s 208us/step - loss: 0.4361 - accuracy: 0.8978 - val_loss: 1.4724 - val_accuracy: 0.8037\n",
      "Epoch 25/30\n",
      "8982/8982 [==============================] - 2s 207us/step - loss: 0.4299 - accuracy: 0.8997 - val_loss: 1.4617 - val_accuracy: 0.8014\n",
      "Epoch 26/30\n",
      "8982/8982 [==============================] - 2s 208us/step - loss: 0.4118 - accuracy: 0.9021 - val_loss: 1.4845 - val_accuracy: 0.8032\n",
      "Epoch 27/30\n",
      "8982/8982 [==============================] - 2s 211us/step - loss: 0.4077 - accuracy: 0.9008 - val_loss: 1.5160 - val_accuracy: 0.8014\n",
      "Epoch 28/30\n",
      "8982/8982 [==============================] - 2s 208us/step - loss: 0.3994 - accuracy: 0.9069 - val_loss: 1.5401 - val_accuracy: 0.8050\n",
      "Epoch 29/30\n",
      "8982/8982 [==============================] - 2s 209us/step - loss: 0.4056 - accuracy: 0.9047 - val_loss: 1.5649 - val_accuracy: 0.8014\n",
      "Epoch 30/30\n",
      "8982/8982 [==============================] - 2s 208us/step - loss: 0.3878 - accuracy: 0.9079 - val_loss: 1.5562 - val_accuracy: 0.8037\n",
      "\n",
      "\n",
      "모델 성능 :\n",
      "2246/2246 [==============================] - 0s 102us/step\n",
      "accuracy=  0.8036509156227112 loss=  1.5562256858057988\n"
     ]
    }
   ],
   "source": [
    "import numpy as np\n",
    "from keras.datasets import reuters\n",
    "from keras.utils.np_utils import to_categorical\n",
    "from keras.preprocessing.text import Tokenizer\n",
    "from keras import models\n",
    "from keras import layers\n",
    "from keras import regularizers\n",
    "from keras.callbacks import EarlyStopping, ModelCheckpoint\n",
    "\n",
    "# 랜덤 시드를 설정합니다.\n",
    "np.random.seed(0)\n",
    "\n",
    "# 필요한 특성 개수를 지정합니다.\n",
    "number_of_features = 10000\n",
    "\n",
    "# 특성과 타깃 데이터를 로드합니다.\n",
    "data = reuters.load_data(num_words=number_of_features)\n",
    "(data_train, target_vector_train), (data_test, target_vector_test) = data\n",
    "\n",
    "# 특성 데이터를 원-핫 인코딩된 특성 행렬로 변환합니다.\n",
    "tokenizer = Tokenizer(num_words=number_of_features)\n",
    "features_train = tokenizer.sequences_to_matrix(data_train, mode=\"binary\")\n",
    "features_test = tokenizer.sequences_to_matrix(data_test, mode=\"binary\")\n",
    "\n",
    "# 참고: 데이터를 벡터로 변환\n",
    "# import numpy as np\n",
    "\n",
    "# def vectorize_sequence(sequences, dimension=10000):\n",
    "#     results = np.zeros((len(sequences), dimension))\n",
    "#     for i, sequence in enumerate(sequences):\n",
    "#         results[i, sequence] = 1.\n",
    "#     return results\n",
    "\n",
    "# x_train = vectorize_sequence(x_train) # 훈련 데이터 벡터 변환\n",
    "# x_test = vectorize_sequence(x_test) # 테스트 데이터 벡터 변환\n",
    "\n",
    "\n",
    "# 타깃 벡터를 원-핫 인코딩하여 타깃 행렬을 만듭니다.\n",
    "target_train = to_categorical(target_vector_train)\n",
    "target_test = to_categorical(target_vector_test)\n",
    "\n",
    "# 참고: 레이블을 벡터로 변환\n",
    "# def to_one_hot(labels, dimension=46):\n",
    "#     result = np.zeros((len(labels), dimension))\n",
    "#     for i, label in enumerate(labels):\n",
    "#         result[i, label] = 1.\n",
    "#     return result\n",
    "\n",
    "# one_hot_train_labels = to_one_hot(y_train) # 훈련 레이블 벡터 변환\n",
    "# one_hot_test_labels = to_one_hot(y_test) # 테스트 레이블 벡터 변환\n",
    "\n",
    "# 신경망 모델을 만듭니다.\n",
    "network = models.Sequential()\n",
    "network.add(layers.Dropout(0.2, input_shape=(number_of_features,)))\n",
    "\n",
    "network.add(layers.Dense(units=100,\n",
    "#                          kernel_regularizer=regularizers.l2(0.01),\n",
    "                         activation=\"relu\",\n",
    "                         input_shape=(number_of_features,)))\n",
    "network.add(layers.Dropout(0.5))\n",
    "network.add(layers.Dense(units=100,\n",
    "#                          kernel_regularizer=regularizers.l2(0.01),\n",
    "                         activation=\"relu\"))\n",
    "network.add(layers.Dropout(0.5))\n",
    "network.add(layers.Dense(units=46, activation=\"softmax\"))\n",
    "\n",
    "# 신경망의 모델 설정을 완료합니다.\n",
    "# 다중 분류에 맞은 손실 함수인 범주형 크로스엔트로피를 사용하기 위해\n",
    "# categorical_ crossentropy로 설정\n",
    "network.compile(loss=\"categorical_crossentropy\", \n",
    "                optimizer=\"rmsprop\", # 옵티마이저\n",
    "                metrics=[\"accuracy\"]) # 성능 지표\n",
    "\n",
    "# 조기 종료\n",
    "callbacks = [EarlyStopping(monitor=\"val_loss\", patience=2),\n",
    "             ModelCheckpoint(filepath=\"bestm_model.h5\",\n",
    "                             monitor=\"val_loss\",\n",
    "                             save_best_only=True)]\n",
    "\n",
    "# 신경망을 훈련합니다.\n",
    "history = network.fit(features_train, # 특성\n",
    "                      target_train, # 타깃\n",
    "                      epochs=30, \n",
    "                      verbose=1, # 출력 없음\n",
    "                      batch_size=100, # 배치의 샘플 개수\n",
    "                      validation_data=(features_test, target_test)) # 테스트 데이터\n",
    "\n",
    "# 훈련 손실과 테스트 손실의 기록을 저장합니다.\n",
    "training_accuracy = history.history[\"accuracy\"]\n",
    "test_accuracy = history.history[\"val_accuracy\"]\n",
    "\n",
    "loss = history.history['loss']\n",
    "test_loss = history.history['val_loss']\n",
    "\n",
    "# 에포크 횟수를 사용해 카운트 객체를 만듭니다.\n",
    "epoch_count = range(1, len(training_accuracy) + 1)\n",
    "\n",
    "print('\\n')\n",
    "print('모델 성능 :')\n",
    "score = network.evaluate(features_test, target_test)\n",
    "print('accuracy= ', score[1], 'loss= ', score[0])"
   ]
  },
  {
   "cell_type": "code",
   "execution_count": 23,
   "metadata": {},
   "outputs": [
    {
     "data": {
      "image/png": "[encoded data removed]",
      "text/plain": [
       "<Figure size 432x288 with 1 Axes>"
      ]
     },
     "metadata": {
      "needs_background": "light"
     },
     "output_type": "display_data"
    }
   ],
   "source": [
    "import matplotlib.pyplot as plt\n",
    "%matplotlib inline\n",
    "# 다른 에디터는 상관 없으나 주피터는 필요\n",
    "# 시각화\n",
    "training_accuracy = history.history[\"accuracy\"]\n",
    "test_accuracy = history.history[\"val_accuracy\"]\n",
    "plt.plot(epoch_count, training_accuracy, \"r--\")\n",
    "plt.plot(epoch_count, test_accuracy, \"b-\")\n",
    "\n",
    "# 정확도 그래프를 그립니다.\n",
    "plt.legend([\"Training Accuracy\", \"Test Accuracy\"])\n",
    "plt.xlabel(\"Epoch\")\n",
    "plt.ylabel(\"Accuracy Score\")\n",
    "plt.show()\n",
    "plt.close()"
   ]
  },
  {
   "cell_type": "code",
   "execution_count": 24,
   "metadata": {},
   "outputs": [
    {
     "data": {
      "image/png": "[encoded data removed]",
      "text/plain": [
       "<Figure size 432x288 with 1 Axes>"
      ]
     },
     "metadata": {
      "needs_background": "light"
     },
     "output_type": "display_data"
    }
   ],
   "source": [
    "plt.plot(epochs, loss, label='Training loss')\n",
    "plt.plot(epochs, test_loss, label='Test loss')\n",
    "plt.title('Training and Test loss')\n",
    "plt.xlabel('Epochs')\n",
    "plt.ylabel('Loss')\n",
    "plt.legend()\n",
    "\n",
    "plt.show()"
   ]
  }
 ],
 "metadata": {
  "kernelspec": {
   "display_name": "Python 3",
   "language": "python",
   "name": "python3"
  },
  "language_info": {
   "codemirror_mode": {
    "name": "ipython",
    "version": 3
   },
   "file_extension": ".py",
   "mimetype": "text/x-python",
   "name": "python",
   "nbconvert_exporter": "python",
   "pygments_lexer": "ipython3",
   "version": "3.7.7"
  }
 },
 "nbformat": 4,
 "nbformat_minor": 2
}
