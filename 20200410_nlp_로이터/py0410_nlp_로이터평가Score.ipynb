{
 "cells": [
  {
   "cell_type": "markdown",
   "metadata": {},
   "source": [
    "### Q. 로이터 뉴스를 46개의 상호 배타적인 토픽으로 분류하는 신경망 모델을 개발 및 평가하세요.\n",
    "- 데이터 소스 : from keras.datasets import reuters\n",
    "- 데이터 및 레이블 벡터 변환 : 주어진 사용자 함수 참조\n",
    "- 모델 구성 : 2개 은닉층(64개 유닛), 1개 출력층\n",
    "- 성능 개선 : 과대 적합 방지 3개 방법 적용\n",
    "- 시각화 : Accuracy, Val_Accuracy 비교 시사점 도출\n",
    "#### 공용 폴더에 제출하세요.(401공유폴더\\NLP)\n",
    "- 파일명 : 이름_평가Score.ipynb"
   ]
  },
  {
   "cell_type": "code",
   "execution_count": 1,
   "metadata": {},
   "outputs": [
    {
     "name": "stderr",
     "output_type": "stream",
     "text": [
      "Using TensorFlow backend.\n"
     ]
    }
   ],
   "source": [
    "import numpy as np\n",
    "import matplotlib.pyplot as plt\n",
    "from keras.utils.np_utils import to_categorical\n",
    "from keras.preprocessing.text import Tokenizer\n",
    "from keras import models\n",
    "from keras import layers\n",
    "from keras import regularizers\n",
    "from keras.callbacks import EarlyStopping, ModelCheckpoint\n",
    "\n",
    "# 데이터 소스\n",
    "from keras.datasets import reuters\n",
    "\n",
    "# 랜덤 시드\n",
    "np.random.seed(0)\n",
    "\n",
    "number_of_features = 10000\n",
    "\n",
    "# 데이터 로드 후 분류\n",
    "data = reuters.load_data(num_words=number_of_features)\n",
    "# (data_train, target_vector_train), (data_test, target_vector_test) = data\n",
    "(x_train, y_train), (x_test, y_test) = data"
   ]
  },
  {
   "cell_type": "code",
   "execution_count": 2,
   "metadata": {},
   "outputs": [],
   "source": [
    "# x 데이터 원핫인코딩\n",
    "tokenizer = Tokenizer(num_words=number_of_features)\n",
    "train_data = tokenizer.sequences_to_matrix(x_train, mode=\"binary\")\n",
    "test_data = tokenizer.sequences_to_matrix(x_test, mode=\"binary\")\n",
    "\n",
    "\n",
    "# y 데이터 원핫인코딩\n",
    "train_target = to_categorical(y_train)\n",
    "test_target = to_categorical(y_test)"
   ]
  },
  {
   "cell_type": "code",
   "execution_count": 3,
   "metadata": {},
   "outputs": [
    {
     "name": "stdout",
     "output_type": "stream",
     "text": [
      "Train on 8982 samples, validate on 2246 samples\n",
      "Epoch 1/15\n",
      "8982/8982 [==============================] - 2s 172us/step - loss: 3.0839 - accuracy: 0.4260 - val_loss: 2.0990 - val_accuracy: 0.6541\n",
      "Epoch 2/15\n",
      "8982/8982 [==============================] - 1s 136us/step - loss: 1.9266 - accuracy: 0.6749 - val_loss: 1.7989 - val_accuracy: 0.7008\n",
      "Epoch 3/15\n",
      "8982/8982 [==============================] - 1s 138us/step - loss: 1.6449 - accuracy: 0.7357 - val_loss: 1.6522 - val_accuracy: 0.7346\n",
      "Epoch 4/15\n",
      "8982/8982 [==============================] - 1s 136us/step - loss: 1.4872 - accuracy: 0.7673 - val_loss: 1.5759 - val_accuracy: 0.7493\n",
      "Epoch 5/15\n",
      "8982/8982 [==============================] - 1s 139us/step - loss: 1.3807 - accuracy: 0.7888 - val_loss: 1.5227 - val_accuracy: 0.7587\n",
      "Epoch 6/15\n",
      "8982/8982 [==============================] - 1s 138us/step - loss: 1.3108 - accuracy: 0.8035 - val_loss: 1.4931 - val_accuracy: 0.7565\n",
      "Epoch 7/15\n",
      "8982/8982 [==============================] - 1s 136us/step - loss: 1.2524 - accuracy: 0.8140 - val_loss: 1.4546 - val_accuracy: 0.7663\n",
      "Epoch 8/15\n",
      "8982/8982 [==============================] - 1s 136us/step - loss: 1.2117 - accuracy: 0.8225 - val_loss: 1.4344 - val_accuracy: 0.7689\n",
      "Epoch 9/15\n",
      "8982/8982 [==============================] - 1s 139us/step - loss: 1.1718 - accuracy: 0.8309 - val_loss: 1.4089 - val_accuracy: 0.7698\n",
      "Epoch 10/15\n",
      "8982/8982 [==============================] - 1s 137us/step - loss: 1.1255 - accuracy: 0.8400 - val_loss: 1.3912 - val_accuracy: 0.7769\n",
      "Epoch 11/15\n",
      "8982/8982 [==============================] - 1s 137us/step - loss: 1.1052 - accuracy: 0.8448 - val_loss: 1.3765 - val_accuracy: 0.7725\n",
      "Epoch 12/15\n",
      "8982/8982 [==============================] - 1s 137us/step - loss: 1.0787 - accuracy: 0.8498 - val_loss: 1.3609 - val_accuracy: 0.7787\n",
      "Epoch 13/15\n",
      "8982/8982 [==============================] - 1s 136us/step - loss: 1.0545 - accuracy: 0.8544 - val_loss: 1.3511 - val_accuracy: 0.7783\n",
      "Epoch 14/15\n",
      "8982/8982 [==============================] - 1s 136us/step - loss: 1.0364 - accuracy: 0.8564 - val_loss: 1.3435 - val_accuracy: 0.7796\n",
      "Epoch 15/15\n",
      "8982/8982 [==============================] - 1s 137us/step - loss: 1.0227 - accuracy: 0.8611 - val_loss: 1.3401 - val_accuracy: 0.7783\n",
      "\n",
      "2246/2246 [==============================] - 0s 100us/step\n",
      "accuracy=  0.7782725095748901 loss=  1.3401179846545361\n"
     ]
    }
   ],
   "source": [
    "# 모델 생성\n",
    "model = models.Sequential()\n",
    "model.add(layers.Dropout(0.1, input_shape=(number_of_features,)))\n",
    "\n",
    "model.add(layers.Dense(units=64\n",
    "                         # 가중치 규제 설정\n",
    "                         , kernel_regularizer=regularizers.l2(0.001)\n",
    "                         , activation=\"relu\"\n",
    "                         , input_shape=(number_of_features,)))\n",
    "\n",
    "model.add(layers.Dropout(0.2))\n",
    "\n",
    "model.add(layers.Dense(units=64\n",
    "                         # 가중치 규제 설정\n",
    "                         , kernel_regularizer=regularizers.l2(0.01)\n",
    "                         , activation=\"relu\"))\n",
    "\n",
    "model.add(layers.Dropout(0.1))\n",
    "\n",
    "model.add(layers.Dense(units=46, activation=\"softmax\"))\n",
    "\n",
    "# 모델 컴파일\n",
    "model.compile(loss=\"categorical_crossentropy\"\n",
    "              , optimizer=\"adagrad\"\n",
    "              , metrics=[\"accuracy\"])\n",
    "\n",
    "# 조기 종료  설정\n",
    "callbacks = [EarlyStopping(monitor=\"val_loss\", patience=2)\n",
    "             , ModelCheckpoint(filepath=\"bestm_model.h5\", monitor=\"val_loss\", save_best_only=True)]\n",
    "\n",
    "# 모델 학습\n",
    "hist = model.fit(\n",
    "    train_data, train_target\n",
    "    , epochs=15\n",
    "    , verbose=1\n",
    "    , batch_size=1024\n",
    "    , validation_data=(test_data, test_target)\n",
    ")\n",
    "\n",
    "# 훈련&테스트 정확도와 손실\n",
    "train_acc = hist.history[\"accuracy\"]\n",
    "test_acc = hist.history[\"val_accuracy\"]\n",
    "\n",
    "train_loss = hist.history['loss']\n",
    "test_loss = hist.history['val_loss']\n",
    "\n",
    "# 에포크 횟수를 사용해 카운트 객체를 만듭니다.\n",
    "epoch_count = range(1, len(train_acc) + 1)\n",
    "\n",
    "print()\n",
    "score = model.evaluate(test_data, test_target)\n",
    "print('accuracy= ', score[1], 'loss= ', score[0])"
   ]
  },
  {
   "cell_type": "code",
   "execution_count": 4,
   "metadata": {},
   "outputs": [
    {
     "data": {
      "image/png": "[encoded data removed]",
      "text/plain": [
       "<Figure size 432x288 with 1 Axes>"
      ]
     },
     "metadata": {
      "needs_background": "light"
     },
     "output_type": "display_data"
    }
   ],
   "source": [
    "# import matplotlib.pyplot as plt\n",
    "\n",
    "# 정확도 시각화\n",
    "plt.plot(epoch_count, train_acc, \"bo\", label=\"Accuracy\")\n",
    "plt.plot(epoch_count, test_acc, \"b\", label=\"Val_Accuracy\")\n",
    "\n",
    "plt.legend([\"Accuracy\", \"Val_Accuracy\"])\n",
    "plt.xlabel(\"Epoch\")\n",
    "plt.ylabel(\"Accuracy Score\")\n",
    "plt.show()\n",
    "plt.close()"
   ]
  },
  {
   "cell_type": "code",
   "execution_count": 5,
   "metadata": {},
   "outputs": [
    {
     "data": {
      "image/png": "[encoded data removed]",
      "text/plain": [
       "<Figure size 432x288 with 1 Axes>"
      ]
     },
     "metadata": {
      "needs_background": "light"
     },
     "output_type": "display_data"
    }
   ],
   "source": [
    "# import matplotlib.pyplot as plt\n",
    "\n",
    "# 손실 시각화\n",
    "plt.plot(epoch_count, train_loss, \"bo\", label='Loss')\n",
    "plt.plot(epoch_count, test_loss, \"b\", label='Val_Loss')\n",
    "plt.title('Train and Test loss')\n",
    "plt.xlabel('Epochs')\n",
    "plt.ylabel('Loss')\n",
    "plt.legend()\n",
    "\n",
    "plt.show()"
   ]
  }
 ],
 "metadata": {
  "kernelspec": {
   "display_name": "Python 3",
   "language": "python",
   "name": "python3"
  },
  "language_info": {
   "codemirror_mode": {
    "name": "ipython",
    "version": 3
   },
   "file_extension": ".py",
   "mimetype": "text/x-python",
   "name": "python",
   "nbconvert_exporter": "python",
   "pygments_lexer": "ipython3",
   "version": "3.7.7"
  }
 },
 "nbformat": 4,
 "nbformat_minor": 4
}
