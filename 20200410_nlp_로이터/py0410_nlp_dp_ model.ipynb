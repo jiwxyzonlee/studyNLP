{
 "cells": [
  {
   "cell_type": "markdown",
   "metadata": {},
   "source": [
    "## 모델 튜닝"
   ]
  },
  {
   "cell_type": "code",
   "execution_count": 5,
   "metadata": {},
   "outputs": [],
   "source": [
    "# 라이브러리를 임포트합니다.\n",
    "import numpy as np\n",
    "from keras.datasets import imdb\n",
    "from keras.preprocessing.text import Tokenizer\n",
    "from keras import models\n",
    "from keras import layers\n",
    "from keras.layers import Dropout\n",
    "import matplotlib.pyplot as plt"
   ]
  },
  {
   "cell_type": "code",
   "execution_count": 8,
   "metadata": {},
   "outputs": [
    {
     "name": "stdout",
     "output_type": "stream",
     "text": [
      "Train on 25000 samples, validate on 25000 samples\n",
      "Epoch 1/15\n",
      "25000/25000 [==============================] - 0s 17us/step - loss: 0.5892 - accuracy: 0.7075 - val_loss: 0.4849 - val_accuracy: 0.8040\n",
      "Epoch 2/15\n",
      "25000/25000 [==============================] - 0s 15us/step - loss: 0.4344 - accuracy: 0.8233 - val_loss: 0.3990 - val_accuracy: 0.8384\n",
      "Epoch 3/15\n",
      "25000/25000 [==============================] - 0s 15us/step - loss: 0.3727 - accuracy: 0.8460 - val_loss: 0.3668 - val_accuracy: 0.8482\n",
      "Epoch 4/15\n",
      "25000/25000 [==============================] - 0s 15us/step - loss: 0.3445 - accuracy: 0.8567 - val_loss: 0.3422 - val_accuracy: 0.8574\n",
      "Epoch 5/15\n",
      "25000/25000 [==============================] - 0s 15us/step - loss: 0.3263 - accuracy: 0.8670 - val_loss: 0.3823 - val_accuracy: 0.8335\n",
      "Epoch 6/15\n",
      "25000/25000 [==============================] - 0s 15us/step - loss: 0.3212 - accuracy: 0.8675 - val_loss: 0.3404 - val_accuracy: 0.8566\n",
      "Epoch 7/15\n",
      "25000/25000 [==============================] - 0s 15us/step - loss: 0.3110 - accuracy: 0.8702 - val_loss: 0.3509 - val_accuracy: 0.8510\n",
      "Epoch 8/15\n",
      "25000/25000 [==============================] - 0s 15us/step - loss: 0.3054 - accuracy: 0.8738 - val_loss: 0.3253 - val_accuracy: 0.8623\n",
      "Epoch 9/15\n",
      "25000/25000 [==============================] - 0s 15us/step - loss: 0.3047 - accuracy: 0.8735 - val_loss: 0.3254 - val_accuracy: 0.8619\n",
      "Epoch 10/15\n",
      "25000/25000 [==============================] - 0s 15us/step - loss: 0.3045 - accuracy: 0.8727 - val_loss: 0.3291 - val_accuracy: 0.8607\n",
      "Epoch 11/15\n",
      "25000/25000 [==============================] - 0s 15us/step - loss: 0.2990 - accuracy: 0.8774 - val_loss: 0.3312 - val_accuracy: 0.8600\n",
      "Epoch 12/15\n",
      "25000/25000 [==============================] - 0s 15us/step - loss: 0.2956 - accuracy: 0.8764 - val_loss: 0.3273 - val_accuracy: 0.8605\n",
      "Epoch 13/15\n",
      "25000/25000 [==============================] - 0s 15us/step - loss: 0.2936 - accuracy: 0.8766 - val_loss: 0.3283 - val_accuracy: 0.8596\n",
      "Epoch 14/15\n",
      "25000/25000 [==============================] - 0s 15us/step - loss: 0.2944 - accuracy: 0.8776 - val_loss: 0.3394 - val_accuracy: 0.8556\n",
      "Epoch 15/15\n",
      "25000/25000 [==============================] - 0s 15us/step - loss: 0.2910 - accuracy: 0.8778 - val_loss: 0.3356 - val_accuracy: 0.8562\n",
      "\n",
      "\n",
      "모델 성능 :\n",
      "25000/25000 [==============================] - 0s 14us/step\n",
      "[0.335573497800827, 0.8562399744987488]\n"
     ]
    }
   ],
   "source": [
    "# 랜덤 시드를 설정합니다.\n",
    "np.random.seed(0)\n",
    "\n",
    "# 필요한 특성 개수를 지정합니다.\n",
    "number_of_features = 1000\n",
    "\n",
    "# 영화 리뷰 데이터에서 훈련 데이터와 타깃 벡터를 로드합니다.\n",
    "(data_train, target_train), (data_test, target_test) = imdb.load_data(\n",
    "    num_words=number_of_features)\n",
    "\n",
    "# 영화영화 리뷰 데이터를 원-핫 인코딩된 특성 행렬로 변환합니다.\n",
    "tokenizer = Tokenizer(num_words=number_of_features)\n",
    "features_train = tokenizer.sequences_to_matrix(data_train, mode=\"binary\")\n",
    "features_test = tokenizer.sequences_to_matrix(data_test, mode=\"binary\")\n",
    "\n",
    "# 신경망 모델을 만듭니다.\n",
    "network = models.Sequential()\n",
    "\n",
    "# 렐루 활성화 함수를 사용한 완전 연결 층을 추가합니다.\n",
    "network.add(layers.Dense(units=16,\n",
    "                         activation=\"relu\",\n",
    "                         input_shape=(number_of_features,)))\n",
    "\n",
    "# 렐루 활성화 함수를 사용한 완전 연결 층을 추가합니다.\n",
    "network.add(layers.Dense(units=16, activation=\"relu\"))\n",
    "\n",
    "# 시그모이드 활성화 함수를 사용한 완전 연결 층을 추가합니다.\n",
    "network.add(layers.Dense(units=1, activation=\"sigmoid\"))\n",
    "\n",
    "# 신경망의 모델 설정을 완료합니다.\n",
    "network.compile(loss=\"binary_crossentropy\", # 크로스 엔트로피\n",
    "                optimizer=\"rmsprop\", # 옵티마이저\n",
    "                metrics=[\"accuracy\"]) # 성능 지표\n",
    "\n",
    "# 신경망을 훈련합니다.\n",
    "# 1000개 데이터를 미니배치로 추출해서 15회 학습하는 것으로 설정\n",
    "history = network.fit(features_train, # 특성\n",
    "                      target_train, # 타깃\n",
    "                      epochs=15, # 에포크 횟수\n",
    "                      verbose=1, # 출력 없음\n",
    "                      batch_size=1000, # 배치의 샘플 개수\n",
    "                      validation_data=(features_test, target_test)) # 테스트 데이터\n",
    "print('\\n')\n",
    "print('모델 성능 :')\n",
    "print(network.evaluate(features_test, target_test))\n",
    "\n",
    "# 훈련 손실과 테스트 손실의 기록을 저장합니다.\n",
    "training_accuracy = history.history[\"accuracy\"]\n",
    "test_accuracy = history.history[\"val_accuracy\"]\n",
    "\n",
    "# 에포크 횟수를 사용해 카운트 객체를 만듭니다.\n",
    "epoch_count = range(1, len(training_accuracy) + 1)\n",
    "\n"
   ]
  },
  {
   "cell_type": "code",
   "execution_count": 9,
   "metadata": {},
   "outputs": [
    {
     "data": {
      "image/png": "[encoded data removed]",
      "text/plain": [
       "<Figure size 432x288 with 1 Axes>"
      ]
     },
     "metadata": {
      "needs_background": "light"
     },
     "output_type": "display_data"
    },
    {
     "data": {
      "image/png": "[encoded data removed]",
      "text/plain": [
       "<Figure size 432x288 with 1 Axes>"
      ]
     },
     "metadata": {
      "needs_background": "light"
     },
     "output_type": "display_data"
    }
   ],
   "source": [
    "# 훈련 정확도와 테스트 정확도 기록을 저장합니다.\n",
    "import matplotlib.pyplot as plt\n",
    "%matplotlib inline\n",
    "\n",
    "# plt.plot(history.history['accuracy'])\n",
    "# plt.plot(history.history['val_accuracy'])\n",
    "# plt.title('Accuracy')\n",
    "# plt.legend(['train','test'], loc='upper left')\n",
    "# plt.xlabel(\"Epoch\")\n",
    "# plt.ylabel(\"Accuracy Score\")\n",
    "# plt.show()\n",
    "\n",
    "training_accuracy = history.history[\"accuracy\"]\n",
    "test_accuracy = history.history[\"val_accuracy\"]\n",
    "\n",
    "training_loss = history.history[\"loss\"]\n",
    "test_loss = history.history['val_loss']\n",
    "\n",
    "plt.plot(epoch_count, training_accuracy, \"r--\")\n",
    "plt.plot(epoch_count, test_accuracy, \"b-\")\n",
    "\n",
    "# 정확도 그래프를 그립니다.\n",
    "plt.legend([\"Training Accuracy\", \"Test Accuracy\"])\n",
    "plt.xlabel(\"Epoch\")\n",
    "plt.ylabel(\"Accuracy Score\")\n",
    "plt.show();\n",
    "\n",
    "plt.plot(epoch_count, training_loss, \"r--\")\n",
    "plt.plot(epoch_count, test_loss, \"b-\")\n",
    "\n",
    "# 정확도 그래프를 그립니다.\n",
    "plt.legend([\"Training Loss\", \"Test Loss\"])\n",
    "plt.xlabel(\"Epoch\")\n",
    "plt.ylabel(\"Loss\")\n",
    "plt.show();"
   ]
  },
  {
   "cell_type": "markdown",
   "metadata": {},
   "source": [
    "## Dropout 추가 - 드롭아웃으로 과대적합 줄이기"
   ]
  },
  {
   "cell_type": "code",
   "execution_count": 14,
   "metadata": {},
   "outputs": [
    {
     "name": "stdout",
     "output_type": "stream",
     "text": [
      "Train on 25000 samples, validate on 25000 samples\n",
      "Epoch 1/15\n",
      "25000/25000 [==============================] - 1s 29us/step - loss: 0.6660 - accuracy: 0.5924 - val_loss: 0.5944 - val_accuracy: 0.7725\n",
      "Epoch 2/15\n",
      "25000/25000 [==============================] - 1s 25us/step - loss: 0.5895 - accuracy: 0.6987 - val_loss: 0.5005 - val_accuracy: 0.8142\n",
      "Epoch 3/15\n",
      "25000/25000 [==============================] - 1s 25us/step - loss: 0.5366 - accuracy: 0.7401 - val_loss: 0.4444 - val_accuracy: 0.8345\n",
      "Epoch 4/15\n",
      "25000/25000 [==============================] - 1s 24us/step - loss: 0.5080 - accuracy: 0.7564 - val_loss: 0.4105 - val_accuracy: 0.8442\n",
      "Epoch 5/15\n",
      "25000/25000 [==============================] - 1s 24us/step - loss: 0.4783 - accuracy: 0.7786 - val_loss: 0.3928 - val_accuracy: 0.8494\n",
      "Epoch 6/15\n",
      "25000/25000 [==============================] - 1s 25us/step - loss: 0.4663 - accuracy: 0.7833 - val_loss: 0.3793 - val_accuracy: 0.8539\n",
      "Epoch 7/15\n",
      "25000/25000 [==============================] - 1s 25us/step - loss: 0.4568 - accuracy: 0.7904 - val_loss: 0.3695 - val_accuracy: 0.8553\n",
      "Epoch 8/15\n",
      "25000/25000 [==============================] - 1s 24us/step - loss: 0.4467 - accuracy: 0.7963 - val_loss: 0.3650 - val_accuracy: 0.8582\n",
      "Epoch 9/15\n",
      "25000/25000 [==============================] - 1s 24us/step - loss: 0.4423 - accuracy: 0.7969 - val_loss: 0.3568 - val_accuracy: 0.8590\n",
      "Epoch 10/15\n",
      "25000/25000 [==============================] - 1s 24us/step - loss: 0.4367 - accuracy: 0.7986 - val_loss: 0.3573 - val_accuracy: 0.8599\n",
      "Epoch 11/15\n",
      "25000/25000 [==============================] - 1s 24us/step - loss: 0.4308 - accuracy: 0.8023 - val_loss: 0.3478 - val_accuracy: 0.8594\n",
      "Epoch 12/15\n",
      "25000/25000 [==============================] - 1s 24us/step - loss: 0.4269 - accuracy: 0.8070 - val_loss: 0.3440 - val_accuracy: 0.8615\n",
      "Epoch 13/15\n",
      "25000/25000 [==============================] - 1s 24us/step - loss: 0.4214 - accuracy: 0.8096 - val_loss: 0.3414 - val_accuracy: 0.8614\n",
      "Epoch 14/15\n",
      "25000/25000 [==============================] - 1s 25us/step - loss: 0.4261 - accuracy: 0.8034 - val_loss: 0.3524 - val_accuracy: 0.8615\n",
      "Epoch 15/15\n",
      "25000/25000 [==============================] - 1s 24us/step - loss: 0.4196 - accuracy: 0.8098 - val_loss: 0.3461 - val_accuracy: 0.8622\n",
      "\n",
      "\n",
      "모델 성능 :\n",
      "25000/25000 [==============================] - 0s 16us/step\n",
      "[0.34614311208724974, 0.8621600270271301]\n"
     ]
    }
   ],
   "source": [
    "# 랜덤 시드를 설정합니다.\n",
    "np.random.seed(0)\n",
    "\n",
    "# 필요한 특성 개수를 지정합니다.\n",
    "number_of_features = 1000\n",
    "\n",
    "# 영화 리뷰 데이터에서 훈련 데이터와 타깃 벡터를 로드합니다.\n",
    "(data_train, target_train), (data_test, target_test) = imdb.load_data(\n",
    "    num_words=number_of_features)\n",
    "\n",
    "# 영화영화 리뷰 데이터를 원-핫 인코딩된 특성 행렬로 변환합니다.\n",
    "tokenizer = Tokenizer(num_words=number_of_features)\n",
    "features_train = tokenizer.sequences_to_matrix(data_train, mode=\"binary\")\n",
    "features_test = tokenizer.sequences_to_matrix(data_test, mode=\"binary\")\n",
    "\n",
    "# 신경망 모델을 만듭니다.\n",
    "network = models.Sequential()\n",
    "\n",
    "# 렐루 활성화 함수를 사용한 완전 연결 층을 추가합니다.\n",
    "network.add(layers.Dropout(0.2, input_shape=(number_of_features,)))\n",
    "\n",
    "# Dropout 추가\n",
    "network.add(Dropout(0.3, noise_shape=None, seed=None))\n",
    "\n",
    "# 렐루 활성화 함수를 사용한 완전 연결 층을 추가합니다.\n",
    "network.add(layers.Dense(units=16, activation=\"relu\"))\n",
    "\n",
    "# Dropout 추가\n",
    "network.add(Dropout(0.5, noise_shape=None, seed=None))\n",
    "\n",
    "# 렐루 활성화 함수를 사용한 완전 연결 층을 추가합니다.\n",
    "network.add(layers.Dense(units=16, activation=\"relu\"))\n",
    "\n",
    "# 시그모이드 활성화 함수를 사용한 완전 연결 층을 추가합니다.\n",
    "network.add(layers.Dense(units=1, activation=\"sigmoid\"))\n",
    "\n",
    "\n",
    "# 신경망의 모델 설정을 완료합니다.\n",
    "network.compile(loss=\"binary_crossentropy\", # 크로스 엔트로피\n",
    "                optimizer=\"rmsprop\", # 옵티마이저\n",
    "                metrics=[\"accuracy\"]) # 성능 지표\n",
    "\n",
    "# 신경망을 훈련합니다.\n",
    "# 1000개 데이터를 미니배치로 추출해서 15회 학습하는 것으로 설정\n",
    "history = network.fit(features_train, # 특성\n",
    "                      target_train, # 타깃\n",
    "                      epochs=15, # 에포크 횟수\n",
    "                      verbose=1, # 출력 없음\n",
    "                      batch_size=1000, # 배치의 샘플 개수\n",
    "                      validation_data=(features_test, target_test)) # 테스트 데이터\n",
    "print('\\n')\n",
    "print('모델 성능 :')\n",
    "print(network.evaluate(features_test, target_test))\n",
    "\n",
    "# 훈련 손실과 테스트 손실의 기록을 저장합니다.\n",
    "training_accuracy = history.history[\"accuracy\"]\n",
    "test_accuracy = history.history[\"val_accuracy\"]\n",
    "\n",
    "# 에포크 횟수를 사용해 카운트 객체를 만듭니다.\n",
    "epoch_count = range(1, len(training_accuracy) + 1)\n",
    "\n"
   ]
  },
  {
   "cell_type": "code",
   "execution_count": 15,
   "metadata": {},
   "outputs": [
    {
     "data": {
      "image/png": "[encoded data removed]",
      "text/plain": [
       "<Figure size 432x288 with 1 Axes>"
      ]
     },
     "metadata": {
      "needs_background": "light"
     },
     "output_type": "display_data"
    },
    {
     "data": {
      "image/png": "[encoded data removed]",
      "text/plain": [
       "<Figure size 432x288 with 1 Axes>"
      ]
     },
     "metadata": {
      "needs_background": "light"
     },
     "output_type": "display_data"
    }
   ],
   "source": [
    "# 훈련 정확도와 테스트 정확도 기록을 저장합니다.\n",
    "import matplotlib.pyplot as plt\n",
    "%matplotlib inline\n",
    "\n",
    "# plt.plot(history.history['accuracy'])\n",
    "# plt.plot(history.history['val_accuracy'])\n",
    "# plt.title('Accuracy')\n",
    "# plt.legend(['train','test'], loc='upper left')\n",
    "# plt.xlabel(\"Epoch\")\n",
    "# plt.ylabel(\"Accuracy Score\")\n",
    "# plt.show()\n",
    "\n",
    "training_accuracy = history.history[\"accuracy\"]\n",
    "test_accuracy = history.history[\"val_accuracy\"]\n",
    "\n",
    "training_loss = history.history[\"loss\"]\n",
    "test_loss = history.history['val_loss']\n",
    "\n",
    "plt.plot(epoch_count, training_accuracy, \"r--\")\n",
    "plt.plot(epoch_count, test_accuracy, \"b-\")\n",
    "\n",
    "# 정확도 그래프를 그립니다.\n",
    "plt.legend([\"Training Accuracy\", \"Test Accuracy\"])\n",
    "plt.xlabel(\"Epoch\")\n",
    "plt.ylabel(\"Accuracy Score\")\n",
    "plt.show();\n",
    "\n",
    "plt.plot(epoch_count, training_loss, \"r--\")\n",
    "plt.plot(epoch_count, test_loss, \"b-\")\n",
    "\n",
    "# 정확도 그래프를 그립니다.\n",
    "plt.legend([\"Training Loss\", \"Test Loss\"])\n",
    "plt.xlabel(\"Epoch\")\n",
    "plt.ylabel(\"Loss\")\n",
    "plt.show();"
   ]
  },
  {
   "cell_type": "markdown",
   "metadata": {},
   "source": [
    "#### 해답"
   ]
  },
  {
   "cell_type": "code",
   "execution_count": 40,
   "metadata": {},
   "outputs": [
    {
     "name": "stdout",
     "output_type": "stream",
     "text": [
      "Train on 25000 samples, validate on 25000 samples\n",
      "Epoch 1/15\n",
      "25000/25000 [==============================] - 2s 65us/step - loss: 0.6269 - accuracy: 0.6333 - val_loss: 0.4818 - val_accuracy: 0.8248\n",
      "Epoch 2/15\n",
      "25000/25000 [==============================] - 2s 60us/step - loss: 0.5046 - accuracy: 0.7594 - val_loss: 0.3790 - val_accuracy: 0.8468\n",
      "Epoch 3/15\n",
      "25000/25000 [==============================] - 1s 59us/step - loss: 0.4464 - accuracy: 0.7999 - val_loss: 0.3535 - val_accuracy: 0.8551\n",
      "Epoch 4/15\n",
      "25000/25000 [==============================] - 1s 58us/step - loss: 0.4300 - accuracy: 0.8158 - val_loss: 0.3399 - val_accuracy: 0.8593\n",
      "Epoch 5/15\n",
      "25000/25000 [==============================] - 1s 57us/step - loss: 0.4132 - accuracy: 0.8270 - val_loss: 0.3414 - val_accuracy: 0.8578\n",
      "Epoch 6/15\n",
      "25000/25000 [==============================] - 1s 59us/step - loss: 0.4088 - accuracy: 0.8294 - val_loss: 0.3350 - val_accuracy: 0.8596\n",
      "Epoch 7/15\n",
      "25000/25000 [==============================] - 1s 58us/step - loss: 0.4050 - accuracy: 0.8328 - val_loss: 0.3371 - val_accuracy: 0.8599\n",
      "Epoch 8/15\n",
      "25000/25000 [==============================] - 1s 57us/step - loss: 0.3983 - accuracy: 0.8380 - val_loss: 0.3383 - val_accuracy: 0.8595\n",
      "Epoch 9/15\n",
      "25000/25000 [==============================] - 1s 56us/step - loss: 0.3924 - accuracy: 0.8366 - val_loss: 0.3359 - val_accuracy: 0.8596\n",
      "Epoch 10/15\n",
      "25000/25000 [==============================] - 1s 58us/step - loss: 0.3934 - accuracy: 0.8394 - val_loss: 0.3344 - val_accuracy: 0.8597\n",
      "Epoch 11/15\n",
      "25000/25000 [==============================] - 1s 58us/step - loss: 0.3925 - accuracy: 0.8383 - val_loss: 0.3317 - val_accuracy: 0.8620\n",
      "Epoch 12/15\n",
      "25000/25000 [==============================] - 1s 57us/step - loss: 0.3885 - accuracy: 0.8430 - val_loss: 0.3292 - val_accuracy: 0.8617\n",
      "Epoch 13/15\n",
      "25000/25000 [==============================] - 1s 56us/step - loss: 0.3830 - accuracy: 0.8438 - val_loss: 0.3330 - val_accuracy: 0.8596\n",
      "Epoch 14/15\n",
      "25000/25000 [==============================] - 1s 56us/step - loss: 0.3839 - accuracy: 0.8428 - val_loss: 0.3330 - val_accuracy: 0.8603\n",
      "Epoch 15/15\n",
      "25000/25000 [==============================] - 1s 58us/step - loss: 0.3850 - accuracy: 0.8406 - val_loss: 0.3351 - val_accuracy: 0.8602\n",
      "\n",
      "\n",
      "모델 성능 :\n",
      "25000/25000 [==============================] - 1s 28us/step\n",
      "[0.3350780969333649, 0.8601599931716919]\n"
     ]
    }
   ],
   "source": [
    "# 매우 다양한 네트워크 구조에서 수행할 수 있는 모델 파라미터 값을 학습하도록\n",
    "# 유닛을 강제 - 은닉 유닛에 있는 잡음에 영향을 받지 않도록 학습되고 네트워크가\n",
    "# 훈련 데이터를 단순히 암기하지 못하도록 함\n",
    "# 일반적을 선택하는 드롭될 유닛의 비율은 입력유닛에서 0.2, 은닉유닛에서 0.5\n",
    "\n",
    "import numpy as np\n",
    "from keras.datasets import imdb\n",
    "from keras.preprocessing.text import Tokenizer\n",
    "from keras import models\n",
    "from keras import layers\n",
    "\n",
    "# 랜덤 시드를 설정합니다.\n",
    "np.random.seed(0)\n",
    "\n",
    "# 필요한 특성 개수를 지정합니다.\n",
    "number_of_features = 1000\n",
    "\n",
    "# 영화 리뷰 데이터에서 훈련 데이터와 타깃 벡터를 로드합니다.\n",
    "(data_train, target_train), (data_test, target_test) = imdb.load_data(\n",
    "    num_words=number_of_features)\n",
    "\n",
    "# 영화 리뷰 데이터를 원-핫 인코딩된 특성 행렬로 변환합니다.\n",
    "tokenizer = Tokenizer(num_words=number_of_features)\n",
    "features_train = tokenizer.sequences_to_matrix(data_train, mode=\"binary\")\n",
    "features_test = tokenizer.sequences_to_matrix(data_test, mode=\"binary\")\n",
    "\n",
    "# 신경망 모델을 만듭니다.\n",
    "network = models.Sequential()\n",
    "\n",
    "# 입력층으로 드롭아웃 층을 추가합니다.\n",
    "network.add(layers.Dropout(0.2, input_shape=(number_of_features,)))\n",
    "\n",
    "# 렐루 활성화 함수를 사용한 완전 연결 층을 추가합니다.\n",
    "network.add(layers.Dense(units=16, activation=\"relu\"))\n",
    "\n",
    "# Add a dropout layer for previous hidden layer\n",
    "network.add(layers.Dropout(0.5))\n",
    "\n",
    "# 렐루 활성화 함수를 사용한 완전 연결 층을 추가합니다.\n",
    "network.add(layers.Dense(units=16, activation=\"relu\"))\n",
    "\n",
    "# Add a dropout layer for previous hidden layer\n",
    "network.add(layers.Dropout(0.5))\n",
    "\n",
    "# 시그모이드 활성화 함수를 사용한 완전 연결 층을 추가합니다.\n",
    "network.add(layers.Dense(units=1, activation=\"sigmoid\"))\n",
    "\n",
    "# 신경망의 모델 설정을 완료합니다.\n",
    "network.compile(loss=\"binary_crossentropy\", # 크로스 엔트로피\n",
    "                optimizer=\"rmsprop\", # 옵티마이저\n",
    "                metrics=[\"accuracy\"]) # 성능 지표\n",
    "\n",
    "# 신경망을 훈련합니다.\n",
    "history = network.fit(features_train, # 특성\n",
    "                      target_train, # 타깃 벡터\n",
    "                      epochs=15, # 에포크 횟수\n",
    "                      verbose=1, # 출력 없음\n",
    "                      batch_size=100, # 배치의 샘플 개수\n",
    "                      validation_data=(features_test, target_test)) # 테스트 데이터\n",
    "\n",
    "# # 훈련 손실과 테스트 손실의 기록을 저장합니다.\n",
    "training_accuracy = history.history[\"accuracy\"]\n",
    "test_accuracy = history.history[\"val_accuracy\"]\n",
    "\n",
    "# # 에포크 횟수를 사용해 카운트 객체를 만듭니다.\n",
    "epoch_count = range(1, len(training_accuracy) + 1)\n",
    "\n",
    "print('\\n')\n",
    "print('모델 성능 :')\n",
    "print(network.evaluate(features_test, target_test))"
   ]
  },
  {
   "cell_type": "code",
   "execution_count": 41,
   "metadata": {},
   "outputs": [
    {
     "data": {
      "image/png": "[encoded data removed]",
      "text/plain": [
       "<Figure size 432x288 with 1 Axes>"
      ]
     },
     "metadata": {
      "needs_background": "light"
     },
     "output_type": "display_data"
    }
   ],
   "source": [
    "training_accuracy = history.history[\"accuracy\"]\n",
    "test_accuracy = history.history[\"val_accuracy\"]\n",
    "plt.plot(epoch_count, training_accuracy, \"r--\")\n",
    "plt.plot(epoch_count, test_accuracy, \"b-\")\n",
    "\n",
    "# 정확도 그래프를 그립니다.\n",
    "plt.legend([\"Training Accuracy\", \"Test Accuracy\"])\n",
    "plt.xlabel(\"Epoch\")\n",
    "plt.ylabel(\"Accuracy Score\")\n",
    "plt.show();"
   ]
  },
  {
   "cell_type": "markdown",
   "metadata": {},
   "source": [
    "## 가중치 규제로 과대적합 줄이기\n",
    "\n",
    "kernel_regularizer=regularizers.l2(0.01)\n",
    "- 기본형: kernel_regularizer='l1_l2'\n",
    "- 출력층에는 필요없고 은닉층에만 넣어줌\n",
    "\n",
    "과소적합인 상태에서 가중치 규제를 더하면 오히려 부작용 발생\n",
    "- 결과에 따라 판단"
   ]
  },
  {
   "cell_type": "code",
   "execution_count": 16,
   "metadata": {},
   "outputs": [
    {
     "name": "stdout",
     "output_type": "stream",
     "text": [
      "Train on 25000 samples, validate on 25000 samples\n",
      "Epoch 1/15\n",
      "25000/25000 [==============================] - 1s 24us/step - loss: 0.6374 - accuracy: 0.8126 - val_loss: 0.4902 - val_accuracy: 0.8515\n",
      "Epoch 2/15\n",
      "25000/25000 [==============================] - 1s 22us/step - loss: 0.4647 - accuracy: 0.8548 - val_loss: 0.4485 - val_accuracy: 0.8564\n",
      "Epoch 3/15\n",
      "25000/25000 [==============================] - 1s 21us/step - loss: 0.4389 - accuracy: 0.8560 - val_loss: 0.4435 - val_accuracy: 0.8470\n",
      "Epoch 4/15\n",
      "25000/25000 [==============================] - 1s 21us/step - loss: 0.4265 - accuracy: 0.8537 - val_loss: 0.4346 - val_accuracy: 0.8476\n",
      "Epoch 5/15\n",
      "25000/25000 [==============================] - 1s 21us/step - loss: 0.4164 - accuracy: 0.8572 - val_loss: 0.4355 - val_accuracy: 0.8437\n",
      "Epoch 6/15\n",
      "25000/25000 [==============================] - 1s 21us/step - loss: 0.4102 - accuracy: 0.8558 - val_loss: 0.4218 - val_accuracy: 0.8474\n",
      "Epoch 7/15\n",
      "25000/25000 [==============================] - 1s 20us/step - loss: 0.4050 - accuracy: 0.8566 - val_loss: 0.4030 - val_accuracy: 0.8576\n",
      "Epoch 8/15\n",
      "25000/25000 [==============================] - 1s 22us/step - loss: 0.3999 - accuracy: 0.8586 - val_loss: 0.3982 - val_accuracy: 0.8582\n",
      "Epoch 9/15\n",
      "25000/25000 [==============================] - 1s 22us/step - loss: 0.3950 - accuracy: 0.8608 - val_loss: 0.3933 - val_accuracy: 0.8591\n",
      "Epoch 10/15\n",
      "25000/25000 [==============================] - 1s 22us/step - loss: 0.3904 - accuracy: 0.8590 - val_loss: 0.3974 - val_accuracy: 0.8544\n",
      "Epoch 11/15\n",
      "25000/25000 [==============================] - 1s 22us/step - loss: 0.3855 - accuracy: 0.8622 - val_loss: 0.3827 - val_accuracy: 0.8607\n",
      "Epoch 12/15\n",
      "25000/25000 [==============================] - 1s 21us/step - loss: 0.3800 - accuracy: 0.8617 - val_loss: 0.3814 - val_accuracy: 0.8605\n",
      "Epoch 13/15\n",
      "25000/25000 [==============================] - 1s 21us/step - loss: 0.3794 - accuracy: 0.8621 - val_loss: 0.3828 - val_accuracy: 0.8587\n",
      "Epoch 14/15\n",
      "25000/25000 [==============================] - 1s 22us/step - loss: 0.3741 - accuracy: 0.8633 - val_loss: 0.3847 - val_accuracy: 0.8545\n",
      "Epoch 15/15\n",
      "25000/25000 [==============================] - 1s 22us/step - loss: 0.3712 - accuracy: 0.8640 - val_loss: 0.3797 - val_accuracy: 0.8587\n",
      "\n",
      "\n",
      "모델 성능 :\n",
      "25000/25000 [==============================] - 0s 16us/step\n",
      "[0.379671489572525, 0.8587200045585632]\n"
     ]
    }
   ],
   "source": [
    "# 라이브러리를 임포트합니다.\n",
    "import numpy as np\n",
    "from keras.datasets import imdb\n",
    "from keras.preprocessing.text import Tokenizer\n",
    "from keras import models\n",
    "from keras import layers\n",
    "from keras import regularizers\n",
    "\n",
    "# 랜덤 시드를 설정합니다.\n",
    "np.random.seed(0)\n",
    "\n",
    "# 필요한 특성 개수를 지정합니다.\n",
    "number_of_features = 1000\n",
    "\n",
    "# 영화 리뷰 데이터에서 훈련 데이터와 타깃 벡터를 로드합니다.\n",
    "(data_train, target_train), (data_test, target_test) = imdb.load_data(\n",
    "    num_words=number_of_features)\n",
    "\n",
    "# 영화 리뷰 데이터를 원-핫 인코딩된 특성 행렬로 변환합니다.\n",
    "tokenizer = Tokenizer(num_words=number_of_features)\n",
    "features_train = tokenizer.sequences_to_matrix(data_train, mode=\"binary\")\n",
    "features_test = tokenizer.sequences_to_matrix(data_test, mode=\"binary\")\n",
    "\n",
    "# 신경망 모델을 만듭니다.\n",
    "network = models.Sequential()\n",
    "\n",
    "# 렐루 활성화 함수를 사용한 완전 연결 층을 추가합니다.\n",
    "network.add(layers.Dense(units=16,\n",
    "                         activation=\"relu\",\n",
    "                         kernel_regularizer=regularizers.l2(0.01),\n",
    "#                          kernel_regularizer='l1_l2',\n",
    "                         input_shape=(number_of_features,)))\n",
    "\n",
    "# 렐루 활성화 함수를 사용한 완전 연결 층을 추가합니다.\n",
    "# 층의 매개변수로 kernel_regularizer=regularizers.ㅣ2(0.01)를 지정하여 가중치 규제\n",
    "# 0.01은 가중치가 큰 모델 파라미터 값에 얼마나 패널티를 부여할지를 결정함\n",
    "# l1, l2 규제 동시 :l1_l2(l1=0.01,l2=0.01), 기본값을 사용 : l1_l2\n",
    "network.add(layers.Dense(units=16,\n",
    "                         kernel_regularizer=regularizers.l2(0.01),\n",
    "#                          kernel_regularizer='l1_l2',\n",
    "                         activation=\"relu\"))\n",
    "\n",
    "# 시그모이드 활성화 함수를 사용한 완전 연결 층을 추가합니다.\n",
    "network.add(layers.Dense(units=1, activation=\"sigmoid\"))\n",
    "\n",
    "# 신경망의 모델 설정을 완료합니다.\n",
    "network.compile(loss=\"binary_crossentropy\", # 크로스 엔트로피\n",
    "                optimizer=\"rmsprop\", # 옵티마이저\n",
    "                metrics=[\"accuracy\"]) # 성능 지표\n",
    "\n",
    "# 신경망을 훈련합니다.\n",
    "history = network.fit(features_train, # 특성\n",
    "                      target_train, # 타깃 벡터\n",
    "                      epochs=15, # 에포크 횟수\n",
    "                      verbose=1, # 출력 없음\n",
    "                      batch_size=100, # 배치의 샘플 개수\n",
    "                      validation_data=(features_test, target_test)) # 테스트 데이터\n",
    "\n",
    "print('\\n')\n",
    "print('모델 성능 :')\n",
    "print(network.evaluate(features_test, target_test))"
   ]
  },
  {
   "cell_type": "code",
   "execution_count": 17,
   "metadata": {},
   "outputs": [
    {
     "data": {
      "image/png": "[encoded data removed]",
      "text/plain": [
       "<Figure size 432x288 with 1 Axes>"
      ]
     },
     "metadata": {
      "needs_background": "light"
     },
     "output_type": "display_data"
    },
    {
     "data": {
      "image/png": "[encoded data removed]",
      "text/plain": [
       "<Figure size 432x288 with 1 Axes>"
      ]
     },
     "metadata": {
      "needs_background": "light"
     },
     "output_type": "display_data"
    }
   ],
   "source": [
    "# 훈련 정확도와 테스트 정확도 기록을 저장합니다.\n",
    "import matplotlib.pyplot as plt\n",
    "%matplotlib inline\n",
    "\n",
    "training_accuracy = history.history[\"accuracy\"]\n",
    "test_accuracy = history.history[\"val_accuracy\"]\n",
    "\n",
    "training_loss = history.history[\"loss\"]\n",
    "test_loss = history.history['val_loss']\n",
    "\n",
    "plt.plot(epoch_count, training_accuracy, \"r--\")\n",
    "plt.plot(epoch_count, test_accuracy, \"b-\")\n",
    "\n",
    "# 정확도 그래프를 그립니다.\n",
    "plt.legend([\"Training Accuracy\", \"Test Accuracy\"])\n",
    "plt.xlabel(\"Epoch\")\n",
    "plt.ylabel(\"Accuracy Score\")\n",
    "plt.show();\n",
    "\n",
    "plt.plot(epoch_count, training_loss, \"r--\")\n",
    "plt.plot(epoch_count, test_loss, \"b-\")\n",
    "\n",
    "# 정확도 그래프를 그립니다.\n",
    "plt.legend([\"Training Loss\", \"Test Loss\"])\n",
    "plt.xlabel(\"Epoch\")\n",
    "plt.ylabel(\"Loss\")\n",
    "plt.show();"
   ]
  },
  {
   "cell_type": "markdown",
   "metadata": {},
   "source": [
    "## 조기종료로 과대적합 줄이기"
   ]
  },
  {
   "cell_type": "code",
   "execution_count": 1,
   "metadata": {},
   "outputs": [
    {
     "name": "stderr",
     "output_type": "stream",
     "text": [
      "Using TensorFlow backend.\n"
     ]
    },
    {
     "name": "stdout",
     "output_type": "stream",
     "text": [
      "Train on 25000 samples, validate on 25000 samples\n",
      "Epoch 1/15\n",
      "25000/25000 [==============================] - 1s 23us/step - loss: 0.4195 - accuracy: 0.8120 - val_loss: 0.3394 - val_accuracy: 0.8546\n",
      "Epoch 2/15\n",
      "25000/25000 [==============================] - 0s 19us/step - loss: 0.3225 - accuracy: 0.8641 - val_loss: 0.3284 - val_accuracy: 0.8594\n",
      "Epoch 3/15\n",
      "25000/25000 [==============================] - 0s 20us/step - loss: 0.3107 - accuracy: 0.8691 - val_loss: 0.3392 - val_accuracy: 0.8537\n",
      "Epoch 4/15\n",
      "25000/25000 [==============================] - 0s 19us/step - loss: 0.3024 - accuracy: 0.8708 - val_loss: 0.3274 - val_accuracy: 0.8593\n",
      "Epoch 5/15\n",
      "25000/25000 [==============================] - 0s 20us/step - loss: 0.2926 - accuracy: 0.8762 - val_loss: 0.3425 - val_accuracy: 0.8518\n",
      "Epoch 6/15\n",
      "25000/25000 [==============================] - 0s 19us/step - loss: 0.2831 - accuracy: 0.8796 - val_loss: 0.3330 - val_accuracy: 0.8560\n",
      "\n",
      "\n",
      "모델 성능 :\n",
      "25000/25000 [==============================] - 0s 11us/step\n",
      "[0.3329834410572052, 0.8560400009155273]\n"
     ]
    }
   ],
   "source": [
    "# 케라스에서 콜백 함수로 조기 종료를 구현\n",
    "# 라이브러리를 임포트합니다.\n",
    "import numpy as np\n",
    "from keras.datasets import imdb\n",
    "from keras.preprocessing.text import Tokenizer\n",
    "from keras import models\n",
    "from keras import layers\n",
    "from keras.callbacks import EarlyStopping, ModelCheckpoint\n",
    "\n",
    "# 랜덤 시드를 설정합니다.\n",
    "np.random.seed(0)\n",
    "\n",
    "# 필요한 특성 개수를 지정합니다.\n",
    "number_of_features = 1000\n",
    "\n",
    "# 영화 리뷰 데이터에서 훈련 데이터와 타깃 벡터를 로드합니다.\n",
    "(data_train, target_train), (data_test, target_test) = imdb.load_data(\n",
    "    num_words=number_of_features)\n",
    "\n",
    "# 영화 리뷰 데이터를 원-핫 인코딩된 특성 행렬로 변환합니다.\n",
    "tokenizer = Tokenizer(num_words=number_of_features)\n",
    "features_train = tokenizer.sequences_to_matrix(data_train, mode=\"binary\")\n",
    "features_test = tokenizer.sequences_to_matrix(data_test, mode=\"binary\")\n",
    "\n",
    "# 신경망 모델을 만듭니다.\n",
    "network = models.Sequential()\n",
    "\n",
    "# 렐루 활성화 함수를 사용한 완전 연결 층을 추가합니다.\n",
    "network.add(layers.Dense(units=16,\n",
    "                         activation=\"relu\",\n",
    "                         input_shape=(number_of_features,)))\n",
    "\n",
    "# 렐루 활성화 함수를 사용한 완전 연결 층을 추가합니다.\n",
    "network.add(layers.Dense(units=16, activation=\"relu\"))\n",
    "\n",
    "# 시그모이드 활성화 함수를 사용한 완전 연결 층을 추가합니다.\n",
    "network.add(layers.Dense(units=1, activation=\"sigmoid\"))\n",
    "\n",
    "# 신경망의 모델 설정을 완료합니다.\n",
    "network.compile(loss=\"binary_crossentropy\", # 크로스 엔트로피\n",
    "                optimizer=\"rmsprop\", # 옵티마이저\n",
    "                metrics=[\"accuracy\"]) # 성능 지표\n",
    "\n",
    "# 훈련을 조기 종료하고 최선의 모델을 저장하기 위해 콜백 함수를 설정합니다.\n",
    "# EarlyStopping(monitor(기준을 정해줌)=\"val_loss\", patience=2)을 추가하여 에폭마다 테스트 \n",
    "# (검증) 손실을 감시하여 연속적으로 2 에폭 동안 테스트 손실이 향상되지 않으며\n",
    "# 훈련을 멈춤\n",
    "# 성능 개선여지 없을 때 조기 종료\n",
    "callbacks = [EarlyStopping(monitor=\"val_loss\", patience=2),\n",
    "             ModelCheckpoint(filepath=\"best_model.h5\",\n",
    "                             monitor=\"val_loss\",\n",
    "                             save_best_only=True)]\n",
    "\n",
    "# 신경망을 훈련합니다.\n",
    "history = network.fit(features_train, # 특성\n",
    "                      target_train, # 타깃 벡터\n",
    "                      epochs=15, # 에포크 횟수\n",
    "                      callbacks=callbacks, # 조기 종료\n",
    "                      verbose=1, # 에포크 과정을 출력합니다.\n",
    "                      batch_size=100, # 배치의 샘플 개수\n",
    "                      validation_data=(features_test, target_test)) # 테스트 데이터\n",
    "\n",
    "print('\\n')\n",
    "print('모델 성능 :')\n",
    "print(network.evaluate(features_test, target_test))"
   ]
  },
  {
   "cell_type": "code",
   "execution_count": 3,
   "metadata": {},
   "outputs": [
    {
     "data": {
      "image/png": "[encoded data removed]",
      "text/plain": [
       "<Figure size 432x288 with 1 Axes>"
      ]
     },
     "metadata": {
      "needs_background": "light"
     },
     "output_type": "display_data"
    },
    {
     "data": {
      "image/png": "[encoded data removed]",
      "text/plain": [
       "<Figure size 432x288 with 1 Axes>"
      ]
     },
     "metadata": {
      "needs_background": "light"
     },
     "output_type": "display_data"
    }
   ],
   "source": [
    "# 에포크 횟수를 사용해 카운트 객체를 만듭니다.\n",
    "epoch_count = range(1, len(training_accuracy) + 1)\n",
    "\n",
    "# 훈련 정확도와 테스트 정확도 기록을 저장합니다.\n",
    "import matplotlib.pyplot as plt\n",
    "%matplotlib inline\n",
    "\n",
    "training_accuracy = history.history[\"accuracy\"]\n",
    "test_accuracy = history.history[\"val_accuracy\"]\n",
    "\n",
    "training_loss = history.history[\"loss\"]\n",
    "test_loss = history.history['val_loss']\n",
    "\n",
    "plt.plot(epoch_count, training_accuracy, \"r--\")\n",
    "plt.plot(epoch_count, test_accuracy, \"b-\")\n",
    "\n",
    "# 정확도 그래프를 그립니다.\n",
    "plt.legend([\"Training Accuracy\", \"Test Accuracy\"])\n",
    "plt.xlabel(\"Epoch\")\n",
    "plt.ylabel(\"Accuracy Score\")\n",
    "plt.show();\n",
    "\n",
    "plt.plot(epoch_count, training_loss, \"r--\")\n",
    "plt.plot(epoch_count, test_loss, \"b-\")\n",
    "\n",
    "# 정확도 그래프를 그립니다.\n",
    "plt.legend([\"Training Loss\", \"Test Loss\"])\n",
    "plt.xlabel(\"Epoch\")\n",
    "plt.ylabel(\"Loss\")\n",
    "plt.show();"
   ]
  },
  {
   "cell_type": "markdown",
   "metadata": {},
   "source": [
    "### dropout, 가중치 규제, 조기 종료 합치기"
   ]
  },
  {
   "cell_type": "code",
   "execution_count": 7,
   "metadata": {},
   "outputs": [
    {
     "name": "stdout",
     "output_type": "stream",
     "text": [
      "Train on 25000 samples, validate on 25000 samples\n",
      "Epoch 1/15\n",
      "25000/25000 [==============================] - 1s 37us/step - loss: 0.7881 - accuracy: 0.6699 - val_loss: 0.5410 - val_accuracy: 0.8402\n",
      "Epoch 2/15\n",
      "25000/25000 [==============================] - 1s 32us/step - loss: 0.5855 - accuracy: 0.7681 - val_loss: 0.4690 - val_accuracy: 0.8528\n",
      "Epoch 3/15\n",
      "25000/25000 [==============================] - 1s 36us/step - loss: 0.5445 - accuracy: 0.7815 - val_loss: 0.4503 - val_accuracy: 0.8488\n",
      "Epoch 4/15\n",
      "25000/25000 [==============================] - 1s 38us/step - loss: 0.5289 - accuracy: 0.7874 - val_loss: 0.4472 - val_accuracy: 0.8513\n",
      "Epoch 5/15\n",
      "25000/25000 [==============================] - 1s 37us/step - loss: 0.5250 - accuracy: 0.7884 - val_loss: 0.4454 - val_accuracy: 0.8565\n",
      "Epoch 6/15\n",
      "25000/25000 [==============================] - 1s 37us/step - loss: 0.5223 - accuracy: 0.7892 - val_loss: 0.4370 - val_accuracy: 0.8522\n",
      "Epoch 7/15\n",
      "25000/25000 [==============================] - 1s 38us/step - loss: 0.5180 - accuracy: 0.7873 - val_loss: 0.4301 - val_accuracy: 0.8544\n",
      "Epoch 8/15\n",
      "25000/25000 [==============================] - 1s 38us/step - loss: 0.5184 - accuracy: 0.7880 - val_loss: 0.4306 - val_accuracy: 0.8493\n",
      "Epoch 9/15\n",
      "25000/25000 [==============================] - 1s 35us/step - loss: 0.5168 - accuracy: 0.7874 - val_loss: 0.4293 - val_accuracy: 0.8534\n",
      "Epoch 10/15\n",
      "25000/25000 [==============================] - 1s 37us/step - loss: 0.5178 - accuracy: 0.7873 - val_loss: 0.4272 - val_accuracy: 0.8562\n",
      "Epoch 11/15\n",
      "25000/25000 [==============================] - 1s 37us/step - loss: 0.5194 - accuracy: 0.7849 - val_loss: 0.4329 - val_accuracy: 0.8546\n",
      "Epoch 12/15\n",
      "25000/25000 [==============================] - 1s 34us/step - loss: 0.5131 - accuracy: 0.7924 - val_loss: 0.4289 - val_accuracy: 0.8516\n",
      "\n",
      "\n",
      "모델 성능 :\n",
      "25000/25000 [==============================] - 0s 17us/step\n",
      "[0.42891770879745483, 0.851639986038208]\n"
     ]
    }
   ],
   "source": [
    "from keras import regularizers\n",
    "from keras.callbacks import EarlyStopping, ModelCheckpoint\n",
    "\n",
    "# 랜덤 시드를 설정합니다.\n",
    "np.random.seed(0)\n",
    "\n",
    "# 필요한 특성 개수를 지정합니다.\n",
    "number_of_features = 1000\n",
    "\n",
    "# 영화 리뷰 데이터에서 훈련 데이터와 타깃 벡터를 로드합니다.\n",
    "(data_train, target_train), (data_test, target_test) = imdb.load_data(\n",
    "    num_words=number_of_features)\n",
    "\n",
    "# 영화영화 리뷰 데이터를 원-핫 인코딩된 특성 행렬로 변환합니다.\n",
    "tokenizer = Tokenizer(num_words=number_of_features)\n",
    "features_train = tokenizer.sequences_to_matrix(data_train, mode=\"binary\")\n",
    "features_test = tokenizer.sequences_to_matrix(data_test, mode=\"binary\")\n",
    "\n",
    "# 신경망 모델을 만듭니다.\n",
    "network = models.Sequential()\n",
    "\n",
    "# 렐루 활성화 함수를 사용한 완전 연결 층을 추가합니다.\n",
    "network.add(layers.Dropout(0.2, input_shape=(number_of_features,)))\n",
    "\n",
    "# Dropout 추가\n",
    "network.add(Dropout(0.3, noise_shape=None, seed=None))\n",
    "\n",
    "# 렐루 활성화 함수를 사용한 완전 연결 층을 추가합니다.\n",
    "network.add(layers.Dense(units=16,\n",
    "                         activation=\"relu\",\n",
    "                         kernel_regularizer=regularizers.l2(0.01),\n",
    "#                          kernel_regularizer='l1_l2',\n",
    "                         input_shape=(number_of_features,)))\n",
    "\n",
    "# Dropout 추가\n",
    "network.add(Dropout(0.5, noise_shape=None, seed=None))\n",
    "\n",
    "# 렐루 활성화 함수를 사용한 완전 연결 층을 추가합니다.\n",
    "# 층의 매개변수로 kernel_regularizer=regularizers.ㅣ2(0.01)를 지정하여 가중치 규제\n",
    "# 0.01은 가중치가 큰 모델 파라미터 값에 얼마나 패널티를 부여할지를 결정함\n",
    "# l1, l2 규제 동시 :l1_l2(l1=0.01,l2=0.01), 기본값을 사용 : l1_l2\n",
    "network.add(layers.Dense(units=16,\n",
    "                         kernel_regularizer=regularizers.l2(0.01),\n",
    "#                          kernel_regularizer='l1_l2',\n",
    "                         activation=\"relu\"))\n",
    "\n",
    "# 시그모이드 활성화 함수를 사용한 완전 연결 층을 추가합니다.\n",
    "network.add(layers.Dense(units=1, activation=\"sigmoid\"))\n",
    "\n",
    "\n",
    "# 신경망의 모델 설정을 완료합니다.\n",
    "network.compile(loss=\"binary_crossentropy\", # 크로스 엔트로피\n",
    "                optimizer=\"rmsprop\", # 옵티마이저\n",
    "                metrics=[\"accuracy\"]) # 성능 지표\n",
    "\n",
    "\n",
    "# 훈련을 조기 종료하고 최선의 모델을 저장하기 위해 콜백 함수를 설정합니다.\n",
    "# EarlyStopping(monitor(기준을 정해줌)=\"val_loss\", patience=2)을 추가하여 에폭마다 테스트 \n",
    "# (검증) 손실을 감시하여 연속적으로 2 에폭 동안 테스트 손실이 향상되지 않으며\n",
    "# 훈련을 멈춤\n",
    "# 성능 개선여지 없을 때 조기 종료\n",
    "callbacks = [EarlyStopping(monitor=\"val_loss\", patience=2),\n",
    "             ModelCheckpoint(filepath=\"best_model.h5\",\n",
    "                             monitor=\"val_loss\",\n",
    "                             save_best_only=True)]\n",
    "\n",
    "# 신경망을 훈련합니다.\n",
    "history = network.fit(features_train, # 특성\n",
    "                      target_train, # 타깃 벡터\n",
    "                      epochs=15, # 에포크 횟수\n",
    "                      callbacks=callbacks, # 조기 종료\n",
    "                      verbose=1, # 에포크 과정을 출력합니다.\n",
    "                      batch_size=100, # 배치의 샘플 개수\n",
    "                      validation_data=(features_test, target_test)) # 테스트 데이터\n",
    "\n",
    "print('\\n')\n",
    "print('모델 성능 :')\n",
    "print(network.evaluate(features_test, target_test))\n",
    "\n",
    "# 훈련 손실과 테스트 손실의 기록을 저장합니다.\n",
    "training_accuracy = history.history[\"accuracy\"]\n",
    "test_accuracy = history.history[\"val_accuracy\"]\n",
    "\n",
    "# 에포크 횟수를 사용해 카운트 객체를 만듭니다.\n",
    "epoch_count = range(1, len(training_accuracy) + 1)"
   ]
  },
  {
   "cell_type": "markdown",
   "metadata": {},
   "source": [
    "## 모델 훈련 진행 과정을 저장하기"
   ]
  },
  {
   "cell_type": "code",
   "execution_count": 44,
   "metadata": {},
   "outputs": [
    {
     "name": "stdout",
     "output_type": "stream",
     "text": [
      "Train on 25000 samples, validate on 25000 samples\n",
      "Epoch 1/15\n",
      "25000/25000 [==============================] - 2s 65us/step - loss: 0.7930 - accuracy: 0.6482 - val_loss: 0.5469 - val_accuracy: 0.8402\n",
      "Epoch 2/15\n",
      "25000/25000 [==============================] - 1s 58us/step - loss: 0.5648 - accuracy: 0.7914 - val_loss: 0.4587 - val_accuracy: 0.8502\n",
      "Epoch 3/15\n",
      "25000/25000 [==============================] - 1s 59us/step - loss: 0.5232 - accuracy: 0.8118 - val_loss: 0.4500 - val_accuracy: 0.8540\n",
      "Epoch 4/15\n",
      "25000/25000 [==============================] - 1s 60us/step - loss: 0.5121 - accuracy: 0.8140 - val_loss: 0.4257 - val_accuracy: 0.8573\n",
      "Epoch 5/15\n",
      "25000/25000 [==============================] - 1s 59us/step - loss: 0.5013 - accuracy: 0.8178 - val_loss: 0.4377 - val_accuracy: 0.8535\n",
      "Epoch 6/15\n",
      "25000/25000 [==============================] - 1s 59us/step - loss: 0.5002 - accuracy: 0.8164 - val_loss: 0.4221 - val_accuracy: 0.8567\n",
      "Epoch 7/15\n",
      "25000/25000 [==============================] - 2s 60us/step - loss: 0.4965 - accuracy: 0.8168 - val_loss: 0.4226 - val_accuracy: 0.8571\n",
      "Epoch 8/15\n",
      "25000/25000 [==============================] - 1s 60us/step - loss: 0.4933 - accuracy: 0.8207 - val_loss: 0.4221 - val_accuracy: 0.8545\n",
      "\n",
      "\n",
      "모델 성능 :\n",
      "25000/25000 [==============================] - 1s 31us/step\n",
      "[0.42209520350456237, 0.8544800281524658]\n"
     ]
    }
   ],
   "source": [
    "# 라이브러리를 임포트합니다.\n",
    "import numpy as np\n",
    "from keras.datasets import imdb\n",
    "from keras.preprocessing.text import Tokenizer\n",
    "from keras import models\n",
    "from keras import layers\n",
    "\n",
    "# 랜덤 시드를 설정합니다.\n",
    "np.random.seed(0)\n",
    "\n",
    "# 필요한 특성 개수를 지정합니다.\n",
    "number_of_features = 1000\n",
    "\n",
    "# IMDB 영화 데이터에서 훈련 데이터와 타깃 벡터를 로드합니다.\n",
    "(data_train, target_train), (data_test, target_test) = imdb.load_data(\n",
    "    num_words=number_of_features)\n",
    "\n",
    "# IMDB 데이터를 원-핫 인코딩된 특성 행렬로 변환합니다.\n",
    "tokenizer = Tokenizer(num_words=number_of_features)\n",
    "features_train = tokenizer.sequences_to_matrix(data_train, mode=\"binary\")\n",
    "features_test = tokenizer.sequences_to_matrix(data_test, mode=\"binary\")\n",
    "\n",
    "# 신경망 모델을 만듭니다.\n",
    "network = models.Sequential()\n",
    "network.add(layers.Dropout(0.2, input_shape=(number_of_features,)))\n",
    "network.add(layers.Dense(units=16, \n",
    "                         kernel_regularizer=regularizers.l2(0.01),\n",
    "                         activation=\"relu\"))\n",
    "network.add(layers.Dropout(0.5))\n",
    "network.add(layers.Dense(units=16,\n",
    "                         kernel_regularizer=regularizers.l2(0.01),\n",
    "                         activation=\"relu\"))\n",
    "network.add(layers.Dropout(0.5))\n",
    "network.add(layers.Dense(units=1, activation=\"sigmoid\"))\n",
    "\n",
    "\n",
    "# 신경망의 모델 설정을 완료합니다.\n",
    "network.compile(loss=\"binary_crossentropy\", # 크로스 엔트로피\n",
    "                optimizer=\"rmsprop\",        # 옵티마이저\n",
    "                metrics=[\"accuracy\"])       # 성능 지표\n",
    "\n",
    "# 조기 종료\n",
    "callbacks = [EarlyStopping(monitor=\"val_loss\", patience=2),\n",
    "             ModelCheckpoint(filepath=\"best_model.h5\",\n",
    "                             monitor=\"val_loss\",\n",
    "                             save_best_only=True)]\n",
    "\n",
    "# 신경망을 훈련합니다.\n",
    "history = network.fit(features_train, # 특성\n",
    "                      target_train, # 타깃 벡터\n",
    "                      epochs=15, # 에포크 횟수\n",
    "                      callbacks=callbacks, # 조기 종료\n",
    "                      verbose=1, # 에포크 과정을 출력합니다.\n",
    "                      batch_size=100, # 배치의 샘플 개수\n",
    "                      validation_data=(features_test, target_test)) # 테스트 데이터\n",
    "\n",
    "# 훈련 손실과 테스트 손실의 기록을 저장합니다.\n",
    "training_accuracy = history.history[\"accuracy\"]\n",
    "test_accuracy = history.history[\"val_accuracy\"]\n",
    "\n",
    "# 에포크 횟수를 사용해 카운트 객체를 만듭니다.\n",
    "epoch_count = range(1, len(training_accuracy) + 1)     \n",
    "     \n",
    "print('\\n')\n",
    "print('모델 성능 :')\n",
    "print(network.evaluate(features_test, target_test))"
   ]
  },
  {
   "cell_type": "code",
   "execution_count": 45,
   "metadata": {},
   "outputs": [
    {
     "data": {
      "image/png": "[encoded data removed]",
      "text/plain": [
       "<Figure size 432x288 with 1 Axes>"
      ]
     },
     "metadata": {
      "needs_background": "light"
     },
     "output_type": "display_data"
    }
   ],
   "source": [
    "training_accuracy = history.history[\"accuracy\"]\n",
    "test_accuracy = history.history[\"val_accuracy\"]\n",
    "plt.plot(epoch_count, training_accuracy, \"r--\")\n",
    "plt.plot(epoch_count, test_accuracy, \"b-\")\n",
    "\n",
    "# 정확도 그래프를 그립니다.\n",
    "plt.legend([\"Training Accuracy\", \"Test Accuracy\"])\n",
    "plt.xlabel(\"Epoch\")\n",
    "plt.ylabel(\"Accuracy Score\")\n",
    "plt.show();"
   ]
  },
  {
   "cell_type": "code",
   "execution_count": 46,
   "metadata": {},
   "outputs": [],
   "source": [
    "# 신경망 모델 저장\n",
    "network.save('model.h5')"
   ]
  },
  {
   "cell_type": "code",
   "execution_count": 47,
   "metadata": {},
   "outputs": [
    {
     "name": "stdout",
     "output_type": "stream",
     "text": [
      "25000/25000 [==============================] - 1s 35us/step\n"
     ]
    },
    {
     "data": {
      "text/plain": [
       "[0.42209520350456237, 0.8544800281524658]"
      ]
     },
     "execution_count": 47,
     "metadata": {},
     "output_type": "execute_result"
    }
   ],
   "source": [
    "from keras.models import load_model\n",
    "network = load_model('model.h5')\n",
    "network.evaluate(features_test, target_test)"
   ]
  }
 ],
 "metadata": {
  "kernelspec": {
   "display_name": "Python 3",
   "language": "python",
   "name": "python3"
  },
  "language_info": {
   "codemirror_mode": {
    "name": "ipython",
    "version": 3
   },
   "file_extension": ".py",
   "mimetype": "text/x-python",
   "name": "python",
   "nbconvert_exporter": "python",
   "pygments_lexer": "ipython3",
   "version": "3.7.7"
  }
 },
 "nbformat": 4,
 "nbformat_minor": 2
}
