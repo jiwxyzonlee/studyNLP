{
 "cells": [
  {
   "cell_type": "markdown",
   "metadata": {},
   "source": [
    "### Q. 로이터 뉴스를 46개의 상호 배타적인 토픽으로 분류하는 신경망 모델 개발\n",
    "- 데이터 소스 : from keras.datasets import reuters\n",
    "- 데이터 및 레이블 벡터 변환 : 주어진 사용자 함수 참조\n",
    "- 모델 구성 : 2개 은닉층(64개 유닛), 1개 출력층\n",
    "- 검증 : 훈련 데이터에서 1000개 분리하여 검증 데이터로 사용\n",
    "- 시각화 : 정확도와 손실율 곡선을 비교 시사점 도출"
   ]
  },
  {
   "cell_type": "code",
   "execution_count": 5,
   "metadata": {},
   "outputs": [
    {
     "name": "stdout",
     "output_type": "stream",
     "text": [
      "Train on 8982 samples, validate on 2246 samples\n",
      "Epoch 1/10\n",
      "8982/8982 [==============================] - 2s 219us/step - loss: 1.5143 - accuracy: 0.6766 - val_loss: 1.1080 - val_accuracy: 0.7435\n",
      "Epoch 2/10\n",
      "8982/8982 [==============================] - 2s 187us/step - loss: 0.7482 - accuracy: 0.8382 - val_loss: 0.9240 - val_accuracy: 0.7930\n",
      "Epoch 3/10\n",
      "8982/8982 [==============================] - 2s 189us/step - loss: 0.4481 - accuracy: 0.9035 - val_loss: 0.9246 - val_accuracy: 0.7983\n",
      "Epoch 4/10\n",
      "8982/8982 [==============================] - 2s 185us/step - loss: 0.3008 - accuracy: 0.9341 - val_loss: 0.9579 - val_accuracy: 0.8054\n",
      "Epoch 5/10\n",
      "8982/8982 [==============================] - 2s 186us/step - loss: 0.2372 - accuracy: 0.9458 - val_loss: 1.0142 - val_accuracy: 0.8014\n",
      "Epoch 6/10\n",
      "8982/8982 [==============================] - 2s 184us/step - loss: 0.2004 - accuracy: 0.9480 - val_loss: 1.0921 - val_accuracy: 0.7916\n",
      "Epoch 7/10\n",
      "8982/8982 [==============================] - 2s 192us/step - loss: 0.1776 - accuracy: 0.9501 - val_loss: 1.1183 - val_accuracy: 0.7961\n",
      "Epoch 8/10\n",
      "8982/8982 [==============================] - 2s 187us/step - loss: 0.1605 - accuracy: 0.9527 - val_loss: 1.2656 - val_accuracy: 0.7787\n",
      "Epoch 9/10\n",
      "8982/8982 [==============================] - 2s 187us/step - loss: 0.1481 - accuracy: 0.9513 - val_loss: 1.2072 - val_accuracy: 0.7970\n",
      "Epoch 10/10\n",
      "8982/8982 [==============================] - 2s 187us/step - loss: 0.1436 - accuracy: 0.9516 - val_loss: 1.2886 - val_accuracy: 0.7939\n",
      "\n",
      "\n",
      "모델 성능 :\n",
      "2246/2246 [==============================] - 0s 106us/step\n",
      "[1.2885513793965693, 0.7938557267189026]\n"
     ]
    }
   ],
   "source": [
    "import numpy as np\n",
    "from keras.datasets import reuters\n",
    "from keras.utils.np_utils import to_categorical\n",
    "from keras.preprocessing.text import Tokenizer\n",
    "from keras import models\n",
    "from keras import layers\n",
    "\n",
    "# 랜덤 시드를 설정합니다.\n",
    "np.random.seed(0)\n",
    "\n",
    "# 필요한 특성 개수를 지정합니다.\n",
    "number_of_features = 10000\n",
    "\n",
    "# 특성과 타깃 데이터를 로드합니다.\n",
    "data = reuters.load_data(num_words=number_of_features)\n",
    "(data_train, target_vector_train), (data_test, target_vector_test) = data\n",
    "\n",
    "# 특성 데이터를 원-핫 인코딩된 특성 행렬로 변환합니다.\n",
    "tokenizer = Tokenizer(num_words=number_of_features)\n",
    "features_train = tokenizer.sequences_to_matrix(data_train, mode=\"binary\")\n",
    "features_test = tokenizer.sequences_to_matrix(data_test, mode=\"binary\")\n",
    "\n",
    "# 타깃 벡터를 원-핫 인코딩하여 타깃 행렬을 만듭니다.\n",
    "target_train = to_categorical(target_vector_train)\n",
    "target_test = to_categorical(target_vector_test)\n",
    "\n",
    "# 신경망 모델을 만듭니다.\n",
    "network = models.Sequential()\n",
    "\n",
    "# 렐루 활성화 함수를 사용한 완전 연결 층을 추가합니다.\n",
    "network.add(layers.Dense(units=100,\n",
    "                         activation=\"relu\",\n",
    "                         input_shape=(number_of_features,)))\n",
    "\n",
    "# 렐루 활성화 함수를 사용한 완전 연결 층을 추가합니다.\n",
    "network.add(layers.Dense(units=100, activation=\"relu\"))\n",
    "\n",
    "# 소프트맥스 활성화 함수를 사용하는 완전 연결 층을 추가합니다.\n",
    "# 다중 분류 문제이기 때문에 출력층에 소프트맥스 활성화 함수와 46개의 유닛을\n",
    "# 하나씩 사용\n",
    "network.add(layers.Dense(units=46, activation=\"softmax\"))\n",
    "\n",
    "# 신경망의 모델 설정을 완료합니다.\n",
    "# 다중 분류에 맞은 손실 함수인 범주형 크로스엔트로피를 사용하기 위해\n",
    "# categorical_ crossentropy로 설정\n",
    "network.compile(loss=\"categorical_crossentropy\", \n",
    "                optimizer=\"rmsprop\", # 옵티마이저\n",
    "                metrics=[\"accuracy\"]) # 성능 지표\n",
    "\n",
    "# 신경망을 훈련합니다.\n",
    "history = network.fit(features_train, # 특성\n",
    "                      target_train, # 타깃\n",
    "                      epochs=10, \n",
    "                      verbose=1, # 출력 없음\n",
    "                      batch_size=100, # 배치의 샘플 개수\n",
    "                      validation_data=(features_test, target_test)) # 테스트 데이터\n",
    "\n",
    "# 훈련 손실과 테스트 손실의 기록을 저장합니다.\n",
    "training_accuracy = history.history[\"accuracy\"]\n",
    "test_accuracy = history.history[\"val_accuracy\"]\n",
    "\n",
    "# 에포크 횟수를 사용해 카운트 객체를 만듭니다.\n",
    "epoch_count = range(1, len(training_accuracy) + 1)\n",
    "\n",
    "print('\\n')\n",
    "print('모델 성능 :')\n",
    "print(network.evaluate(features_test, target_test))"
   ]
  },
  {
   "cell_type": "code",
   "execution_count": 6,
   "metadata": {},
   "outputs": [
    {
     "data": {
      "image/png": "[encoded data removed]",
      "text/plain": [
       "<Figure size 432x288 with 1 Axes>"
      ]
     },
     "metadata": {
      "needs_background": "light"
     },
     "output_type": "display_data"
    }
   ],
   "source": [
    "import matplotlib.pyplot as plt\n",
    "%matplotlib inline\n",
    "# 시각화\n",
    "training_accuracy = history.history[\"accuracy\"]\n",
    "test_accuracy = history.history[\"val_accuracy\"]\n",
    "plt.plot(epoch_count, training_accuracy, \"r--\")\n",
    "plt.plot(epoch_count, test_accuracy, \"b-\")\n",
    "\n",
    "# 정확도 그래프를 그립니다.\n",
    "plt.legend([\"Training Accuracy\", \"Test Accuracy\"])\n",
    "plt.xlabel(\"Epoch\")\n",
    "plt.ylabel(\"Accuracy Score\")\n",
    "plt.show()\n",
    "plt.close()"
   ]
  },
  {
   "cell_type": "code",
   "execution_count": null,
   "metadata": {},
   "outputs": [],
   "source": [
    "# 사용자 함수"
   ]
  },
  {
   "cell_type": "code",
   "execution_count": 1,
   "metadata": {},
   "outputs": [
    {
     "name": "stderr",
     "output_type": "stream",
     "text": [
      "Using TensorFlow backend.\n"
     ]
    },
    {
     "name": "stdout",
     "output_type": "stream",
     "text": [
      "Downloading data from https://s3.amazonaws.com/text-datasets/reuters.npz\n",
      "2113536/2110848 [==============================] - 2s 1us/step\n"
     ]
    }
   ],
   "source": [
    "from keras.datasets import reuters\n",
    "\n",
    "(train_data, train_labels), (test_data, test_labels) = reuters.load_data(num_words=10000)"
   ]
  },
  {
   "cell_type": "code",
   "execution_count": 2,
   "metadata": {},
   "outputs": [],
   "source": [
    "import numpy as np\n",
    "\n",
    "def vectorize_sequences(sequences, dimension=10000):\n",
    "    results = np.zeros((len(sequences), dimension))\n",
    "    for i, sequence in enumerate(sequences):\n",
    "        results[i, sequence] = 1.\n",
    "    return results\n",
    "\n",
    "# 훈련 데이터 벡터 변환\n",
    "x_train = vectorize_sequences(train_data)\n",
    "# 테스트 데이터 벡터 변환\n",
    "x_test = vectorize_sequences(test_data)"
   ]
  },
  {
   "cell_type": "code",
   "execution_count": 3,
   "metadata": {},
   "outputs": [],
   "source": [
    "def to_one_hot(labels, dimension=46):\n",
    "    results = np.zeros((len(labels), dimension))\n",
    "    for i, label in enumerate(labels):\n",
    "        results[i, label] = 1.\n",
    "    return results\n",
    "\n",
    "# 훈련 레이블 벡터 변환\n",
    "one_hot_train_labels = to_one_hot(train_labels)\n",
    "# 테스트 레이블 벡터 변환\n",
    "one_hot_test_labels = to_one_hot(test_labels)"
   ]
  },
  {
   "cell_type": "code",
   "execution_count": 8,
   "metadata": {},
   "outputs": [
    {
     "name": "stdout",
     "output_type": "stream",
     "text": [
      "Train on 7982 samples, validate on 1000 samples\n",
      "Epoch 1/10\n",
      "7982/7982 [==============================] - 1s 96us/step - loss: 2.4971 - accuracy: 0.5293 - val_loss: 1.6688 - val_accuracy: 0.6430\n",
      "Epoch 2/10\n",
      "7982/7982 [==============================] - 1s 88us/step - loss: 1.3980 - accuracy: 0.7005 - val_loss: 1.3011 - val_accuracy: 0.7210\n",
      "Epoch 3/10\n",
      "7982/7982 [==============================] - 1s 85us/step - loss: 1.0605 - accuracy: 0.7761 - val_loss: 1.1471 - val_accuracy: 0.7460\n",
      "Epoch 4/10\n",
      "7982/7982 [==============================] - 1s 88us/step - loss: 0.8367 - accuracy: 0.8281 - val_loss: 1.0503 - val_accuracy: 0.7730\n",
      "Epoch 5/10\n",
      "7982/7982 [==============================] - 1s 89us/step - loss: 0.6682 - accuracy: 0.8609 - val_loss: 0.9832 - val_accuracy: 0.7920\n",
      "Epoch 6/10\n",
      "7982/7982 [==============================] - 1s 88us/step - loss: 0.5319 - accuracy: 0.8900 - val_loss: 0.9207 - val_accuracy: 0.8040\n",
      "Epoch 7/10\n",
      "7982/7982 [==============================] - 1s 89us/step - loss: 0.4273 - accuracy: 0.9116 - val_loss: 0.9045 - val_accuracy: 0.8140\n",
      "Epoch 8/10\n",
      "7982/7982 [==============================] - 1s 88us/step - loss: 0.3483 - accuracy: 0.9265 - val_loss: 0.8942 - val_accuracy: 0.8150\n",
      "Epoch 9/10\n",
      "7982/7982 [==============================] - 1s 88us/step - loss: 0.2870 - accuracy: 0.9359 - val_loss: 0.9074 - val_accuracy: 0.8110\n",
      "Epoch 10/10\n",
      "7982/7982 [==============================] - 1s 88us/step - loss: 0.2404 - accuracy: 0.9421 - val_loss: 0.9064 - val_accuracy: 0.8100\n",
      "\n",
      "\n",
      "모델 성능 :\n",
      "2246/2246 [==============================] - 0s 99us/step\n",
      "[0.9940793790248283, 0.7871772050857544]\n"
     ]
    }
   ],
   "source": [
    "from keras.utils.np_utils import to_categorical\n",
    "\n",
    "one_hot_train_labels = to_categorical(train_labels)\n",
    "one_hot_test_labels = to_categorical(test_labels)\n",
    "\n",
    "from keras import models\n",
    "from keras import layers\n",
    "\n",
    "model = models.Sequential()\n",
    "model.add(layers.Dense(64, activation='relu', input_shape=(10000,)))\n",
    "model.add(layers.Dense(64, activation='relu'))\n",
    "model.add(layers.Dense(46, activation='softmax'))\n",
    "\n",
    "model.compile(optimizer='rmsprop',\n",
    "              loss='categorical_crossentropy',\n",
    "              metrics=['accuracy'])\n",
    "\n",
    "x_val = x_train[:1000]\n",
    "partial_x_train = x_train[1000:]\n",
    "\n",
    "y_val = one_hot_train_labels[:1000]\n",
    "partial_y_train = one_hot_train_labels[1000:]\n",
    "\n",
    "history = model.fit(partial_x_train,\n",
    "                    partial_y_train,\n",
    "                    epochs=10,\n",
    "                    batch_size=512,\n",
    "                    validation_data=(x_val, y_val))\n",
    "\n",
    "training_accuracy = history.history[\"accuracy\"]\n",
    "test_accuracy = history.history[\"val_accuracy\"]\n",
    "\n",
    "# 에포크 횟수를 사용해 카운트 객체를 만듭니다.\n",
    "epoch_count = range(1, len(training_accuracy) + 1)\n",
    "\n",
    "print('\\n')\n",
    "print('모델 성능 :')\n",
    "print(model.evaluate(x_test, one_hot_test_labels))"
   ]
  },
  {
   "cell_type": "code",
   "execution_count": 11,
   "metadata": {},
   "outputs": [
    {
     "name": "stdout",
     "output_type": "stream",
     "text": [
      "2246/2246 [==============================] - 0s 117us/step\n"
     ]
    },
    {
     "data": {
      "text/plain": [
       "[1.006892014908557, 0.7876224517822266]"
      ]
     },
     "execution_count": 11,
     "metadata": {},
     "output_type": "execute_result"
    }
   ],
   "source": [
    "results = model.evaluate(x_test, one_hot_test_labels)\n",
    "results"
   ]
  }
 ],
 "metadata": {
  "kernelspec": {
   "display_name": "Python 3",
   "language": "python",
   "name": "python3"
  },
  "language_info": {
   "codemirror_mode": {
    "name": "ipython",
    "version": 3
   },
   "file_extension": ".py",
   "mimetype": "text/x-python",
   "name": "python",
   "nbconvert_exporter": "python",
   "pygments_lexer": "ipython3",
   "version": "3.7.7"
  }
 },
 "nbformat": 4,
 "nbformat_minor": 2
}
