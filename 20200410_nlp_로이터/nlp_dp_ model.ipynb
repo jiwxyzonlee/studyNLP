{
 "cells": [
  {
   "cell_type": "markdown",
   "metadata": {},
   "source": [
    "## 모델 튜닝"
   ]
  },
  {
   "cell_type": "code",
   "execution_count": 1,
   "metadata": {},
   "outputs": [
    {
     "name": "stderr",
     "output_type": "stream",
     "text": [
      "Using TensorFlow backend.\n"
     ]
    }
   ],
   "source": [
    "# 라이브러리를 임포트합니다.\n",
    "import numpy as np\n",
    "from keras.datasets import imdb\n",
    "from keras.preprocessing.text import Tokenizer\n",
    "from keras import models\n",
    "from keras import layers\n",
    "import matplotlib.pyplot as plt"
   ]
  },
  {
   "cell_type": "code",
   "execution_count": 2,
   "metadata": {},
   "outputs": [
    {
     "name": "stdout",
     "output_type": "stream",
     "text": [
      "Train on 25000 samples, validate on 25000 samples\n",
      "Epoch 1/15\n",
      "25000/25000 [==============================] - 0s 18us/step - loss: 0.5944 - accuracy: 0.6903 - val_loss: 0.4834 - val_accuracy: 0.7972\n",
      "Epoch 2/15\n",
      "25000/25000 [==============================] - 0s 15us/step - loss: 0.4329 - accuracy: 0.8233 - val_loss: 0.3947 - val_accuracy: 0.8355\n",
      "Epoch 3/15\n",
      "25000/25000 [==============================] - 0s 15us/step - loss: 0.3697 - accuracy: 0.8488 - val_loss: 0.3566 - val_accuracy: 0.8509\n",
      "Epoch 4/15\n",
      "25000/25000 [==============================] - 0s 15us/step - loss: 0.3417 - accuracy: 0.8581 - val_loss: 0.3411 - val_accuracy: 0.8559\n",
      "Epoch 5/15\n",
      "25000/25000 [==============================] - 0s 14us/step - loss: 0.3241 - accuracy: 0.8658 - val_loss: 0.3908 - val_accuracy: 0.8299\n",
      "Epoch 6/15\n",
      "25000/25000 [==============================] - 0s 14us/step - loss: 0.3191 - accuracy: 0.8679 - val_loss: 0.3436 - val_accuracy: 0.8528\n",
      "Epoch 7/15\n",
      "25000/25000 [==============================] - 0s 14us/step - loss: 0.3101 - accuracy: 0.8700 - val_loss: 0.3478 - val_accuracy: 0.8507\n",
      "Epoch 8/15\n",
      "25000/25000 [==============================] - 0s 14us/step - loss: 0.3036 - accuracy: 0.8742 - val_loss: 0.3261 - val_accuracy: 0.8614\n",
      "Epoch 9/15\n",
      "25000/25000 [==============================] - 0s 15us/step - loss: 0.3034 - accuracy: 0.8730 - val_loss: 0.3267 - val_accuracy: 0.8598\n",
      "Epoch 10/15\n",
      "25000/25000 [==============================] - 0s 15us/step - loss: 0.3026 - accuracy: 0.8730 - val_loss: 0.3322 - val_accuracy: 0.8582\n",
      "Epoch 11/15\n",
      "25000/25000 [==============================] - 0s 15us/step - loss: 0.2973 - accuracy: 0.8780 - val_loss: 0.3330 - val_accuracy: 0.8572\n",
      "Epoch 12/15\n",
      "25000/25000 [==============================] - 0s 15us/step - loss: 0.2937 - accuracy: 0.8776 - val_loss: 0.3329 - val_accuracy: 0.8571\n",
      "Epoch 13/15\n",
      "25000/25000 [==============================] - 0s 15us/step - loss: 0.2934 - accuracy: 0.8782 - val_loss: 0.3372 - val_accuracy: 0.8559\n",
      "Epoch 14/15\n",
      "25000/25000 [==============================] - 0s 15us/step - loss: 0.2906 - accuracy: 0.8777 - val_loss: 0.3371 - val_accuracy: 0.8558\n",
      "Epoch 15/15\n",
      "25000/25000 [==============================] - 0s 15us/step - loss: 0.2886 - accuracy: 0.8793 - val_loss: 0.3382 - val_accuracy: 0.8545\n",
      "\n",
      "\n",
      "모델 성능 :\n",
      "25000/25000 [==============================] - 0s 14us/step\n",
      "[0.33820017221450804, 0.8545200228691101]\n"
     ]
    }
   ],
   "source": [
    "# 랜덤 시드를 설정합니다.\n",
    "np.random.seed(0)\n",
    "\n",
    "# 필요한 특성 개수를 지정합니다.\n",
    "number_of_features = 1000\n",
    "\n",
    "# 영화 리뷰 데이터에서 훈련 데이터와 타깃 벡터를 로드합니다.\n",
    "(data_train, target_train), (data_test, target_test) = imdb.load_data(\n",
    "    num_words=number_of_features)\n",
    "\n",
    "# 영화영화 리뷰 데이터를 원-핫 인코딩된 특성 행렬로 변환합니다.\n",
    "tokenizer = Tokenizer(num_words=number_of_features)\n",
    "features_train = tokenizer.sequences_to_matrix(data_train, mode=\"binary\")\n",
    "features_test = tokenizer.sequences_to_matrix(data_test, mode=\"binary\")\n",
    "\n",
    "# 신경망 모델을 만듭니다.\n",
    "network = models.Sequential()\n",
    "\n",
    "# 렐루 활성화 함수를 사용한 완전 연결 층을 추가합니다.\n",
    "network.add(layers.Dense(units=16,\n",
    "                         activation=\"relu\",\n",
    "                         input_shape=(number_of_features,)))\n",
    "\n",
    "# 렐루 활성화 함수를 사용한 완전 연결 층을 추가합니다.\n",
    "network.add(layers.Dense(units=16, activation=\"relu\"))\n",
    "\n",
    "# 시그모이드 활성화 함수를 사용한 완전 연결 층을 추가합니다.\n",
    "network.add(layers.Dense(units=1, activation=\"sigmoid\"))\n",
    "\n",
    "# 신경망의 모델 설정을 완료합니다.\n",
    "network.compile(loss=\"binary_crossentropy\", # 크로스 엔트로피\n",
    "                optimizer=\"rmsprop\", # 옵티마이저\n",
    "                metrics=[\"accuracy\"]) # 성능 지표\n",
    "\n",
    "# 신경망을 훈련합니다.\n",
    "# 1000개 데이터를 미니배치로 추출해서 15회 학습하는 것으로 설정\n",
    "history = network.fit(features_train, # 특성\n",
    "                      target_train, # 타깃\n",
    "                      epochs=15, # 에포크 횟수\n",
    "                      verbose=1, # 출력 없음\n",
    "                      batch_size=1000, # 배치의 샘플 개수\n",
    "                      validation_data=(features_test, target_test)) # 테스트 데이터\n",
    "print('\\n')\n",
    "print('모델 성능 :')\n",
    "print(network.evaluate(features_test, target_test))\n",
    "\n",
    "# 훈련 손실과 테스트 손실의 기록을 저장합니다.\n",
    "training_accuracy = history.history[\"accuracy\"]\n",
    "test_accuracy = history.history[\"val_accuracy\"]\n",
    "\n",
    "# 에포크 횟수를 사용해 카운트 객체를 만듭니다.\n",
    "epoch_count = range(1, len(training_accuracy) + 1)\n",
    "\n"
   ]
  },
  {
   "cell_type": "code",
   "execution_count": 6,
   "metadata": {},
   "outputs": [
    {
     "data": {
      "image/png": "[encoded data removed]",
      "text/plain": [
       "<Figure size 432x288 with 1 Axes>"
      ]
     },
     "metadata": {
      "needs_background": "light"
     },
     "output_type": "display_data"
    },
    {
     "data": {
      "image/png": "[encoded data removed]",
      "text/plain": [
       "<Figure size 432x288 with 1 Axes>"
      ]
     },
     "metadata": {
      "needs_background": "light"
     },
     "output_type": "display_data"
    }
   ],
   "source": [
    "# 훈련 정확도와 테스트 정확도 기록을 저장합니다.\n",
    "import matplotlib.pyplot as plt\n",
    "%matplotlib inline\n",
    "\n",
    "# plt.plot(history.history['accuracy'])\n",
    "# plt.plot(history.history['val_accuracy'])\n",
    "# plt.title('Accuracy')\n",
    "# plt.legend(['train','test'], loc='upper left')\n",
    "# plt.xlabel(\"Epoch\")\n",
    "# plt.ylabel(\"Accuracy Score\")\n",
    "# plt.show()\n",
    "\n",
    "training_accuracy = history.history[\"accuracy\"]\n",
    "test_accuracy = history.history[\"val_accuracy\"]\n",
    "\n",
    "training_loss = history.history[\"loss\"]\n",
    "test_loss = history.history['val_loss']\n",
    "\n",
    "plt.plot(epoch_count, training_accuracy, \"r--\")\n",
    "plt.plot(epoch_count, test_accuracy, \"b-\")\n",
    "\n",
    "# 정확도 그래프를 그립니다.\n",
    "plt.legend([\"Training Accuracy\", \"Test Accuracy\"])\n",
    "plt.xlabel(\"Epoch\")\n",
    "plt.ylabel(\"Accuracy Score\")\n",
    "plt.show();\n",
    "\n",
    "plt.plot(epoch_count, training_loss, \"r--\")\n",
    "plt.plot(epoch_count, test_loss, \"b-\")\n",
    "\n",
    "# 정확도 그래프를 그립니다.\n",
    "plt.legend([\"Training Loss\", \"Test Loss\"])\n",
    "plt.xlabel(\"Epoch\")\n",
    "plt.ylabel(\"Loss\")\n",
    "plt.show();"
   ]
  },
  {
   "cell_type": "markdown",
   "metadata": {},
   "source": [
    "## 가중치 규제로 과대적합 줄이기"
   ]
  },
  {
   "cell_type": "code",
   "execution_count": 34,
   "metadata": {},
   "outputs": [
    {
     "name": "stdout",
     "output_type": "stream",
     "text": [
      "Train on 25000 samples, validate on 25000 samples\n",
      "Epoch 1/15\n",
      "25000/25000 [==============================] - 1s 46us/step - loss: 0.6483 - accuracy: 0.8150 - val_loss: 0.4981 - val_accuracy: 0.8510\n",
      "Epoch 2/15\n",
      "25000/25000 [==============================] - 1s 44us/step - loss: 0.4689 - accuracy: 0.8533 - val_loss: 0.4509 - val_accuracy: 0.8552\n",
      "Epoch 3/15\n",
      "25000/25000 [==============================] - 1s 46us/step - loss: 0.4408 - accuracy: 0.8556 - val_loss: 0.4432 - val_accuracy: 0.8478\n",
      "Epoch 4/15\n",
      "25000/25000 [==============================] - 1s 44us/step - loss: 0.4272 - accuracy: 0.8533 - val_loss: 0.4315 - val_accuracy: 0.8498\n",
      "Epoch 5/15\n",
      "25000/25000 [==============================] - 1s 44us/step - loss: 0.4172 - accuracy: 0.8570 - val_loss: 0.4384 - val_accuracy: 0.8409\n",
      "Epoch 6/15\n",
      "25000/25000 [==============================] - 1s 42us/step - loss: 0.4115 - accuracy: 0.8552 - val_loss: 0.4192 - val_accuracy: 0.8477\n",
      "Epoch 7/15\n",
      "25000/25000 [==============================] - 1s 41us/step - loss: 0.4060 - accuracy: 0.8553 - val_loss: 0.4010 - val_accuracy: 0.8594\n",
      "Epoch 8/15\n",
      "25000/25000 [==============================] - 1s 42us/step - loss: 0.4005 - accuracy: 0.8579 - val_loss: 0.3970 - val_accuracy: 0.8582\n",
      "Epoch 9/15\n",
      "25000/25000 [==============================] - 1s 41us/step - loss: 0.3955 - accuracy: 0.8603 - val_loss: 0.3929 - val_accuracy: 0.8592\n",
      "Epoch 10/15\n",
      "25000/25000 [==============================] - 1s 42us/step - loss: 0.3907 - accuracy: 0.8592 - val_loss: 0.3959 - val_accuracy: 0.8556\n",
      "Epoch 11/15\n",
      "25000/25000 [==============================] - 1s 44us/step - loss: 0.3862 - accuracy: 0.8617 - val_loss: 0.3838 - val_accuracy: 0.8605\n",
      "Epoch 12/15\n",
      "25000/25000 [==============================] - 1s 43us/step - loss: 0.3813 - accuracy: 0.8615 - val_loss: 0.3832 - val_accuracy: 0.8606\n",
      "Epoch 13/15\n",
      "25000/25000 [==============================] - 1s 42us/step - loss: 0.3804 - accuracy: 0.8626 - val_loss: 0.3873 - val_accuracy: 0.8566\n",
      "Epoch 14/15\n",
      "25000/25000 [==============================] - 1s 42us/step - loss: 0.3755 - accuracy: 0.8638 - val_loss: 0.3880 - val_accuracy: 0.8556\n",
      "Epoch 15/15\n",
      "25000/25000 [==============================] - 1s 42us/step - loss: 0.3740 - accuracy: 0.8646 - val_loss: 0.3817 - val_accuracy: 0.8591\n",
      "\n",
      "\n",
      "모델 성능 :\n",
      "25000/25000 [==============================] - 1s 28us/step\n",
      "[0.38169998567581176, 0.8591200113296509]\n"
     ]
    }
   ],
   "source": [
    "# 라이브러리를 임포트합니다.\n",
    "import numpy as np\n",
    "from keras.datasets import imdb\n",
    "from keras.preprocessing.text import Tokenizer\n",
    "from keras import models\n",
    "from keras import layers\n",
    "from keras import regularizers\n",
    "\n",
    "# 랜덤 시드를 설정합니다.\n",
    "np.random.seed(0)\n",
    "\n",
    "# 필요한 특성 개수를 지정합니다.\n",
    "number_of_features = 1000\n",
    "\n",
    "# 영화 리뷰 데이터에서 훈련 데이터와 타깃 벡터를 로드합니다.\n",
    "(data_train, target_train), (data_test, target_test) = imdb.load_data(\n",
    "    num_words=number_of_features)\n",
    "\n",
    "# 영화 리뷰 데이터를 원-핫 인코딩된 특성 행렬로 변환합니다.\n",
    "tokenizer = Tokenizer(num_words=number_of_features)\n",
    "features_train = tokenizer.sequences_to_matrix(data_train, mode=\"binary\")\n",
    "features_test = tokenizer.sequences_to_matrix(data_test, mode=\"binary\")\n",
    "\n",
    "# 신경망 모델을 만듭니다.\n",
    "network = models.Sequential()\n",
    "\n",
    "# 렐루 활성화 함수를 사용한 완전 연결 층을 추가합니다.\n",
    "network.add(layers.Dense(units=16,\n",
    "                         activation=\"relu\",\n",
    "                         kernel_regularizer=regularizers.l2(0.01),\n",
    "#                          kernel_regularizer='l1_l2',\n",
    "                         input_shape=(number_of_features,)))\n",
    "\n",
    "# 렐루 활성화 함수를 사용한 완전 연결 층을 추가합니다.\n",
    "# 층의 매개변수로 kernel_regularizer=regularizers.ㅣ2(0.01)를 지정하여 가중치 규제\n",
    "# 0.01은 가중치가 큰 모델 파라미터 값에 얼마나 패널티를 부여할지를 결정함\n",
    "# l1, l2 규제 동시 :l1_l2(l1=0.01,l2=0.01), 기본값을 사용 : l1_l2\n",
    "network.add(layers.Dense(units=16,\n",
    "                         kernel_regularizer=regularizers.l2(0.01),\n",
    "#                          kernel_regularizer='l1_l2',\n",
    "                         activation=\"relu\"))\n",
    "\n",
    "# 시그모이드 활성화 함수를 사용한 완전 연결 층을 추가합니다.\n",
    "network.add(layers.Dense(units=1, activation=\"sigmoid\"))\n",
    "\n",
    "# 신경망의 모델 설정을 완료합니다.\n",
    "network.compile(loss=\"binary_crossentropy\", # 크로스 엔트로피\n",
    "                optimizer=\"rmsprop\", # 옵티마이저\n",
    "                metrics=[\"accuracy\"]) # 성능 지표\n",
    "\n",
    "# 신경망을 훈련합니다.\n",
    "history = network.fit(features_train, # 특성\n",
    "                      target_train, # 타깃 벡터\n",
    "                      epochs=15, # 에포크 횟수\n",
    "                      verbose=1, # 출력 없음\n",
    "                      batch_size=100, # 배치의 샘플 개수\n",
    "                      validation_data=(features_test, target_test)) # 테스트 데이터\n",
    "\n",
    "print('\\n')\n",
    "print('모델 성능 :')\n",
    "print(network.evaluate(features_test, target_test))"
   ]
  },
  {
   "cell_type": "markdown",
   "metadata": {},
   "source": [
    "## 조기종료로 과대적합 줄이기"
   ]
  },
  {
   "cell_type": "code",
   "execution_count": 37,
   "metadata": {},
   "outputs": [
    {
     "name": "stdout",
     "output_type": "stream",
     "text": [
      "Train on 25000 samples, validate on 25000 samples\n",
      "Epoch 1/15\n",
      "25000/25000 [==============================] - 1s 51us/step - loss: 0.4144 - accuracy: 0.8196 - val_loss: 0.3451 - val_accuracy: 0.8519\n",
      "Epoch 2/15\n",
      "25000/25000 [==============================] - 1s 41us/step - loss: 0.3227 - accuracy: 0.8655 - val_loss: 0.3289 - val_accuracy: 0.8610\n",
      "Epoch 3/15\n",
      "25000/25000 [==============================] - 1s 42us/step - loss: 0.3106 - accuracy: 0.8684 - val_loss: 0.3359 - val_accuracy: 0.8543\n",
      "Epoch 4/15\n",
      "25000/25000 [==============================] - 1s 43us/step - loss: 0.3017 - accuracy: 0.8729 - val_loss: 0.3281 - val_accuracy: 0.8576\n",
      "Epoch 5/15\n",
      "25000/25000 [==============================] - 1s 42us/step - loss: 0.2917 - accuracy: 0.8784 - val_loss: 0.3411 - val_accuracy: 0.8506\n",
      "Epoch 6/15\n",
      "25000/25000 [==============================] - 1s 41us/step - loss: 0.2814 - accuracy: 0.8818 - val_loss: 0.3335 - val_accuracy: 0.8566\n",
      "\n",
      "\n",
      "모델 성능 :\n",
      "25000/25000 [==============================] - 1s 28us/step\n",
      "[0.3334858723449707, 0.8565599918365479]\n"
     ]
    }
   ],
   "source": [
    "# 케라스에서 콜백 함수로 조기 종료를 구현\n",
    "# 라이브러리를 임포트합니다.\n",
    "import numpy as np\n",
    "from keras.datasets import imdb\n",
    "from keras.preprocessing.text import Tokenizer\n",
    "from keras import models\n",
    "from keras import layers\n",
    "from keras.callbacks import EarlyStopping, ModelCheckpoint\n",
    "\n",
    "# 랜덤 시드를 설정합니다.\n",
    "np.random.seed(0)\n",
    "\n",
    "# 필요한 특성 개수를 지정합니다.\n",
    "number_of_features = 1000\n",
    "\n",
    "# 영화 리뷰 데이터에서 훈련 데이터와 타깃 벡터를 로드합니다.\n",
    "(data_train, target_train), (data_test, target_test) = imdb.load_data(\n",
    "    num_words=number_of_features)\n",
    "\n",
    "# 영화 리뷰 데이터를 원-핫 인코딩된 특성 행렬로 변환합니다.\n",
    "tokenizer = Tokenizer(num_words=number_of_features)\n",
    "features_train = tokenizer.sequences_to_matrix(data_train, mode=\"binary\")\n",
    "features_test = tokenizer.sequences_to_matrix(data_test, mode=\"binary\")\n",
    "\n",
    "# 신경망 모델을 만듭니다.\n",
    "network = models.Sequential()\n",
    "\n",
    "# 렐루 활성화 함수를 사용한 완전 연결 층을 추가합니다.\n",
    "network.add(layers.Dense(units=16,\n",
    "                         activation=\"relu\",\n",
    "                         input_shape=(number_of_features,)))\n",
    "\n",
    "# 렐루 활성화 함수를 사용한 완전 연결 층을 추가합니다.\n",
    "network.add(layers.Dense(units=16, activation=\"relu\"))\n",
    "\n",
    "# 시그모이드 활성화 함수를 사용한 완전 연결 층을 추가합니다.\n",
    "network.add(layers.Dense(units=1, activation=\"sigmoid\"))\n",
    "\n",
    "# 신경망의 모델 설정을 완료합니다.\n",
    "network.compile(loss=\"binary_crossentropy\", # 크로스 엔트로피\n",
    "                optimizer=\"rmsprop\", # 옵티마이저\n",
    "                metrics=[\"accuracy\"]) # 성능 지표\n",
    "\n",
    "# 훈련을 조기 종료하고 최선의 모델을 저장하기 위해 콜백 함수를 설정합니다.\n",
    "# EarlyStopping(monitor=\"val_loss\", patience=2)을 추가하여 에폭마다 테스트 \n",
    "# (검증) 손실을 감시하여 연속적으로 2 에폭 동안 테스트 손실이 향상되지 않으며\n",
    "# 훈련을 멈춤\n",
    "callbacks = [EarlyStopping(monitor=\"val_loss\", patience=2),\n",
    "             ModelCheckpoint(filepath=\"best_model.h5\",\n",
    "                             monitor=\"val_loss\",\n",
    "                             save_best_only=True)]\n",
    "\n",
    "# 신경망을 훈련합니다.\n",
    "history = network.fit(features_train, # 특성\n",
    "                      target_train, # 타깃 벡터\n",
    "                      epochs=15, # 에포크 횟수\n",
    "                      callbacks=callbacks, # 조기 종료\n",
    "                      verbose=1, # 에포크 과정을 출력합니다.\n",
    "                      batch_size=100, # 배치의 샘플 개수\n",
    "                      validation_data=(features_test, target_test)) # 테스트 데이터\n",
    "\n",
    "print('\\n')\n",
    "print('모델 성능 :')\n",
    "print(network.evaluate(features_test, target_test))"
   ]
  },
  {
   "cell_type": "markdown",
   "metadata": {},
   "source": [
    "## 드롭아웃으로 과대적합 줄이기"
   ]
  },
  {
   "cell_type": "code",
   "execution_count": 40,
   "metadata": {},
   "outputs": [
    {
     "name": "stdout",
     "output_type": "stream",
     "text": [
      "Train on 25000 samples, validate on 25000 samples\n",
      "Epoch 1/15\n",
      "25000/25000 [==============================] - 2s 65us/step - loss: 0.6269 - accuracy: 0.6333 - val_loss: 0.4818 - val_accuracy: 0.8248\n",
      "Epoch 2/15\n",
      "25000/25000 [==============================] - 2s 60us/step - loss: 0.5046 - accuracy: 0.7594 - val_loss: 0.3790 - val_accuracy: 0.8468\n",
      "Epoch 3/15\n",
      "25000/25000 [==============================] - 1s 59us/step - loss: 0.4464 - accuracy: 0.7999 - val_loss: 0.3535 - val_accuracy: 0.8551\n",
      "Epoch 4/15\n",
      "25000/25000 [==============================] - 1s 58us/step - loss: 0.4300 - accuracy: 0.8158 - val_loss: 0.3399 - val_accuracy: 0.8593\n",
      "Epoch 5/15\n",
      "25000/25000 [==============================] - 1s 57us/step - loss: 0.4132 - accuracy: 0.8270 - val_loss: 0.3414 - val_accuracy: 0.8578\n",
      "Epoch 6/15\n",
      "25000/25000 [==============================] - 1s 59us/step - loss: 0.4088 - accuracy: 0.8294 - val_loss: 0.3350 - val_accuracy: 0.8596\n",
      "Epoch 7/15\n",
      "25000/25000 [==============================] - 1s 58us/step - loss: 0.4050 - accuracy: 0.8328 - val_loss: 0.3371 - val_accuracy: 0.8599\n",
      "Epoch 8/15\n",
      "25000/25000 [==============================] - 1s 57us/step - loss: 0.3983 - accuracy: 0.8380 - val_loss: 0.3383 - val_accuracy: 0.8595\n",
      "Epoch 9/15\n",
      "25000/25000 [==============================] - 1s 56us/step - loss: 0.3924 - accuracy: 0.8366 - val_loss: 0.3359 - val_accuracy: 0.8596\n",
      "Epoch 10/15\n",
      "25000/25000 [==============================] - 1s 58us/step - loss: 0.3934 - accuracy: 0.8394 - val_loss: 0.3344 - val_accuracy: 0.8597\n",
      "Epoch 11/15\n",
      "25000/25000 [==============================] - 1s 58us/step - loss: 0.3925 - accuracy: 0.8383 - val_loss: 0.3317 - val_accuracy: 0.8620\n",
      "Epoch 12/15\n",
      "25000/25000 [==============================] - 1s 57us/step - loss: 0.3885 - accuracy: 0.8430 - val_loss: 0.3292 - val_accuracy: 0.8617\n",
      "Epoch 13/15\n",
      "25000/25000 [==============================] - 1s 56us/step - loss: 0.3830 - accuracy: 0.8438 - val_loss: 0.3330 - val_accuracy: 0.8596\n",
      "Epoch 14/15\n",
      "25000/25000 [==============================] - 1s 56us/step - loss: 0.3839 - accuracy: 0.8428 - val_loss: 0.3330 - val_accuracy: 0.8603\n",
      "Epoch 15/15\n",
      "25000/25000 [==============================] - 1s 58us/step - loss: 0.3850 - accuracy: 0.8406 - val_loss: 0.3351 - val_accuracy: 0.8602\n",
      "\n",
      "\n",
      "모델 성능 :\n",
      "25000/25000 [==============================] - 1s 28us/step\n",
      "[0.3350780969333649, 0.8601599931716919]\n"
     ]
    }
   ],
   "source": [
    "# 매우 다양한 네트워크 구조에서 수행할 수 있는 모델 파라미터 값을 학습하도록\n",
    "# 유닛을 강제 - 은닉 유닛에 있는 잡음에 영향을 받지 않도록 학습되고 네트워크가\n",
    "# 훈련 데이터를 단순히 암기하지 못하도록 함\n",
    "# 일반적을 선택하는 드롭될 유닛의 비율은 입력유닛에서 0.2, 은닉유닛에서 0.5\n",
    "\n",
    "import numpy as np\n",
    "from keras.datasets import imdb\n",
    "from keras.preprocessing.text import Tokenizer\n",
    "from keras import models\n",
    "from keras import layers\n",
    "\n",
    "# 랜덤 시드를 설정합니다.\n",
    "np.random.seed(0)\n",
    "\n",
    "# 필요한 특성 개수를 지정합니다.\n",
    "number_of_features = 1000\n",
    "\n",
    "# 영화 리뷰 데이터에서 훈련 데이터와 타깃 벡터를 로드합니다.\n",
    "(data_train, target_train), (data_test, target_test) = imdb.load_data(\n",
    "    num_words=number_of_features)\n",
    "\n",
    "# 영화 리뷰 데이터를 원-핫 인코딩된 특성 행렬로 변환합니다.\n",
    "tokenizer = Tokenizer(num_words=number_of_features)\n",
    "features_train = tokenizer.sequences_to_matrix(data_train, mode=\"binary\")\n",
    "features_test = tokenizer.sequences_to_matrix(data_test, mode=\"binary\")\n",
    "\n",
    "# 신경망 모델을 만듭니다.\n",
    "network = models.Sequential()\n",
    "\n",
    "# 입력층으로 드롭아웃 층을 추가합니다.\n",
    "network.add(layers.Dropout(0.2, input_shape=(number_of_features,)))\n",
    "\n",
    "# 렐루 활성화 함수를 사용한 완전 연결 층을 추가합니다.\n",
    "network.add(layers.Dense(units=16, activation=\"relu\"))\n",
    "\n",
    "# Add a dropout layer for previous hidden layer\n",
    "network.add(layers.Dropout(0.5))\n",
    "\n",
    "# 렐루 활성화 함수를 사용한 완전 연결 층을 추가합니다.\n",
    "network.add(layers.Dense(units=16, activation=\"relu\"))\n",
    "\n",
    "# Add a dropout layer for previous hidden layer\n",
    "network.add(layers.Dropout(0.5))\n",
    "\n",
    "# 시그모이드 활성화 함수를 사용한 완전 연결 층을 추가합니다.\n",
    "network.add(layers.Dense(units=1, activation=\"sigmoid\"))\n",
    "\n",
    "# 신경망의 모델 설정을 완료합니다.\n",
    "network.compile(loss=\"binary_crossentropy\", # 크로스 엔트로피\n",
    "                optimizer=\"rmsprop\", # 옵티마이저\n",
    "                metrics=[\"accuracy\"]) # 성능 지표\n",
    "\n",
    "# 신경망을 훈련합니다.\n",
    "history = network.fit(features_train, # 특성\n",
    "                      target_train, # 타깃 벡터\n",
    "                      epochs=15, # 에포크 횟수\n",
    "                      verbose=1, # 출력 없음\n",
    "                      batch_size=100, # 배치의 샘플 개수\n",
    "                      validation_data=(features_test, target_test)) # 테스트 데이터\n",
    "\n",
    "# # 훈련 손실과 테스트 손실의 기록을 저장합니다.\n",
    "training_accuracy = history.history[\"accuracy\"]\n",
    "test_accuracy = history.history[\"val_accuracy\"]\n",
    "\n",
    "# # 에포크 횟수를 사용해 카운트 객체를 만듭니다.\n",
    "epoch_count = range(1, len(training_accuracy) + 1)\n",
    "\n",
    "print('\\n')\n",
    "print('모델 성능 :')\n",
    "print(network.evaluate(features_test, target_test))"
   ]
  },
  {
   "cell_type": "code",
   "execution_count": 41,
   "metadata": {},
   "outputs": [
    {
     "data": {
      "image/png": "[encoded data removed]",
      "text/plain": [
       "<Figure size 432x288 with 1 Axes>"
      ]
     },
     "metadata": {
      "needs_background": "light"
     },
     "output_type": "display_data"
    }
   ],
   "source": [
    "training_accuracy = history.history[\"accuracy\"]\n",
    "test_accuracy = history.history[\"val_accuracy\"]\n",
    "plt.plot(epoch_count, training_accuracy, \"r--\")\n",
    "plt.plot(epoch_count, test_accuracy, \"b-\")\n",
    "\n",
    "# 정확도 그래프를 그립니다.\n",
    "plt.legend([\"Training Accuracy\", \"Test Accuracy\"])\n",
    "plt.xlabel(\"Epoch\")\n",
    "plt.ylabel(\"Accuracy Score\")\n",
    "plt.show();"
   ]
  },
  {
   "cell_type": "markdown",
   "metadata": {},
   "source": [
    "## 모델 훈련 진행 과정을 저장하기"
   ]
  },
  {
   "cell_type": "code",
   "execution_count": 44,
   "metadata": {},
   "outputs": [
    {
     "name": "stdout",
     "output_type": "stream",
     "text": [
      "Train on 25000 samples, validate on 25000 samples\n",
      "Epoch 1/15\n",
      "25000/25000 [==============================] - 2s 65us/step - loss: 0.7930 - accuracy: 0.6482 - val_loss: 0.5469 - val_accuracy: 0.8402\n",
      "Epoch 2/15\n",
      "25000/25000 [==============================] - 1s 58us/step - loss: 0.5648 - accuracy: 0.7914 - val_loss: 0.4587 - val_accuracy: 0.8502\n",
      "Epoch 3/15\n",
      "25000/25000 [==============================] - 1s 59us/step - loss: 0.5232 - accuracy: 0.8118 - val_loss: 0.4500 - val_accuracy: 0.8540\n",
      "Epoch 4/15\n",
      "25000/25000 [==============================] - 1s 60us/step - loss: 0.5121 - accuracy: 0.8140 - val_loss: 0.4257 - val_accuracy: 0.8573\n",
      "Epoch 5/15\n",
      "25000/25000 [==============================] - 1s 59us/step - loss: 0.5013 - accuracy: 0.8178 - val_loss: 0.4377 - val_accuracy: 0.8535\n",
      "Epoch 6/15\n",
      "25000/25000 [==============================] - 1s 59us/step - loss: 0.5002 - accuracy: 0.8164 - val_loss: 0.4221 - val_accuracy: 0.8567\n",
      "Epoch 7/15\n",
      "25000/25000 [==============================] - 2s 60us/step - loss: 0.4965 - accuracy: 0.8168 - val_loss: 0.4226 - val_accuracy: 0.8571\n",
      "Epoch 8/15\n",
      "25000/25000 [==============================] - 1s 60us/step - loss: 0.4933 - accuracy: 0.8207 - val_loss: 0.4221 - val_accuracy: 0.8545\n",
      "\n",
      "\n",
      "모델 성능 :\n",
      "25000/25000 [==============================] - 1s 31us/step\n",
      "[0.42209520350456237, 0.8544800281524658]\n"
     ]
    }
   ],
   "source": [
    "# 라이브러리를 임포트합니다.\n",
    "import numpy as np\n",
    "from keras.datasets import imdb\n",
    "from keras.preprocessing.text import Tokenizer\n",
    "from keras import models\n",
    "from keras import layers\n",
    "\n",
    "# 랜덤 시드를 설정합니다.\n",
    "np.random.seed(0)\n",
    "\n",
    "# 필요한 특성 개수를 지정합니다.\n",
    "number_of_features = 1000\n",
    "\n",
    "# IMDB 영화 데이터에서 훈련 데이터와 타깃 벡터를 로드합니다.\n",
    "(data_train, target_train), (data_test, target_test) = imdb.load_data(\n",
    "    num_words=number_of_features)\n",
    "\n",
    "# IMDB 데이터를 원-핫 인코딩된 특성 행렬로 변환합니다.\n",
    "tokenizer = Tokenizer(num_words=number_of_features)\n",
    "features_train = tokenizer.sequences_to_matrix(data_train, mode=\"binary\")\n",
    "features_test = tokenizer.sequences_to_matrix(data_test, mode=\"binary\")\n",
    "\n",
    "# 신경망 모델을 만듭니다.\n",
    "network = models.Sequential()\n",
    "network.add(layers.Dropout(0.2, input_shape=(number_of_features,)))\n",
    "network.add(layers.Dense(units=16, \n",
    "                         kernel_regularizer=regularizers.l2(0.01),\n",
    "                         activation=\"relu\"))\n",
    "network.add(layers.Dropout(0.5))\n",
    "network.add(layers.Dense(units=16,\n",
    "                         kernel_regularizer=regularizers.l2(0.01),\n",
    "                         activation=\"relu\"))\n",
    "network.add(layers.Dropout(0.5))\n",
    "network.add(layers.Dense(units=1, activation=\"sigmoid\"))\n",
    "\n",
    "\n",
    "# 신경망의 모델 설정을 완료합니다.\n",
    "network.compile(loss=\"binary_crossentropy\", # 크로스 엔트로피\n",
    "                optimizer=\"rmsprop\",        # 옵티마이저\n",
    "                metrics=[\"accuracy\"])       # 성능 지표\n",
    "\n",
    "# 조기 종료\n",
    "callbacks = [EarlyStopping(monitor=\"val_loss\", patience=2),\n",
    "             ModelCheckpoint(filepath=\"best_model.h5\",\n",
    "                             monitor=\"val_loss\",\n",
    "                             save_best_only=True)]\n",
    "\n",
    "# 신경망을 훈련합니다.\n",
    "history = network.fit(features_train, # 특성\n",
    "                      target_train, # 타깃 벡터\n",
    "                      epochs=15, # 에포크 횟수\n",
    "                      callbacks=callbacks, # 조기 종료\n",
    "                      verbose=1, # 에포크 과정을 출력합니다.\n",
    "                      batch_size=100, # 배치의 샘플 개수\n",
    "                      validation_data=(features_test, target_test)) # 테스트 데이터\n",
    "\n",
    "# 훈련 손실과 테스트 손실의 기록을 저장합니다.\n",
    "training_accuracy = history.history[\"accuracy\"]\n",
    "test_accuracy = history.history[\"val_accuracy\"]\n",
    "\n",
    "# 에포크 횟수를 사용해 카운트 객체를 만듭니다.\n",
    "epoch_count = range(1, len(training_accuracy) + 1)     \n",
    "     \n",
    "print('\\n')\n",
    "print('모델 성능 :')\n",
    "print(network.evaluate(features_test, target_test))"
   ]
  },
  {
   "cell_type": "code",
   "execution_count": 45,
   "metadata": {},
   "outputs": [
    {
     "data": {
      "image/png": "[encoded data removed]",
      "text/plain": [
       "<Figure size 432x288 with 1 Axes>"
      ]
     },
     "metadata": {
      "needs_background": "light"
     },
     "output_type": "display_data"
    }
   ],
   "source": [
    "training_accuracy = history.history[\"accuracy\"]\n",
    "test_accuracy = history.history[\"val_accuracy\"]\n",
    "plt.plot(epoch_count, training_accuracy, \"r--\")\n",
    "plt.plot(epoch_count, test_accuracy, \"b-\")\n",
    "\n",
    "# 정확도 그래프를 그립니다.\n",
    "plt.legend([\"Training Accuracy\", \"Test Accuracy\"])\n",
    "plt.xlabel(\"Epoch\")\n",
    "plt.ylabel(\"Accuracy Score\")\n",
    "plt.show();"
   ]
  },
  {
   "cell_type": "code",
   "execution_count": 46,
   "metadata": {},
   "outputs": [],
   "source": [
    "# 신경망 모델 저장\n",
    "network.save('model.h5')"
   ]
  },
  {
   "cell_type": "code",
   "execution_count": 47,
   "metadata": {},
   "outputs": [
    {
     "name": "stdout",
     "output_type": "stream",
     "text": [
      "25000/25000 [==============================] - 1s 35us/step\n"
     ]
    },
    {
     "data": {
      "text/plain": [
       "[0.42209520350456237, 0.8544800281524658]"
      ]
     },
     "execution_count": 47,
     "metadata": {},
     "output_type": "execute_result"
    }
   ],
   "source": [
    "from keras.models import load_model\n",
    "network = load_model('model.h5')\n",
    "network.evaluate(features_test, target_test)"
   ]
  }
 ],
 "metadata": {
  "kernelspec": {
   "display_name": "Python 3",
   "language": "python",
   "name": "python3"
  },
  "language_info": {
   "codemirror_mode": {
    "name": "ipython",
    "version": 3
   },
   "file_extension": ".py",
   "mimetype": "text/x-python",
   "name": "python",
   "nbconvert_exporter": "python",
   "pygments_lexer": "ipython3",
   "version": "3.7.7"
  }
 },
 "nbformat": 4,
 "nbformat_minor": 2
}
