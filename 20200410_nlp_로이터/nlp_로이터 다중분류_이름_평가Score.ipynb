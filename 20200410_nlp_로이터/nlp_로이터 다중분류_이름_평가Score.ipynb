{
 "cells": [
  {
   "cell_type": "markdown",
   "metadata": {},
   "source": [
    "### Q. 로이터 뉴스를 46개의 상호 배타적인 토픽으로 분류하는 신경망 모델을 개발 및 평가하세요.\n",
    "- 데이터 소스 : from keras.datasets import reuters\n",
    "- 데이터 및 레이블 벡터 변환 : 주어진 사용자 함수 참조\n",
    "- 모델 구성 : 2개 은닉층(64개 유닛), 1개 출력층\n",
    "- 성능 개선 : 과대 적합 방지 3개 방법 적용\n",
    "- 시각화 : Accuracy, Val_Accuracy 비교 시사점 도출\n",
    "#### 공용 폴더에 제출하세요.(401공유폴더\\NLP)\n",
    "- 파일명 : 이름_평가Score.ipynb"
   ]
  }
 ],
 "metadata": {
  "kernelspec": {
   "display_name": "Python 3",
   "language": "python",
   "name": "python3"
  },
  "language_info": {
   "codemirror_mode": {
    "name": "ipython",
    "version": 3
   },
   "file_extension": ".py",
   "mimetype": "text/x-python",
   "name": "python",
   "nbconvert_exporter": "python",
   "pygments_lexer": "ipython3",
   "version": "3.7.7"
  }
 },
 "nbformat": 4,
 "nbformat_minor": 4
}
