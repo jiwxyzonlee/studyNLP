{
 "cells": [
  {
   "cell_type": "code",
   "execution_count": 1,
   "metadata": {},
   "outputs": [
    {
     "name": "stdout",
     "output_type": "stream",
     "text": [
      "Requirement already satisfied: gensim in c:\\programdata\\anaconda3\\envs\\nlp_python\\lib\\site-packages (3.8.1)\n",
      "Requirement already satisfied: scipy>=0.18.1 in c:\\programdata\\anaconda3\\envs\\nlp_python\\lib\\site-packages (from gensim) (1.4.1)\n",
      "Requirement already satisfied: six>=1.5.0 in c:\\programdata\\anaconda3\\envs\\nlp_python\\lib\\site-packages (from gensim) (1.14.0)\n",
      "Requirement already satisfied: smart-open>=1.8.1 in c:\\programdata\\anaconda3\\envs\\nlp_python\\lib\\site-packages (from gensim) (1.10.0)\n",
      "Requirement already satisfied: numpy>=1.11.3 in c:\\programdata\\anaconda3\\envs\\nlp_python\\lib\\site-packages (from gensim) (1.18.1)\n",
      "Requirement already satisfied: requests in c:\\programdata\\anaconda3\\envs\\nlp_python\\lib\\site-packages (from smart-open>=1.8.1->gensim) (2.23.0)\n",
      "Requirement already satisfied: google-cloud-storage in c:\\programdata\\anaconda3\\envs\\nlp_python\\lib\\site-packages (from smart-open>=1.8.1->gensim) (1.27.0)\n",
      "Requirement already satisfied: boto3 in c:\\programdata\\anaconda3\\envs\\nlp_python\\lib\\site-packages (from smart-open>=1.8.1->gensim) (1.12.36)\n",
      "Requirement already satisfied: urllib3!=1.25.0,!=1.25.1,<1.26,>=1.21.1 in c:\\programdata\\anaconda3\\envs\\nlp_python\\lib\\site-packages (from requests->smart-open>=1.8.1->gensim) (1.25.8)\n",
      "Requirement already satisfied: chardet<4,>=3.0.2 in c:\\programdata\\anaconda3\\envs\\nlp_python\\lib\\site-packages (from requests->smart-open>=1.8.1->gensim) (3.0.4)\n",
      "Requirement already satisfied: idna<3,>=2.5 in c:\\programdata\\anaconda3\\envs\\nlp_python\\lib\\site-packages (from requests->smart-open>=1.8.1->gensim) (2.9)\n",
      "Requirement already satisfied: certifi>=2017.4.17 in c:\\programdata\\anaconda3\\envs\\nlp_python\\lib\\site-packages (from requests->smart-open>=1.8.1->gensim) (2019.11.28)\n",
      "Requirement already satisfied: google-resumable-media<0.6dev,>=0.5.0 in c:\\programdata\\anaconda3\\envs\\nlp_python\\lib\\site-packages (from google-cloud-storage->smart-open>=1.8.1->gensim) (0.5.0)\n",
      "Requirement already satisfied: google-cloud-core<2.0dev,>=1.2.0 in c:\\programdata\\anaconda3\\envs\\nlp_python\\lib\\site-packages (from google-cloud-storage->smart-open>=1.8.1->gensim) (1.3.0)\n",
      "Requirement already satisfied: google-auth<2.0dev,>=1.11.0 in c:\\programdata\\anaconda3\\envs\\nlp_python\\lib\\site-packages (from google-cloud-storage->smart-open>=1.8.1->gensim) (1.11.2)\n",
      "Requirement already satisfied: s3transfer<0.4.0,>=0.3.0 in c:\\programdata\\anaconda3\\envs\\nlp_python\\lib\\site-packages (from boto3->smart-open>=1.8.1->gensim) (0.3.3)\n",
      "Requirement already satisfied: botocore<1.16.0,>=1.15.36 in c:\\programdata\\anaconda3\\envs\\nlp_python\\lib\\site-packages (from boto3->smart-open>=1.8.1->gensim) (1.15.36)\n",
      "Requirement already satisfied: jmespath<1.0.0,>=0.7.1 in c:\\programdata\\anaconda3\\envs\\nlp_python\\lib\\site-packages (from boto3->smart-open>=1.8.1->gensim) (0.9.5)\n",
      "Requirement already satisfied: google-api-core<2.0.0dev,>=1.16.0 in c:\\programdata\\anaconda3\\envs\\nlp_python\\lib\\site-packages (from google-cloud-core<2.0dev,>=1.2.0->google-cloud-storage->smart-open>=1.8.1->gensim) (1.16.0)\n",
      "Requirement already satisfied: setuptools>=40.3.0 in c:\\programdata\\anaconda3\\envs\\nlp_python\\lib\\site-packages (from google-auth<2.0dev,>=1.11.0->google-cloud-storage->smart-open>=1.8.1->gensim) (46.1.3.post20200330)\n",
      "Requirement already satisfied: cachetools<5.0,>=2.0.0 in c:\\programdata\\anaconda3\\envs\\nlp_python\\lib\\site-packages (from google-auth<2.0dev,>=1.11.0->google-cloud-storage->smart-open>=1.8.1->gensim) (3.1.1)\n",
      "Requirement already satisfied: pyasn1-modules>=0.2.1 in c:\\programdata\\anaconda3\\envs\\nlp_python\\lib\\site-packages (from google-auth<2.0dev,>=1.11.0->google-cloud-storage->smart-open>=1.8.1->gensim) (0.2.7)\n",
      "Requirement already satisfied: rsa<4.1,>=3.1.4 in c:\\programdata\\anaconda3\\envs\\nlp_python\\lib\\site-packages (from google-auth<2.0dev,>=1.11.0->google-cloud-storage->smart-open>=1.8.1->gensim) (4.0)\n",
      "Requirement already satisfied: docutils<0.16,>=0.10 in c:\\programdata\\anaconda3\\envs\\nlp_python\\lib\\site-packages (from botocore<1.16.0,>=1.15.36->boto3->smart-open>=1.8.1->gensim) (0.15.2)\n",
      "Requirement already satisfied: python-dateutil<3.0.0,>=2.1 in c:\\programdata\\anaconda3\\envs\\nlp_python\\lib\\site-packages (from botocore<1.16.0,>=1.15.36->boto3->smart-open>=1.8.1->gensim) (2.8.1)\n",
      "Requirement already satisfied: protobuf>=3.4.0 in c:\\programdata\\anaconda3\\envs\\nlp_python\\lib\\site-packages (from google-api-core<2.0.0dev,>=1.16.0->google-cloud-core<2.0dev,>=1.2.0->google-cloud-storage->smart-open>=1.8.1->gensim) (3.11.4)\n",
      "Requirement already satisfied: googleapis-common-protos<2.0dev,>=1.6.0 in c:\\programdata\\anaconda3\\envs\\nlp_python\\lib\\site-packages (from google-api-core<2.0.0dev,>=1.16.0->google-cloud-core<2.0dev,>=1.2.0->google-cloud-storage->smart-open>=1.8.1->gensim) (1.51.0)\n",
      "Requirement already satisfied: pytz in c:\\programdata\\anaconda3\\envs\\nlp_python\\lib\\site-packages (from google-api-core<2.0.0dev,>=1.16.0->google-cloud-core<2.0dev,>=1.2.0->google-cloud-storage->smart-open>=1.8.1->gensim) (2019.3)\n",
      "Requirement already satisfied: pyasn1<0.5.0,>=0.4.6 in c:\\programdata\\anaconda3\\envs\\nlp_python\\lib\\site-packages (from pyasn1-modules>=0.2.1->google-auth<2.0dev,>=1.11.0->google-cloud-storage->smart-open>=1.8.1->gensim) (0.4.8)\n"
     ]
    }
   ],
   "source": [
    "# Gensim 설치 : 자연 언어 처리를 위한 라이브러리로 Word2Vec 기능 포함\n",
    "!pip install gensim"
   ]
  },
  {
   "cell_type": "code",
   "execution_count": 2,
   "metadata": {},
   "outputs": [],
   "source": [
    "from gensim.models import word2vec\n",
    "model = word2vec.Word2Vec.load('./dataset/wiki.model')"
   ]
  },
  {
   "cell_type": "code",
   "execution_count": 3,
   "metadata": {},
   "outputs": [
    {
     "name": "stdout",
     "output_type": "stream",
     "text": [
      "10\n",
      "[('전산언어학', 0.7927480936050415), ('객체지향', 0.774531364440918), ('자연언어', 0.7666630744934082), ('말뭉치', 0.7620400786399841), ('UML', 0.7490293383598328), ('통사론', 0.7273504734039307), ('전문용어', 0.7267319560050964), ('전산학', 0.7123903036117554), ('휴리스틱', 0.7028846740722656), ('기계번역', 0.6998603940010071)]\n"
     ]
    }
   ],
   "source": [
    "# 위키피디아 모델 파일 활용, 유사어 조사\n",
    "md1 = model.wv.most_similar(positive=['NLP','자연어'])\n",
    "print(len(md1))\n",
    "print(md1)"
   ]
  },
  {
   "cell_type": "code",
   "execution_count": 4,
   "metadata": {},
   "outputs": [
    {
     "data": {
      "text/plain": [
       "('엄마', 0.8511905074119568)"
      ]
     },
     "execution_count": 4,
     "metadata": {},
     "output_type": "execute_result"
    }
   ],
   "source": [
    "# '아빠 - 남성 + 여성' 계산\n",
    "model.wv.most_similar(positive=['아빠','여성'], negative=['남성'])[0]"
   ]
  },
  {
   "cell_type": "code",
   "execution_count": 5,
   "metadata": {},
   "outputs": [
    {
     "data": {
      "text/plain": [
       "[('왕녀', 0.7457159757614136),\n",
       " ('여왕', 0.6352607011795044),\n",
       " ('왕', 0.619939923286438),\n",
       " ('대왕', 0.5986748933792114),\n",
       " ('삼촌', 0.5951403379440308),\n",
       " ('왕세자', 0.5889936685562134),\n",
       " ('왕비', 0.5851935744285583),\n",
       " ('갈라드리엘', 0.5823298096656799),\n",
       " ('공주', 0.5798119902610779),\n",
       " ('아들', 0.5790980458259583)]"
      ]
     },
     "execution_count": 5,
     "metadata": {},
     "output_type": "execute_result"
    }
   ],
   "source": [
    "# '왕자 - 남성 + 여성'\n",
    "model.wv.most_similar(positive=['왕자','여성'],negative=['남성'])[0:10]"
   ]
  },
  {
   "cell_type": "markdown",
   "metadata": {},
   "source": [
    "#### Q1. 한국에서 서울에 해당하는 곳은 일본에서 어디?\n",
    "#### Q2. 오른쪽의 반대는 왼쪽, 그러면 남자의 반대는?"
   ]
  },
  {
   "cell_type": "code",
   "execution_count": 9,
   "metadata": {},
   "outputs": [
    {
     "data": {
      "text/plain": [
       "('도쿄', 0.676599383354187)"
      ]
     },
     "execution_count": 9,
     "metadata": {},
     "output_type": "execute_result"
    }
   ],
   "source": [
    "model.wv.most_similar(positive=['일본','서울'], negative=['한국'])[0]"
   ]
  },
  {
   "cell_type": "code",
   "execution_count": 11,
   "metadata": {},
   "outputs": [
    {
     "data": {
      "text/plain": [
       "('도쿄', 0.676599383354187)"
      ]
     },
     "execution_count": 11,
     "metadata": {},
     "output_type": "execute_result"
    }
   ],
   "source": [
    "# 서울 - 한국 + 일본\n",
    "model.wv.most_similar(positive=['서울','일본'], negative=['한국'])[0]"
   ]
  },
  {
   "cell_type": "code",
   "execution_count": 7,
   "metadata": {},
   "outputs": [
    {
     "data": {
      "text/plain": [
       "('여자', 0.780625581741333)"
      ]
     },
     "execution_count": 7,
     "metadata": {},
     "output_type": "execute_result"
    }
   ],
   "source": [
    "# 오른쪽 + 남자 - 왼쪽\n",
    "model.wv.most_similar(positive=['오른쪽','남자'], negative=['왼쪽'])[0]"
   ]
  },
  {
   "cell_type": "code",
   "execution_count": 12,
   "metadata": {},
   "outputs": [
    {
     "data": {
      "text/plain": [
       "[('강남', 0.6651614904403687),\n",
       " ('여의도', 0.6196600794792175),\n",
       " ('인사동', 0.6163415908813477),\n",
       " ('연희동', 0.6118510365486145),\n",
       " ('서울특별시', 0.6044690012931824),\n",
       " ('동대문시장', 0.5973944067955017),\n",
       " ('서울시', 0.59450763463974),\n",
       " ('동대문', 0.5888656377792358),\n",
       " ('명동', 0.5865859985351562),\n",
       " ('강북', 0.5844651460647583)]"
      ]
     },
     "execution_count": 12,
     "metadata": {},
     "output_type": "execute_result"
    }
   ],
   "source": [
    "# 서울에서 맛집으로 유명한 지역은 어디\n",
    "model.wv.most_similar(positive=['서울','맛집'])[0:10]"
   ]
  },
  {
   "cell_type": "code",
   "execution_count": 13,
   "metadata": {},
   "outputs": [
    {
     "name": "stdout",
     "output_type": "stream",
     "text": [
      "[-1.0280149  -0.5838621  -0.4873174  -0.21167026 -1.8950337 ]\n",
      "[-0.9623264  -0.40077114 -0.8250509   1.432386   -0.31682932]\n",
      "100\n",
      "100\n"
     ]
    }
   ],
   "source": [
    "# 벡터 데이터 확인: 100차원 벡터 데이터(size = 100)\n",
    "print((model.wv['고양이'])[0:5])\n",
    "print((model.wv['강아지'])[0:5])\n",
    "print(len(model.wv['고양이']))\n",
    "print(len(model.wv['강아지']))"
   ]
  },
  {
   "cell_type": "code",
   "execution_count": null,
   "metadata": {},
   "outputs": [],
   "source": [
    "# 지원센터에서 업무 개선을 위해 메일과 채팅으로 접수된 문장이 급한 내용일 경우\n",
    "# 우선도를 올려 대응해야 하는 경우\n",
    "# 메일에 포함된 문장을 형태소 분석하고\n",
    "# Word2Vec로 '급하다'와 유사도가 어느 정도인지 확인하는 방법으로 변경"
   ]
  },
  {
   "cell_type": "code",
   "execution_count": 20,
   "metadata": {},
   "outputs": [
    {
     "name": "stdout",
     "output_type": "stream",
     "text": [
      "컴퓨터 -0.07506699\n",
      "갑자기 0.5643145\n",
      "문제 0.25628287\n",
      "생기다 0.2879802\n",
      "빨리 0.5591332\n",
      "처리 0.18828717\n",
      "하다 0.42797402\n",
      "문제 0.25628287\n",
      "있다 0.31476456\n",
      "해결 0.19012733\n",
      "요청 0.35598242\n",
      "하다 0.42797402\n",
      "사용 -0.048614163\n",
      "방법 0.25084788\n",
      "문의 0.27857858\n",
      "드리다 0.25129128\n"
     ]
    }
   ],
   "source": [
    "# 숙제 내 답\n",
    "\n",
    "from konlpy.tag import Okt\n",
    "from gensim.models import word2vec\n",
    "\n",
    "# Word2Vec 모델 읽어들이고 형태 분석 준비하기\n",
    "model = word2vec.Word2Vec.load('./dataset/wiki.model')\n",
    "okt = Okt()\n",
    "\n",
    "def emergency(txt):\n",
    "    mailchat = okt.pos(txt, norm=True, stem=True)\n",
    "    #print(mailchat)\n",
    "    for word, poomsa in mailchat:\n",
    "        if not poomsa in [\"Josa\", \"Punctuation\"]:\n",
    "            #print(word)\n",
    "            similar = model.wv.similarity(word, '급하다')\n",
    "            #similar = model.wv.most_similar(word, '급하다') << 틀린 구문\n",
    "            print(word, similar)\n",
    "        \n",
    "emergency(\"컴퓨터에 갑자기 문제가 생겼어요. 빨리 처리할 문제가 있어서 해결 요청합니다.\")\n",
    "emergency(\"사용 방법을 문의 드립니다.\")"
   ]
  },
  {
   "cell_type": "code",
   "execution_count": 14,
   "metadata": {},
   "outputs": [
    {
     "name": "stdout",
     "output_type": "stream",
     "text": [
      "컴퓨터에 갑자기 문제가 생겼어요. 빨리 처리할 문제가 있어서 해결 요청합니다.\n",
      "- 컴퓨터 : -0.07506699\n",
      "- 갑자기 : 0.5643145\n",
      "- 문제 : 0.25628287\n",
      "- 생기다 : 0.2879802\n",
      "- 빨리 : 0.5591332\n",
      "- 처리 : 0.18828717\n",
      "- 하다 : 0.42797402\n",
      "- 문제 : 0.25628287\n",
      "- 있다 : 0.31476456\n",
      "- 해결 : 0.19012733\n",
      "- 요청 : 0.35598242\n",
      "- 하다 : 0.42797402\n",
      "사용 방법을 문의 드립니다.\n",
      "- 사용 : -0.048614163\n",
      "- 방법 : 0.25084788\n",
      "- 문의 : 0.27857858\n",
      "- 드리다 : 0.25129128\n"
     ]
    }
   ],
   "source": [
    "# 정답\n",
    "\n",
    "# 지원 센터에서 업무 개선을 위해 메일과 채팅으로 접수된 문장이 \n",
    "# 급한 내용일 경우 우선도를 올려 대응해야 하는 경우\n",
    "# 메일에 포함된 문장을 형태소 분석하고 Word2Vec로 '급하다'와\n",
    "# 유사도가 어느 정도인지 확인하는 방법으로 변경\n",
    "from konlpy.tag import Okt\n",
    "from gensim.models import word2vec\n",
    "# Word2Vec 모델 읽어 들이고 형태소 분석 준비하기\n",
    "model = word2vec.Word2Vec.load(\"./dataset/wiki.model\") \n",
    "okt = Okt()\n",
    "def print_emargency(text):\n",
    "    print(text)\n",
    "    # 전달된 문장을 형태소 분석하기\n",
    "    node = okt.pos(text, norm=True, stem=True)\n",
    "    for word, form in node:    \n",
    "    # 필요한 형태소만 추출하기\n",
    "        if form == 'Noun' or form == 'Verb' or form == 'Adjective' or form == 'Adverb':            \n",
    "      # 급하다와 비슷한 단어\n",
    "            print(\"-\", word, \":\", model.wv.similarity(word, '급하다'))\n",
    "# 첫 문장은 갑자기 빨리, 요청 등 전체적으로 높은 값이 나온 반면 두번째 문장은 비교적 낮은 값이 나옴\n",
    "print_emargency(\"컴퓨터에 갑자기 문제가 생겼어요. 빨리 처리할 문제가 있어서 해결 요청합니다.\")\n",
    "print_emargency(\"사용 방법을 문의 드립니다.\")"
   ]
  }
 ],
 "metadata": {
  "kernelspec": {
   "display_name": "Python 3",
   "language": "python",
   "name": "python3"
  },
  "language_info": {
   "codemirror_mode": {
    "name": "ipython",
    "version": 3
   },
   "file_extension": ".py",
   "mimetype": "text/x-python",
   "name": "python",
   "nbconvert_exporter": "python",
   "pygments_lexer": "ipython3",
   "version": "3.7.7"
  }
 },
 "nbformat": 4,
 "nbformat_minor": 4
}
