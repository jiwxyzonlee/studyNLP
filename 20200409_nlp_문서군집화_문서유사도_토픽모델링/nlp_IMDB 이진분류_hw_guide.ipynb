{
 "cells": [
  {
   "cell_type": "markdown",
   "metadata": {},
   "source": [
    "## IMDB 영화평 감성분석(DL)\n",
    "- 인터넷 영화 데이터베이스로부터 가져온 양극단의 리뷰 50,000개로 이루어진 IMDB 데이터셋을 사용\\\n",
    "  from keras.datasets import imdb\n",
    "- 필요한 특성 개수를 지정 1000\n",
    "- IMDB 영화 데이터에서 훈련 데이터와 타깃 벡터를 로드\n",
    "- IMDB 데이터를 원-핫 인코딩된 특성 행렬로 변환\\\n",
    "  tokenizer = Tokenizer(num_words=number_of_features)\\\n",
    "  features_train = tokenizer.sequences_to_matrix(data_train, mode=\"binary\")\\\n",
    "  features_test = tokenizer.sequences_to_matrix(data_test, mode=\"binary\")\n",
    "- 모델 정의\n",
    "  16개의 은닉 유닛을 가진 2개의 은닉층(relu), 1개의 출력층(sigmoid)\n",
    "- 모델 컴파일\n",
    "- 학습 실행\n",
    "- 평가\n",
    "- 에폭별 정확도 시각화 및 적정 에폭 제시"
   ]
  },
  {
   "cell_type": "code",
   "execution_count": 10,
   "metadata": {},
   "outputs": [
    {
     "name": "stdout",
     "output_type": "stream",
     "text": [
      "Train on 25000 samples, validate on 25000 samples\n",
      "Epoch 1/10\n",
      "25000/25000 [==============================] - 1s 23us/step - loss: 0.4109 - accuracy: 0.8204 - val_loss: 0.3429 - val_accuracy: 0.8546\n",
      "Epoch 2/10\n",
      "25000/25000 [==============================] - 0s 18us/step - loss: 0.3234 - accuracy: 0.8653 - val_loss: 0.3293 - val_accuracy: 0.8610\n",
      "Epoch 3/10\n",
      "25000/25000 [==============================] - 0s 19us/step - loss: 0.3132 - accuracy: 0.8686 - val_loss: 0.3371 - val_accuracy: 0.8553\n",
      "Epoch 4/10\n",
      "25000/25000 [==============================] - 0s 20us/step - loss: 0.3062 - accuracy: 0.8707 - val_loss: 0.3279 - val_accuracy: 0.8592\n",
      "Epoch 5/10\n",
      "25000/25000 [==============================] - 1s 20us/step - loss: 0.2966 - accuracy: 0.8754 - val_loss: 0.3397 - val_accuracy: 0.8526\n",
      "Epoch 6/10\n",
      "25000/25000 [==============================] - 0s 19us/step - loss: 0.2874 - accuracy: 0.8792 - val_loss: 0.3358 - val_accuracy: 0.8548\n",
      "Epoch 7/10\n",
      "25000/25000 [==============================] - 0s 20us/step - loss: 0.2778 - accuracy: 0.8831 - val_loss: 0.3271 - val_accuracy: 0.8568\n",
      "Epoch 8/10\n",
      "25000/25000 [==============================] - 0s 18us/step - loss: 0.2678 - accuracy: 0.8872 - val_loss: 0.3331 - val_accuracy: 0.8582\n",
      "Epoch 9/10\n",
      "25000/25000 [==============================] - 1s 20us/step - loss: 0.2577 - accuracy: 0.8935 - val_loss: 0.3401 - val_accuracy: 0.8540\n",
      "Epoch 10/10\n",
      "25000/25000 [==============================] - 0s 19us/step - loss: 0.2479 - accuracy: 0.8975 - val_loss: 0.3446 - val_accuracy: 0.8528\n"
     ]
    }
   ],
   "source": [
    "# 라이브러리를 임포트합니다.\n",
    "import numpy as np\n",
    "from keras.datasets import imdb\n",
    "from keras.preprocessing.text import Tokenizer\n",
    "from keras import models\n",
    "from keras import layers\n",
    "\n",
    "# 랜덤 시드를 설정합니다.\n",
    "np.random.seed(0)\n",
    "\n",
    "# 필요한 특성 개수를 지정합니다.\n",
    "number_of_features = 1000\n",
    "\n",
    "# IMDB 영화 데이터에서 훈련 데이터와 타깃 벡터를 로드합니다.\n",
    "(data_train, target_train), (data_test, target_test) = imdb.load_data(\n",
    "    num_words=number_of_features)\n",
    "\n",
    "# IMDB 데이터를 원-핫 인코딩된 특성 행렬로 변환합니다.\n",
    "tokenizer = Tokenizer(num_words=number_of_features)\n",
    "features_train = tokenizer.sequences_to_matrix(data_train, mode=\"binary\")\n",
    "features_test = tokenizer.sequences_to_matrix(data_test, mode=\"binary\")\n",
    "\n",
    "# 신경망 모델을 만듭니다.\n",
    "network = models.Sequential()\n",
    "\n",
    "# 렐루 활성화 함수를 사용한 완전 연결 층을 추가합니다.\n",
    "network.add(layers.Dense(units=16,\n",
    "                         activation=\"relu\",\n",
    "                         input_shape=(number_of_features,)))\n",
    "\n",
    "# 렐루 활성화 함수를 사용한 완전 연결 층을 추가합니다.\n",
    "network.add(layers.Dense(units=16, activation=\"relu\"))\n",
    "\n",
    "# 시그모이드 활성화 함수를 사용한 완전 연결 층을 추가합니다.\n",
    "network.add(layers.Dense(units=1, activation=\"sigmoid\"))\n",
    "\n",
    "# 신경망의 모델 설정을 완료합니다.\n",
    "network.compile(loss=\"binary_crossentropy\", # 크로스 엔트로피\n",
    "                optimizer=\"rmsprop\", # 옵티마이저\n",
    "                metrics=[\"accuracy\"]) # 성능 지표\n",
    "\n",
    "# 신경망을 훈련합니다.\n",
    "history = network.fit(features_train, # 특성\n",
    "                      target_train, # 타깃 벡터\n",
    "                      epochs=10, # 에포크 횟수\n",
    "                      verbose=1, # 출력 없음\n",
    "                      batch_size=100, # 배치의 샘플 개수\n",
    "                      validation_data=(features_test, target_test)) # 테스트 데이터\n"
   ]
  },
  {
   "cell_type": "code",
   "execution_count": 11,
   "metadata": {},
   "outputs": [
    {
     "name": "stdout",
     "output_type": "stream",
     "text": [
      "25000/25000 [==============================] - 0s 12us/step\n"
     ]
    },
    {
     "data": {
      "text/plain": [
       "[0.3445932848072052, 0.852840006351471]"
      ]
     },
     "execution_count": 11,
     "metadata": {},
     "output_type": "execute_result"
    }
   ],
   "source": [
    "# 케라스에서 모델의 성능을 평가하는 메서드는 evaluate\n",
    "network.evaluate(features_test, target_test)"
   ]
  },
  {
   "cell_type": "code",
   "execution_count": 12,
   "metadata": {},
   "outputs": [
    {
     "data": {
      "image/png": "[encoded data removed]",
      "text/plain": [
       "<Figure size 432x288 with 1 Axes>"
      ]
     },
     "metadata": {
      "needs_background": "light"
     },
     "output_type": "display_data"
    }
   ],
   "source": [
    "plt.plot(history.history['accuracy'])\n",
    "plt.plot(history.history['val_accuracy'])\n",
    "plt.title('Accuracy')\n",
    "plt.legend(['train','test'], loc='upper left')\n",
    "plt.show()"
   ]
  }
 ],
 "metadata": {
  "kernelspec": {
   "display_name": "Python 3",
   "language": "python",
   "name": "python3"
  },
  "language_info": {
   "codemirror_mode": {
    "name": "ipython",
    "version": 3
   },
   "file_extension": ".py",
   "mimetype": "text/x-python",
   "name": "python",
   "nbconvert_exporter": "python",
   "pygments_lexer": "ipython3",
   "version": "3.7.7"
  }
 },
 "nbformat": 4,
 "nbformat_minor": 2
}
