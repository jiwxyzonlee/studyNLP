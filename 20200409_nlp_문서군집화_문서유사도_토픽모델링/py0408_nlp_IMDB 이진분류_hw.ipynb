{
 "cells": [
  {
   "cell_type": "markdown",
   "metadata": {},
   "source": [
    "## Q. 아래 사항을 참조하여 IMDB 영화평 감성분석을 딥러닝으로 수행하세요.\n",
    "- 인터넷 영화 데이터베이스로부터 가져온 양극단의 리뷰 50,000개로 이루어진 IMDB 데이터셋을 사용\\\n",
    "  from keras.datasets import imdb\n",
    "- 필요한 특성 개수를 지정 1000\\\n",
    " number_of_features = 1000\\\n",
    " (data_train, target_train), (data_test, target_test) = imdb.load_data(num_words=number_of_features)\n",
    "- IMDB 영화 데이터에서 훈련 데이터와 타깃 벡터를 로드\n",
    "- IMDB 데이터를 원-핫 인코딩된 특성 행렬로 변환\\\n",
    "  tokenizer = Tokenizer(num_words=number_of_features)\\\n",
    "  features_train = tokenizer.sequences_to_matrix(data_train, mode=\"binary\")\\\n",
    "  features_test = tokenizer.sequences_to_matrix(data_test, mode=\"binary\")\n",
    "- 모델 정의\n",
    "  16개의 은닉 유닛을 가진 2개의 은닉층(relu), 1개의 출력층(sigmoid)\n",
    "- 모델 컴파일\n",
    "- 학습 실행\n",
    "- 평가\n",
    "- 에폭별 정확도 시각화 및 적정 에폭 제시"
   ]
  },
  {
   "cell_type": "markdown",
   "metadata": {},
   "source": [
    "https://keras.io/datasets/#imdb-movie-reviews-sentiment-classification"
   ]
  },
  {
   "cell_type": "markdown",
   "metadata": {},
   "source": [
    "Dataset of 25,000 movies reviews from IMDB, labeled by sentiment (positive/negative). Reviews have been preprocessed, and each review is encoded as a sequence of word indexes (integers).\n",
    "\n",
    "For convenience, words are indexed by overall frequency in the dataset, so that for instance the integer \"3\" encodes the 3rd most frequent word in the data. This allows for quick filtering operations such as: \"only consider the top 10,000 most common words, but eliminate the top 20 most common words\".\n",
    "\n",
    "As a convention, \"0\" does not stand for a specific word, but instead is used to encode any unknown word."
   ]
  },
  {
   "cell_type": "code",
   "execution_count": 6,
   "metadata": {},
   "outputs": [],
   "source": [
    "# 인터넷 영화 데이터베이스로부터 가져온 양극단의 리뷰 50,000개로 이루어진 IMDB 데이터셋을 사용\n",
    "from keras.datasets import imdb\n",
    "\n",
    "# 필요한 특성 개수를 지정 1000\n",
    "number_of_features = 1000\n",
    "\n",
    "# IMDB 영화 데이터에서 훈련 데이터와 타깃 벡터를 로드\n",
    "# (data_train, target_train), (data_test, target_test) = imdb.load_data(\n",
    "#     path=\"imdb.npz\"\n",
    "#     , num_words=number_of_features\n",
    "#     , skip_top=0\n",
    "#     , maxlen=None\n",
    "#     , seed=113\n",
    "#     , start_char=1\n",
    "#     , oov_char=2\n",
    "#     , index_from=3\n",
    "# )\n",
    "\n",
    "(data_train, target_train), (data_test, target_test) = imdb.load_data(num_words=number_of_features)\n",
    "# (data_train, target_train), (data_test, target_test)"
   ]
  },
  {
   "cell_type": "markdown",
   "metadata": {},
   "source": [
    "\n",
    "- Returns:\n",
    "\n",
    " - 2 tuples:\n",
    "  - x_train, x_test: list of sequences, which are lists of indexes (integers). If the num_words argument was specific, the maximum possible index value is num_words-1. If the maxlen argument was specified, the largest possible sequence length is maxlen.\n",
    "  - y_train, y_test: list of integer labels (1 or 0).\n",
    "\n",
    "- Arguments:\n",
    "\n",
    " - path: if you do not have the data locally (at '~/.keras/datasets/' + path), it will be downloaded to this location.\n",
    " - num_words: integer or None. Top most frequent words to consider. Any less frequent word will appear as oov_char value in the sequence data.\n",
    " - skip_top: integer. Top most frequent words to ignore (they will appear as oov_char value in the sequence data).\n",
    " - maxlen: int. Maximum sequence length. Any longer sequence will be truncated.\n",
    " - seed: int. Seed for reproducible data shuffling.\n",
    " - start_char: int. The start of a sequence will be marked with this character. Set to 1 because 0 is usually the padding character.\n",
    " - oov_char: int. words that were cut out because of the num_words or skip_top limit will be replaced with this character.\n",
    " - index_from: int. Index actual words with this index and higher."
   ]
  },
  {
   "cell_type": "code",
   "execution_count": 10,
   "metadata": {},
   "outputs": [],
   "source": [
    "# IMDB 데이터를 원-핫 인코딩된 특성 행렬로 변환\n",
    "\n",
    "from keras.preprocessing.text import Tokenizer\n",
    "\n",
    "tokenizer = Tokenizer(num_words=number_of_features)\n",
    "features_train = tokenizer.sequences_to_matrix(data_train, mode=\"binary\")\n",
    "features_test = tokenizer.sequences_to_matrix(data_test, mode=\"binary\")"
   ]
  },
  {
   "cell_type": "markdown",
   "metadata": {},
   "source": [
    "keras tokenizer\n",
    "\n",
    "https://keras.io/preprocessing/text/\n",
    "\n",
    "keras.preprocessing.text.Tokenizer(num_words=None, filters='!\"#$%&()*+,-./:;<=>?@[\\\\]^_`{|}~\\t\\n', lower=True, split=' ', char_level=False, oov_token=None, document_count=0)\n",
    "\n",
    "Text tokenization utility class.\n",
    "\n",
    "This class allows to vectorize a text corpus, by turning each text into either a sequence of integers (each integer being the index of a token in a dictionary) or into a vector where the coefficient for each token could be binary, based on word count, based on tf-idf...\n",
    "\n",
    "- Arguments\n",
    "\n",
    " - num_words: the maximum number of words to keep, based on word frequency. Only the most common num_words-1 words will be kept.\n",
    " - filters: a string where each element is a character that will be filtered from the texts. The default is all punctuation, plus tabs and line breaks, minus the ' character.\n",
    " - lower: boolean. Whether to convert the texts to lowercase.\n",
    " - split: str. Separator for word splitting.\n",
    " - char_level: if True, every character will be treated as a token.\n",
    " - oov_token: if given, it will be added to word_index and used to replace out-of-vocabulary words during text_to_sequence calls\n",
    "\n",
    "By default, all punctuation is removed, turning the texts into space-separated sequences of words (words maybe include the ' character). These sequences are then split into lists of tokens. They will then be indexed or vectorized.\n",
    "\n",
    "0 is a reserved index that won't be assigned to any word."
   ]
  },
  {
   "cell_type": "code",
   "execution_count": 9,
   "metadata": {},
   "outputs": [
    {
     "name": "stdout",
     "output_type": "stream",
     "text": [
      "Model: \"sequential_5\"\n",
      "_________________________________________________________________\n",
      "Layer (type)                 Output Shape              Param #   \n",
      "=================================================================\n",
      "dense_16 (Dense)             (None, 16)                16016     \n",
      "_________________________________________________________________\n",
      "dropout_7 (Dropout)          (None, 16)                0         \n",
      "_________________________________________________________________\n",
      "dense_17 (Dense)             (None, 16)                272       \n",
      "_________________________________________________________________\n",
      "dropout_8 (Dropout)          (None, 16)                0         \n",
      "_________________________________________________________________\n",
      "dense_18 (Dense)             (None, 16)                272       \n",
      "_________________________________________________________________\n",
      "dense_19 (Dense)             (None, 1)                 17        \n",
      "=================================================================\n",
      "Total params: 16,577\n",
      "Trainable params: 16,577\n",
      "Non-trainable params: 0\n",
      "_________________________________________________________________\n",
      "Train on 25000 samples, validate on 25000 samples\n",
      "Epoch 1/10\n",
      "25000/25000 [==============================] - 1s 20us/step - loss: 0.6396 - accuracy: 0.6397 - val_loss: 0.5520 - val_accuracy: 0.7602\n",
      "Epoch 2/10\n",
      "25000/25000 [==============================] - 0s 15us/step - loss: 0.5410 - accuracy: 0.7413 - val_loss: 0.4632 - val_accuracy: 0.8116\n",
      "Epoch 3/10\n",
      "25000/25000 [==============================] - 0s 15us/step - loss: 0.4736 - accuracy: 0.7924 - val_loss: 0.4107 - val_accuracy: 0.8319\n",
      "Epoch 4/10\n",
      "25000/25000 [==============================] - 0s 15us/step - loss: 0.4279 - accuracy: 0.8176 - val_loss: 0.3786 - val_accuracy: 0.8436\n",
      "Epoch 5/10\n",
      "25000/25000 [==============================] - 0s 15us/step - loss: 0.3957 - accuracy: 0.8333 - val_loss: 0.3524 - val_accuracy: 0.8530\n",
      "Epoch 6/10\n",
      "25000/25000 [==============================] - 0s 15us/step - loss: 0.3727 - accuracy: 0.8466 - val_loss: 0.3438 - val_accuracy: 0.8554\n",
      "Epoch 7/10\n",
      "25000/25000 [==============================] - 0s 15us/step - loss: 0.3595 - accuracy: 0.8531 - val_loss: 0.3417 - val_accuracy: 0.8545\n",
      "Epoch 8/10\n",
      "25000/25000 [==============================] - 0s 16us/step - loss: 0.3450 - accuracy: 0.8564 - val_loss: 0.3306 - val_accuracy: 0.8592\n",
      "Epoch 9/10\n",
      "25000/25000 [==============================] - 0s 15us/step - loss: 0.3316 - accuracy: 0.8656 - val_loss: 0.3328 - val_accuracy: 0.8579\n",
      "Epoch 10/10\n",
      "25000/25000 [==============================] - 0s 15us/step - loss: 0.3262 - accuracy: 0.8665 - val_loss: 0.3334 - val_accuracy: 0.8558\n",
      "25000/25000 [==============================] - 0s 15us/step\n",
      "accuracy= 0.8557999730110168 loss= 0.33344853781700134\n"
     ]
    },
    {
     "data": {
      "image/png": "[encoded data removed]",
      "text/plain": [
       "<Figure size 432x288 with 1 Axes>"
      ]
     },
     "metadata": {
      "needs_background": "light"
     },
     "output_type": "display_data"
    },
    {
     "data": {
      "image/png": "[encoded data removed]",
      "text/plain": [
       "<Figure size 432x288 with 1 Axes>"
      ]
     },
     "metadata": {
      "needs_background": "light"
     },
     "output_type": "display_data"
    }
   ],
   "source": [
    "import sklearn.metrics as metrics\n",
    "import keras\n",
    "from keras.models import Sequential\n",
    "from keras.layers import Dense, Dropout\n",
    "from keras.optimizers import RMSprop\n",
    "import matplotlib.pyplot as plt\n",
    "import h5py\n",
    "import warnings\n",
    "warnings.filterwarnings('ignore')\n",
    "\n",
    "# 모델 정의 16개의 은닉 유닛을 가진 2개의 은닉층(relu), 1개의 출력층(sigmoid)\n",
    "\n",
    "model = Sequential()\n",
    "# Input - Layer\n",
    "model.add(Dense(16, activation='relu', input_shape=(1000, )))\n",
    "# Hidden - Layers\n",
    "model.add(Dropout(0.2, noise_shape=None, seed=None))\n",
    "model.add(Dense(16, activation = \"relu\"))\n",
    "model.add(Dropout(0.2, noise_shape=None, seed=None))\n",
    "model.add(Dense(16, activation = \"relu\"))\n",
    "# Output- Layer\n",
    "model.add(Dense(1, activation = \"sigmoid\"))\n",
    "model.summary()\n",
    "\n",
    "\n",
    "# 모델 컴파일하기\n",
    "model.compile(\n",
    "    loss='binary_crossentropy',\n",
    "    optimizer=RMSprop(),\n",
    "    metrics=['accuracy'])\n",
    "\n",
    "\n",
    "# 학습 실행하기 \n",
    "hist = model.fit(features_train, target_train\n",
    "                 # batch_size=128에서 1000으로 늘렸더니 결과 더 좋게 나옴\n",
    "                 # 1500 정도에선 별 차이 없음\n",
    "                 , batch_size=1500\n",
    "                 # epochs = 10에서 15로 늘렸더니 test 그래프가 더 완만하게 나오나 train를 지나가는 부분은 더 빨리 나옴\n",
    "                 , epochs=10\n",
    "                 , verbose=1\n",
    "                 , validation_data=(features_test, target_test))\n",
    "\n",
    "\n",
    "# 평가하기 \n",
    "score = model.evaluate(features_test, target_test, verbose=1)\n",
    "print(\"accuracy=\", score[1], 'loss=', score[0])\n",
    "\n",
    "# 가중치데이터 저장하기 \n",
    "model.save_weights('./dataset/genre-model.hdf5')\n",
    "\n",
    "# 에폭별 정확도 시각화 및 적정 에폭 제시\n",
    "# plt.plot(hist.history['loss'])\n",
    "plt.plot(hist.history['accuracy'])\n",
    "# plt.plot(hist.history['val_loss'])\n",
    "plt.plot(hist.history['val_accuracy'])\n",
    "plt.title('Accuracy')\n",
    "plt.legend(['train', 'test'], loc='upper left')\n",
    "plt.show()\n",
    "\n",
    "plt.plot(hist.history['loss'])\n",
    "#plt.plot(hist.history['accuracy'])\n",
    "plt.plot(hist.history['val_loss'])\n",
    "#plt.plot(hist.history['val_accuracy'])\n",
    "plt.title('Loss')\n",
    "plt.legend(['train', 'test'], loc='upper left')\n",
    "plt.show()"
   ]
  },
  {
   "cell_type": "markdown",
   "metadata": {},
   "source": [
    "### 해답"
   ]
  },
  {
   "cell_type": "code",
   "execution_count": 1,
   "metadata": {},
   "outputs": [
    {
     "name": "stderr",
     "output_type": "stream",
     "text": [
      "Using TensorFlow backend.\n"
     ]
    },
    {
     "name": "stdout",
     "output_type": "stream",
     "text": [
      "Train on 25000 samples, validate on 25000 samples\n",
      "Epoch 1/10\n",
      "25000/25000 [==============================] - 1s 33us/step - loss: 0.4195 - accuracy: 0.8120 - val_loss: 0.3394 - val_accuracy: 0.8546\n",
      "Epoch 2/10\n",
      "25000/25000 [==============================] - 0s 20us/step - loss: 0.3225 - accuracy: 0.8641 - val_loss: 0.3284 - val_accuracy: 0.8594\n",
      "Epoch 3/10\n",
      "25000/25000 [==============================] - 0s 17us/step - loss: 0.3107 - accuracy: 0.8691 - val_loss: 0.3392 - val_accuracy: 0.8537\n",
      "Epoch 4/10\n",
      "25000/25000 [==============================] - 0s 19us/step - loss: 0.3024 - accuracy: 0.8708 - val_loss: 0.3274 - val_accuracy: 0.8593\n",
      "Epoch 5/10\n",
      "25000/25000 [==============================] - 0s 19us/step - loss: 0.2926 - accuracy: 0.8762 - val_loss: 0.3425 - val_accuracy: 0.8518\n",
      "Epoch 6/10\n",
      "25000/25000 [==============================] - 0s 19us/step - loss: 0.2831 - accuracy: 0.8796 - val_loss: 0.3330 - val_accuracy: 0.8560\n",
      "Epoch 7/10\n",
      "25000/25000 [==============================] - 0s 19us/step - loss: 0.2729 - accuracy: 0.8858 - val_loss: 0.3345 - val_accuracy: 0.8558\n",
      "Epoch 8/10\n",
      "25000/25000 [==============================] - 0s 19us/step - loss: 0.2622 - accuracy: 0.8897 - val_loss: 0.3328 - val_accuracy: 0.8575\n",
      "Epoch 9/10\n",
      "25000/25000 [==============================] - 0s 19us/step - loss: 0.2507 - accuracy: 0.8964 - val_loss: 0.3417 - val_accuracy: 0.8559\n",
      "Epoch 10/10\n",
      "25000/25000 [==============================] - 0s 18us/step - loss: 0.2399 - accuracy: 0.9008 - val_loss: 0.3520 - val_accuracy: 0.8539\n"
     ]
    }
   ],
   "source": [
    "# 라이브러리를 임포트합니다.\n",
    "import numpy as np\n",
    "import matplotlib.pyplot as plt\n",
    "from keras.datasets import imdb\n",
    "from keras.preprocessing.text import Tokenizer\n",
    "from keras import models\n",
    "from keras import layers\n",
    "\n",
    "# 랜덤 시드를 설정합니다.\n",
    "np.random.seed(0)\n",
    "\n",
    "# 필요한 특성 개수를 지정합니다.\n",
    "number_of_features = 1000\n",
    "\n",
    "# IMDB 영화 데이터에서 훈련 데이터와 타깃 벡터를 로드합니다.\n",
    "(data_train, target_train), (data_test, target_test) = imdb.load_data(\n",
    "    num_words=number_of_features)\n",
    "\n",
    "# IMDB 데이터를 원-핫 인코딩된 특성 행렬로 변환합니다.\n",
    "tokenizer = Tokenizer(num_words=number_of_features)\n",
    "# 이진 모드이기 때문에 binary 써야 함\n",
    "features_train = tokenizer.sequences_to_matrix(data_train, mode=\"binary\")\n",
    "features_test = tokenizer.sequences_to_matrix(data_test, mode=\"binary\")\n",
    "\n",
    "# 신경망 모델을 만듭니다.\n",
    "network = models.Sequential()\n",
    "\n",
    "# 은닉층 2개, 출력층 1개\n",
    "# 렐루 활성화 함수를 사용한 완전 연결 층을 추가합니다.\n",
    "# 입력층도 필요\n",
    "network.add(layers.Dense(units=16,\n",
    "                         activation=\"relu\",\n",
    "                         input_shape=(number_of_features,)))\n",
    "\n",
    "# 렐루 활성화 함수를 사용한 완전 연결 층을 추가합니다.\n",
    "network.add(layers.Dense(units=16, activation=\"relu\"))\n",
    "\n",
    "# 시그모이드 활성화 함수를 사용한 완전 연결 층을 추가합니다.\n",
    "network.add(layers.Dense(units=1, activation=\"sigmoid\"))\n",
    "\n",
    "# 신경망의 모델 설정을 완료합니다.\n",
    "network.compile(loss=\"binary_crossentropy\", # 크로스 엔트로피(이중) - 초반에 안됐던 이유는 내가 다중분류 써서 그럼\n",
    "                optimizer=\"rmsprop\", # 옵티마이저\n",
    "                metrics=[\"accuracy\"]) # 성능 지표\n",
    "\n",
    "# 신경망을 훈련합니다.\n",
    "history = network.fit(features_train, # 특성\n",
    "                      target_train, # 타깃 벡터\n",
    "                      epochs=10, # 에포크 횟수\n",
    "                      verbose=1, # 출력 없음\n",
    "                      batch_size=100, # 배치의 샘플 개수\n",
    "                      validation_data=(features_test, target_test)) # 테스트 데이터\n"
   ]
  },
  {
   "cell_type": "code",
   "execution_count": 3,
   "metadata": {},
   "outputs": [
    {
     "name": "stdout",
     "output_type": "stream",
     "text": [
      "25000/25000 [==============================] - 0s 14us/step\n",
      "25000/25000 [==============================] - 0s 14us/step\n",
      "accuracy= 0.8539199829101562 loss= 0.35200912093162534\n"
     ]
    }
   ],
   "source": [
    "# 케라스에서 모델의 성능을 평가하는 메서드는 evaluate\n",
    "network.evaluate(features_test, target_test)\n",
    "\n",
    "score = network.evaluate(features_test, target_test, verbose=1)\n",
    "print(\"accuracy=\", score[1], 'loss=', score[0])"
   ]
  },
  {
   "cell_type": "code",
   "execution_count": 5,
   "metadata": {},
   "outputs": [
    {
     "data": {
      "image/png": "[encoded data removed]",
      "text/plain": [
       "<Figure size 432x288 with 1 Axes>"
      ]
     },
     "metadata": {
      "needs_background": "light"
     },
     "output_type": "display_data"
    },
    {
     "data": {
      "image/png": "[encoded data removed]",
      "text/plain": [
       "<Figure size 432x288 with 1 Axes>"
      ]
     },
     "metadata": {
      "needs_background": "light"
     },
     "output_type": "display_data"
    }
   ],
   "source": [
    "plt.plot(history.history['accuracy'])\n",
    "plt.plot(history.history['val_accuracy'])\n",
    "plt.title('Accuracy')\n",
    "plt.legend(['train','test'], loc='upper left')\n",
    "plt.show()\n",
    "\n",
    "plt.plot(history.history['loss'])\n",
    "#plt.plot(hist.history['accuracy'])\n",
    "plt.plot(history.history['val_loss'])\n",
    "#plt.plot(hist.history['val_accuracy'])\n",
    "plt.title('Loss')\n",
    "plt.legend(['train', 'test'], loc='upper left')\n",
    "plt.show()"
   ]
  }
 ],
 "metadata": {
  "kernelspec": {
   "display_name": "Python 3",
   "language": "python",
   "name": "python3"
  },
  "language_info": {
   "codemirror_mode": {
    "name": "ipython",
    "version": 3
   },
   "file_extension": ".py",
   "mimetype": "text/x-python",
   "name": "python",
   "nbconvert_exporter": "python",
   "pygments_lexer": "ipython3",
   "version": "3.7.7"
  }
 },
 "nbformat": 4,
 "nbformat_minor": 2
}
