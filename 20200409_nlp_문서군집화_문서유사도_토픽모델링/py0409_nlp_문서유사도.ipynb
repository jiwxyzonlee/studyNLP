{
 "cells": [
  {
   "cell_type": "markdown",
   "metadata": {},
   "source": [
    "## 문서와 문서 간의 유사도 비교\n",
    "- 코사인 유사도는 벡터와 벡터 간의 유사도 비교시 벡터의 상호 방향성이 얼마나 유사한지에 기반\n",
    " > 두 벡터 사이의 사잇각을 구해서 얼마나 유사한지 수치로 적용\n",
    "- 희소 행렬 기반에서 문서와 문서 벡터간의 크기에 기반한 유사도 지표는 정확도가 떨어지기가 쉬움\n",
    "- 문서가 매우 긴 경우 단어의 빈도수가 더 많을 것이므로 빈도수에만 기반해서는 공정한 비교가 어려움\n",
    " > A문서에서 '머신러닝' 단어가 5번 언급되고 B문서에서는 3번 언급되었을 때 A문서가 B문서보다 10배 이상 크다면 오히려 B문서가 더 관련된 문서라고 볼 수 있음"
   ]
  },
  {
   "cell_type": "markdown",
   "metadata": {},
   "source": [
    "<코사인 유사도>\n",
    "![screenshot](./images/cos_similarity.png)"
   ]
  },
  {
   "cell_type": "code",
   "execution_count": 1,
   "metadata": {},
   "outputs": [],
   "source": [
    "# 위의 식을 코드로 구현\n",
    "\n",
    "# 서로간의 문서 유사도를 코사인 유사도 기반으로 도출\n",
    "import numpy as np\n",
    "def cos_similarity(v1,v2):\n",
    "    dot_product = np.dot(v1,v2)\n",
    "    l2_norm = (np.sqrt(sum(np.square(v1)))*np.sqrt(sum(np.square(v2))))\n",
    "    similarity = dot_product / l2_norm\n",
    "    return similarity"
   ]
  },
  {
   "cell_type": "code",
   "execution_count": 2,
   "metadata": {},
   "outputs": [
    {
     "name": "stdout",
     "output_type": "stream",
     "text": [
      "(3, 18)\n"
     ]
    }
   ],
   "source": [
    "from sklearn.feature_extraction.text import TfidfVectorizer\n",
    "doc_list = ['if you take the blue pill, the story ends' ,\n",
    "            'if you take the red pill, you stay in Wonderland',\n",
    "            'if you take the red pill, I show you how deep the rabbit hole goes']\n",
    "tfidf_vect_simple = TfidfVectorizer()\n",
    "feature_vect_simple = tfidf_vect_simple.fit_transform(doc_list)\n",
    "print(feature_vect_simple.shape)"
   ]
  },
  {
   "cell_type": "code",
   "execution_count": 3,
   "metadata": {},
   "outputs": [
    {
     "name": "stdout",
     "output_type": "stream",
     "text": [
      "문장 1, 문장 2 Cosine 유사도: 0.402\n"
     ]
    }
   ],
   "source": [
    "# TFidfVectorizer로 transform()한 결과는 Sparse Matrix이므로 Dense Matrix로 변환. \n",
    "feature_vect_dense = feature_vect_simple.todense()\n",
    "\n",
    "#첫번째 문장과 두번째 문장의 feature vector  추출\n",
    "vect1 = np.array(feature_vect_dense[0]).reshape(-1,)\n",
    "vect2 = np.array(feature_vect_dense[1]).reshape(-1,)\n",
    "\n",
    "#첫번째 문장과 두번째 문장의 feature vector로 두개 문장의 Cosine 유사도 추출\n",
    "similarity_simple = cos_similarity(vect1, vect2 )\n",
    "print('문장 1, 문장 2 Cosine 유사도: {0:.3f}'.format(similarity_simple))"
   ]
  },
  {
   "cell_type": "code",
   "execution_count": 9,
   "metadata": {},
   "outputs": [
    {
     "data": {
      "text/plain": [
       "matrix([[0.4155636 , 0.        , 0.4155636 , 0.        , 0.        ,\n",
       "         0.        , 0.24543856, 0.        , 0.24543856, 0.        ,\n",
       "         0.        , 0.        , 0.        , 0.4155636 , 0.24543856,\n",
       "         0.49087711, 0.        , 0.24543856],\n",
       "        [0.        , 0.        , 0.        , 0.        , 0.        ,\n",
       "         0.        , 0.23402865, 0.39624495, 0.23402865, 0.        ,\n",
       "         0.3013545 , 0.        , 0.39624495, 0.        , 0.23402865,\n",
       "         0.23402865, 0.39624495, 0.4680573 ],\n",
       "        [0.        , 0.30985601, 0.        , 0.30985601, 0.30985601,\n",
       "         0.30985601, 0.18300595, 0.        , 0.18300595, 0.30985601,\n",
       "         0.23565348, 0.30985601, 0.        , 0.        , 0.18300595,\n",
       "         0.3660119 , 0.        , 0.3660119 ]])"
      ]
     },
     "execution_count": 9,
     "metadata": {},
     "output_type": "execute_result"
    }
   ],
   "source": [
    "feature_vect_dense"
   ]
  },
  {
   "cell_type": "code",
   "execution_count": 12,
   "metadata": {},
   "outputs": [
    {
     "data": {
      "text/plain": [
       "matrix([[0.4155636 , 0.        , 0.4155636 , 0.        , 0.        ,\n",
       "         0.        , 0.24543856, 0.        , 0.24543856, 0.        ,\n",
       "         0.        , 0.        , 0.        , 0.4155636 , 0.24543856,\n",
       "         0.49087711, 0.        , 0.24543856]])"
      ]
     },
     "execution_count": 12,
     "metadata": {},
     "output_type": "execute_result"
    }
   ],
   "source": [
    "feature_vect_dense[0]"
   ]
  },
  {
   "cell_type": "code",
   "execution_count": 15,
   "metadata": {},
   "outputs": [
    {
     "data": {
      "text/plain": [
       "array([0.4155636 , 0.        , 0.4155636 , 0.        , 0.        ,\n",
       "       0.        , 0.24543856, 0.        , 0.24543856, 0.        ,\n",
       "       0.        , 0.        , 0.        , 0.4155636 , 0.24543856,\n",
       "       0.49087711, 0.        , 0.24543856])"
      ]
     },
     "execution_count": 15,
     "metadata": {},
     "output_type": "execute_result"
    }
   ],
   "source": [
    "vect1"
   ]
  },
  {
   "cell_type": "code",
   "execution_count": 16,
   "metadata": {},
   "outputs": [
    {
     "name": "stdout",
     "output_type": "stream",
     "text": [
      "문장 2, 문장 3 Cosine 유사도: 0.456\n",
      "문장 1, 문장 3 Cosine 유사도: 0.404\n"
     ]
    }
   ],
   "source": [
    "# 세번째 문장과 네번째 문장의 feature vector 추출\n",
    "vect2 = np.array(feature_vect_dense[1]).reshape(-1,)\n",
    "vect3 = np.array(feature_vect_dense[2]).reshape(-1,)\n",
    "\n",
    "# 첫번째 문장과 두번째 문장의 feature vector로 두 개 문장의 Cosine 유사도 추출\n",
    "similarity_simple = cos_similarity(vect2, vect3)\n",
    "print('문장 2, 문장 3 Cosine 유사도: {0:.3f}'.format(similarity_simple))\n",
    "\n",
    "similarity_simple = cos_similarity(vect1, vect3)\n",
    "print('문장 1, 문장 3 Cosine 유사도: {0:.3f}'.format(similarity_simple))"
   ]
  },
  {
   "cell_type": "code",
   "execution_count": 21,
   "metadata": {},
   "outputs": [
    {
     "name": "stdout",
     "output_type": "stream",
     "text": [
      "[[1.         0.40207758 0.40425045]]\n",
      "\n",
      "[[1.         0.40207758 0.40425045]\n",
      " [0.40207758 1.         0.45647296]\n",
      " [0.40425045 0.45647296 1.        ]]\n"
     ]
    }
   ],
   "source": [
    "from sklearn.metrics.pairwise import cosine_similarity\n",
    "\n",
    "similarity_simple_pair = cosine_similarity(feature_vect_simple[0] , feature_vect_simple)\n",
    "# [0] 뒤에 전체를 넣음으로써 전체 비교\n",
    "print(similarity_simple_pair)\n",
    "print()\n",
    "\n",
    "similarity_simple_pair = cosine_similarity(feature_vect_simple , feature_vect_simple)\n",
    "print(similarity_simple_pair)"
   ]
  },
  {
   "cell_type": "markdown",
   "metadata": {},
   "source": [
    "### 실습 - 아무 문장 가져와서 유사도 측정"
   ]
  },
  {
   "cell_type": "code",
   "execution_count": 8,
   "metadata": {},
   "outputs": [
    {
     "name": "stdout",
     "output_type": "stream",
     "text": [
      "shape:  (5, 44)\n",
      "\n",
      "문장 1, 문장 2 Cosine 유사도: 0.154\n",
      "\n",
      "문장 2, 문장 3 Cosine 유사도: 0.635\n",
      "\n",
      "문장 3, 문장 4 Cosine 유사도: 0.076\n",
      "\n",
      "문장 4, 문장 5 Cosine 유사도: 0.000\n",
      "\n",
      "문장 1, 문장 5 Cosine 유사도: 0.208\n",
      "\n",
      "[[1.         0.15364582 0.17588831 0.06744724 0.20825283]]\n",
      "\n",
      "[[1.         0.15364582 0.17588831 0.06744724 0.20825283]\n",
      " [0.15364582 1.         0.63540709 0.         0.12519557]\n",
      " [0.17588831 0.63540709 1.         0.07579332 0.        ]\n",
      " [0.06744724 0.         0.07579332 1.         0.        ]\n",
      " [0.20825283 0.12519557 0.         0.         1.        ]]\n"
     ]
    }
   ],
   "source": [
    "# 서로간의 문서 유사도를 코사인 유사도 기반으로 도출\n",
    "import numpy as np\n",
    "def cos_similarity(v1,v2):\n",
    "    dot_product = np.dot(v1,v2)\n",
    "    l2_norm = (np.sqrt(sum(np.square(v1)))*np.sqrt(sum(np.square(v2))))\n",
    "    similarity = dot_product / l2_norm\n",
    "    return similarity\n",
    "\n",
    "from sklearn.feature_extraction.text import TfidfVectorizer\n",
    "doc_list = [\"Please don't politicize this virus. It exploits the differences you have at the national level.\" \n",
    "            , \"If you want to be exploited and if you want to have many more body bags, then you do it\"\n",
    "            , \"If you don't want many more body bags, then you refrain from politicizing it.\"\n",
    "            , \"My short message is: Please quarantine politicizing Covid.\"\n",
    "            , \"The unity of your country will be very important to defeat this dangerous virus.\"]\n",
    "tfidf_vect_simple = TfidfVectorizer()\n",
    "feature_vect_simple = tfidf_vect_simple.fit_transform(doc_list)\n",
    "print('shape: ', feature_vect_simple.shape)\n",
    "print()\n",
    "\n",
    "# TFidfVectorizer로 transform()한 결과는 Sparse Matrix이므로 Dense Matrix로 변환. \n",
    "feature_vect_dense = feature_vect_simple.todense()\n",
    "\n",
    "#첫번째 문장과 두번째 문장의 feature vector  추출\n",
    "vect1 = np.array(feature_vect_dense[0]).reshape(-1,)\n",
    "vect2 = np.array(feature_vect_dense[1]).reshape(-1,)\n",
    "\n",
    "#첫번째 문장과 두번째 문장의 feature vector로 두개 문장의 Cosine 유사도 추출\n",
    "similarity_simple = cos_similarity(vect1, vect2 )\n",
    "print('문장 1, 문장 2 Cosine 유사도: {0:.3f}'.format(similarity_simple))\n",
    "print()\n",
    "\n",
    "# 세번째 문장과 네번째 문장의 feature vector 추출\n",
    "vect3 = np.array(feature_vect_dense[2]).reshape(-1,)\n",
    "vect4 = np.array(feature_vect_dense[3]).reshape(-1,)\n",
    "vect5 = np.array(feature_vect_dense[4]).reshape(-1,)\n",
    "\n",
    "# 첫번째 문장과 두번째 문장의 feature vector로 두 개 문장의 Cosine 유사도 추출\n",
    "similarity_simple = cos_similarity(vect2, vect3)\n",
    "print('문장 2, 문장 3 Cosine 유사도: {0:.3f}'.format(similarity_simple))\n",
    "print()\n",
    "similarity_simple = cos_similarity(vect3, vect4)\n",
    "print('문장 3, 문장 4 Cosine 유사도: {0:.3f}'.format(similarity_simple))\n",
    "print()\n",
    "similarity_simple = cos_similarity(vect4, vect5)\n",
    "print('문장 4, 문장 5 Cosine 유사도: {0:.3f}'.format(similarity_simple))\n",
    "print()\n",
    "similarity_simple = cos_similarity(vect1, vect5)\n",
    "print('문장 1, 문장 5 Cosine 유사도: {0:.3f}'.format(similarity_simple))\n",
    "print()\n",
    "\n",
    "# pair(전체) 비교\n",
    "from sklearn.metrics.pairwise import cosine_similarity\n",
    "similarity_simple_pair = cosine_similarity(feature_vect_simple[0] , feature_vect_simple)\n",
    "# [0] 뒤에 전체를 넣음으로써 전체 비교\n",
    "print(similarity_simple_pair)\n",
    "print()\n",
    "\n",
    "similarity_simple_pair = cosine_similarity(feature_vect_simple , feature_vect_simple)\n",
    "print(similarity_simple_pair)"
   ]
  },
  {
   "cell_type": "markdown",
   "metadata": {},
   "source": [
    "----\n",
    "### Opinion Review 데이터 셋을 이용한 문서 유사도 측정"
   ]
  },
  {
   "cell_type": "code",
   "execution_count": 10,
   "metadata": {},
   "outputs": [],
   "source": [
    "# Opinion Review 데이터 셋을 이용한 문서 유사도 측정\n",
    "from nltk.stem import WordNetLemmatizer\n",
    "import nltk\n",
    "import string\n",
    "\n",
    "remove_punct_dict = dict((ord(punct), None) for punct in string.punctuation)\n",
    "lemmar = WordNetLemmatizer()\n",
    "\n",
    "def LemTokens(tokens):\n",
    "    return [lemmar.lemmatize(token) for token in tokens]\n",
    "\n",
    "def LemNormalize(text):\n",
    "    return LemTokens(nltk.word_tokenize(text.lower().translate(remove_punct_dict)))"
   ]
  },
  {
   "cell_type": "code",
   "execution_count": 11,
   "metadata": {},
   "outputs": [
    {
     "name": "stderr",
     "output_type": "stream",
     "text": [
      "C:\\ProgramData\\Anaconda3\\envs\\nlp_python\\lib\\site-packages\\sklearn\\feature_extraction\\text.py:385: UserWarning: Your stop_words may be inconsistent with your preprocessing. Tokenizing the stop words generated tokens ['ha', 'le', 'u', 'wa'] not in stop_words.\n",
      "  'stop_words.' % sorted(inconsistent))\n"
     ]
    }
   ],
   "source": [
    "import pandas as pd\n",
    "import glob ,os\n",
    "from sklearn.feature_extraction.text import TfidfVectorizer\n",
    "from sklearn.cluster import KMeans\n",
    "\n",
    "path = './dataset/OpinosisDataset1.0/topics'\n",
    "all_files = glob.glob(os.path.join(path, \"*.data\"))     \n",
    "filename_list = []\n",
    "opinion_text = []\n",
    "\n",
    "for file_ in all_files:\n",
    "    df = pd.read_table(file_,index_col=None, header=0,encoding='latin1')\n",
    "    filename_ = file_.split('\\\\')[-1]\n",
    "    filename = filename_.split('.')[0]\n",
    "    filename_list.append(filename)\n",
    "    opinion_text.append(df.to_string())\n",
    "\n",
    "document_df = pd.DataFrame({'filename':filename_list, 'opinion_text':opinion_text})\n",
    "\n",
    "tfidf_vect = TfidfVectorizer(tokenizer=LemNormalize, stop_words='english' , \\\n",
    "                             ngram_range=(1,2), min_df=0.05, max_df=0.85 )\n",
    "feature_vect = tfidf_vect.fit_transform(document_df['opinion_text'])\n",
    "\n",
    "km_cluster = KMeans(n_clusters=3, max_iter=10000, random_state=0)\n",
    "km_cluster.fit(feature_vect)\n",
    "cluster_label = km_cluster.labels_\n",
    "cluster_centers = km_cluster.cluster_centers_\n",
    "document_df['cluster_label'] = cluster_label"
   ]
  },
  {
   "cell_type": "code",
   "execution_count": 13,
   "metadata": {},
   "outputs": [
    {
     "name": "stdout",
     "output_type": "stream",
     "text": [
      "호텔로 클러스터링 된 문서들의 DataFrame Index:\n",
      " Int64Index([1, 13, 14, 15, 20, 21, 24, 28, 30, 31, 32, 38, 39, 40, 45, 46], dtype='int64')\n",
      "\n",
      "##### 비교 기준 문서명  bathroom_bestwestern_hotel_sfo  와 타 문서 유사도######\n",
      "[[1.         0.0430688  0.05221059 0.06189595 0.05846178 0.06193118\n",
      "  0.03638665 0.11742762 0.38038865 0.32619948 0.51442299 0.11282857\n",
      "  0.13989623 0.1386783  0.09518068 0.07049362]]\n"
     ]
    }
   ],
   "source": [
    "from sklearn.metrics.pairwise import cosine_similarity\n",
    "\n",
    "# cluster_label=1인 데이터는 호텔로 클러스터링된 데이터임\n",
    "# DataFrame에서 해당 Index를 추출\n",
    "hotel_indexes = document_df[document_df['cluster_label']==1].index\n",
    "print('호텔로 클러스터링 된 문서들의 DataFrame Index:\\n', hotel_indexes)\n",
    "print()\n",
    "\n",
    "# 호텔로 클러스터링된 데이터 중 첫번째 문서를 추출하여 파일명 표시.  \n",
    "comparison_docname = document_df.iloc[hotel_indexes[0]]['filename']\n",
    "print('##### 비교 기준 문서명 ',comparison_docname,' 와 타 문서 유사도######')\n",
    "\n",
    "''' document_df에서 추출한 Index 객체를 feature_vect로 입력하여 호텔 클러스터링된 feature_vect 추출\\n\n",
    "이를 이용하여 호텔로 클러스터링된 문서 중 첫번째 문서와 다른 문서간의 코사인 유사도 측정.'''\n",
    "similarity_pair = cosine_similarity(feature_vect[hotel_indexes[0]] , feature_vect[hotel_indexes])\n",
    "print(similarity_pair)"
   ]
  },
  {
   "cell_type": "code",
   "execution_count": 29,
   "metadata": {},
   "outputs": [
    {
     "name": "stdout",
     "output_type": "stream",
     "text": [
      "                           filename  \\\n",
      "1    bathroom_bestwestern_hotel_sfo   \n",
      "13          food_holiday_inn_london   \n",
      "14           food_swissotel_chicago   \n",
      "15       free_bestwestern_hotel_sfo   \n",
      "20   location_bestwestern_hotel_sfo   \n",
      "21      location_holiday_inn_london   \n",
      "24    parking_bestwestern_hotel_sfo   \n",
      "28         price_holiday_inn_london   \n",
      "30      rooms_bestwestern_hotel_sfo   \n",
      "31          rooms_swissotel_chicago   \n",
      "32          room_holiday_inn_london   \n",
      "38    service_bestwestern_hotel_sfo   \n",
      "39       service_holiday_inn_london   \n",
      "40  service_swissotel_hotel_chicago   \n",
      "45      staff_bestwestern_hotel_sfo   \n",
      "46          staff_swissotel_chicago   \n",
      "\n",
      "                                         opinion_text  cluster_label  \n",
      "1                                                 ...              1  \n",
      "13                                                ...              1  \n",
      "14                                                ...              1  \n",
      "15                                                ...              1  \n",
      "20                                                ...              1  \n",
      "21                                                ...              1  \n",
      "24                                                ...              1  \n",
      "28                                                ...              1  \n",
      "30                                                ...              1  \n",
      "31                                                ...              1  \n",
      "32                                                ...              1  \n",
      "38                                                ...              1  \n",
      "39                                                ...              1  \n",
      "40                                                ...              1  \n",
      "45                                                ...              1  \n",
      "46                                                ...              1  \n",
      "bathroom_bestwestern_hotel_sfo\n",
      "\n",
      "feature_vect[hotel_indexes]\n",
      "   (0, 496)\t0.011305732385508459\n",
      "  (0, 4344)\t0.012756627418414653\n",
      "  (0, 1539)\t0.010754127694480847\n",
      "  (0, 3346)\t0.012756627418414653\n",
      "  (0, 1754)\t0.010754127694480847\n",
      "  (0, 680)\t0.012756627418414653\n",
      "  (0, 1275)\t0.012756627418414653\n",
      "  (0, 3484)\t0.011958142262102591\n",
      "  (0, 3907)\t0.012756627418414653\n",
      "  (0, 1880)\t0.012756627418414653\n",
      "  (0, 2134)\t0.0077959845357768965\n",
      "  (0, 1107)\t0.012756627418414653\n",
      "  (0, 2501)\t0.011958142262102591\n",
      "  (0, 1330)\t0.011305732385508459\n",
      "  (0, 1008)\t0.017650821888379162\n",
      "  (0, 2832)\t0.009477820820783711\n",
      "  (0, 351)\t0.012756627418414653\n",
      "  (0, 781)\t0.012756627418414653\n",
      "  (0, 552)\t0.011958142262102591\n",
      "  (0, 3167)\t0.012756627418414653\n",
      "  (0, 3332)\t0.010276305977095774\n",
      "  (0, 4397)\t0.0077959845357768965\n",
      "  (0, 2320)\t0.011305732385508459\n",
      "  (0, 4260)\t0.012756627418414653\n",
      "  (0, 413)\t0.011958142262102591\n",
      "  :\t:\n",
      "  (15, 2485)\t0.0029812653457058982\n",
      "  (15, 1386)\t0.0025227262247500197\n",
      "  (15, 3266)\t0.005045452449500039\n",
      "  (15, 601)\t0.008703873661339163\n",
      "  (15, 2726)\t0.006521235205688591\n",
      "  (15, 4038)\t0.006521235205688591\n",
      "  (15, 1457)\t0.009136629899798446\n",
      "  (15, 4171)\t0.006521235205688591\n",
      "  (15, 4159)\t0.003986501451336076\n",
      "  (15, 3718)\t0.004222080249941258\n",
      "  (15, 2620)\t0.003986501451336076\n",
      "  (15, 557)\t0.00875237019179013\n",
      "  (15, 2028)\t0.00291745673059671\n",
      "  (15, 1637)\t0.006835112578787906\n",
      "  (15, 3430)\t0.006094626622650068\n",
      "  (15, 3911)\t0.0032606176028442957\n",
      "  (15, 17)\t0.002738066399519793\n",
      "  (15, 1887)\t0.007417595839872923\n",
      "  (15, 1260)\t0.009136629899798446\n",
      "  (15, 896)\t0.005148591716698248\n",
      "  (15, 4265)\t0.0023759890476275844\n",
      "  (15, 1799)\t0.005183542897038219\n",
      "  (15, 3565)\t0.002681877931991529\n",
      "  (15, 1396)\t0.0022841574749496115\n",
      "  (15, 1353)\t0.007973002902672152\n",
      "\n",
      "feature_vect[hotel_indexes][0]\n",
      "   (0, 496)\t0.011305732385508459\n",
      "  (0, 4344)\t0.012756627418414653\n",
      "  (0, 1539)\t0.010754127694480847\n",
      "  (0, 3346)\t0.012756627418414653\n",
      "  (0, 1754)\t0.010754127694480847\n",
      "  (0, 680)\t0.012756627418414653\n",
      "  (0, 1275)\t0.012756627418414653\n",
      "  (0, 3484)\t0.011958142262102591\n",
      "  (0, 3907)\t0.012756627418414653\n",
      "  (0, 1880)\t0.012756627418414653\n",
      "  (0, 2134)\t0.0077959845357768965\n",
      "  (0, 1107)\t0.012756627418414653\n",
      "  (0, 2501)\t0.011958142262102591\n",
      "  (0, 1330)\t0.011305732385508459\n",
      "  (0, 1008)\t0.017650821888379162\n",
      "  (0, 2832)\t0.009477820820783711\n",
      "  (0, 351)\t0.012756627418414653\n",
      "  (0, 781)\t0.012756627418414653\n",
      "  (0, 552)\t0.011958142262102591\n",
      "  (0, 3167)\t0.012756627418414653\n",
      "  (0, 3332)\t0.010276305977095774\n",
      "  (0, 4397)\t0.0077959845357768965\n",
      "  (0, 2320)\t0.011305732385508459\n",
      "  (0, 4260)\t0.012756627418414653\n",
      "  (0, 413)\t0.011958142262102591\n",
      "  :\t:\n",
      "  (0, 2572)\t0.0049949996555310235\n",
      "  (0, 2282)\t0.005546604346558639\n",
      "  (0, 1621)\t0.005667915877317869\n",
      "  (0, 1325)\t0.009215547703227996\n",
      "  (0, 3200)\t0.007374515911283386\n",
      "  (0, 1061)\t0.005429270967896965\n",
      "  (0, 4068)\t0.01670449999972836\n",
      "  (0, 650)\t0.005546604346558639\n",
      "  (0, 2238)\t0.014749031822566773\n",
      "  (0, 460)\t0.0049949996555310235\n",
      "  (0, 2435)\t0.005923620878377192\n",
      "  (0, 4190)\t0.005429270967896965\n",
      "  (0, 4495)\t0.009477820820783711\n",
      "  (0, 1607)\t0.005429270967896965\n",
      "  (0, 1386)\t0.00959230284146426\n",
      "  (0, 4255)\t0.017370359115747573\n",
      "  (0, 3266)\t0.023980757103660648\n",
      "  (0, 601)\t0.008273806253161967\n",
      "  (0, 2084)\t0.007374515911283386\n",
      "  (0, 4171)\t0.006199014223152768\n",
      "  (0, 3148)\t0.010631326188916032\n",
      "  (0, 1823)\t0.0049949996555310235\n",
      "  (0, 1260)\t0.008685179557873787\n",
      "  (0, 4228)\t0.0064973825903098335\n",
      "  (0, 4265)\t0.004517177938145953\n"
     ]
    }
   ],
   "source": [
    "print(document_df[document_df['cluster_label']==1])\n",
    "print(comparison_docname); print()\n",
    "print('feature_vect[hotel_indexes]\\n', feature_vect[hotel_indexes]); print()\n",
    "print('feature_vect[hotel_indexes][0]\\n', feature_vect[hotel_indexes[0]])"
   ]
  },
  {
   "cell_type": "code",
   "execution_count": 24,
   "metadata": {},
   "outputs": [
    {
     "data": {
      "image/png": "[encoded data removed]",
      "text/plain": [
       "<Figure size 432x288 with 1 Axes>"
      ]
     },
     "metadata": {
      "needs_background": "light"
     },
     "output_type": "display_data"
    }
   ],
   "source": [
    "import seaborn as sns\n",
    "import numpy as np\n",
    "import matplotlib.pyplot as plt\n",
    "%matplotlib inline\n",
    "\n",
    "# argsort()를 이용하여 앞예제의 첫번째 문서와 타 문서간 유사도가 큰 순으로 정렬한 인덱스 반환하되 자기 자신은 제외. \n",
    "sorted_index = similarity_pair.argsort()[:,::-1]\n",
    "sorted_index = sorted_index[:, 1:]\n",
    "\n",
    "# 유사도가 큰 순으로 hotel_indexes를 추출하여 재정렬. \n",
    "hotel_sorted_indexes = hotel_indexes[sorted_index.reshape(-1)]\n",
    "\n",
    "# 유사도가 큰 순으로 유사도 값을 재정렬하되 자기 자신은 제외\n",
    "hotel_1_sim_value = np.sort(similarity_pair.reshape(-1))[::-1]\n",
    "hotel_1_sim_value = hotel_1_sim_value[1:]\n",
    "\n",
    "# 유사도가 큰 순으로 정렬된 Index와 유사도값을 이용하여 파일명과 유사도값을 \n",
    "# Seaborn 막대 그래프로 시각화\n",
    "hotel_1_sim_df = pd.DataFrame()\n",
    "# y축\n",
    "hotel_1_sim_df['filename'] = document_df.iloc[hotel_sorted_indexes]['filename']\n",
    "# x축\n",
    "hotel_1_sim_df['similarity'] = hotel_1_sim_value\n",
    "\n",
    "sns.barplot(x='similarity', y='filename',data=hotel_1_sim_df)\n",
    "plt.title(comparison_docname)\n",
    "plt.show()"
   ]
  },
  {
   "cell_type": "markdown",
   "metadata": {},
   "source": [
    "### Q. 자동차로 군집화된 문서들을 이용해 특정 문서와 다른 문서간의 유사도를 비교"
   ]
  },
  {
   "cell_type": "code",
   "execution_count": 1,
   "metadata": {},
   "outputs": [],
   "source": [
    "# Opinion Review 데이터 셋을 이용한 문서 유사도 측정\n",
    "from nltk.stem import WordNetLemmatizer\n",
    "import nltk\n",
    "import string\n",
    "\n",
    "remove_punct_dict = dict((ord(punct), None) for punct in string.punctuation)\n",
    "lemmar = WordNetLemmatizer()\n",
    "\n",
    "def LemTokens(tokens):\n",
    "    return [lemmar.lemmatize(token) for token in tokens]\n",
    "\n",
    "def LemNormalize(text):\n",
    "    return LemTokens(nltk.word_tokenize(text.lower().translate(remove_punct_dict)))"
   ]
  },
  {
   "cell_type": "code",
   "execution_count": 2,
   "metadata": {},
   "outputs": [
    {
     "name": "stderr",
     "output_type": "stream",
     "text": [
      "C:\\ProgramData\\Anaconda3\\envs\\nlp_python\\lib\\site-packages\\sklearn\\feature_extraction\\text.py:385: UserWarning: Your stop_words may be inconsistent with your preprocessing. Tokenizing the stop words generated tokens ['ha', 'le', 'u', 'wa'] not in stop_words.\n",
      "  'stop_words.' % sorted(inconsistent))\n"
     ]
    }
   ],
   "source": [
    "import pandas as pd\n",
    "import glob ,os\n",
    "from sklearn.feature_extraction.text import TfidfVectorizer\n",
    "from sklearn.cluster import KMeans\n",
    "\n",
    "path = './dataset/OpinosisDataset1.0/topics'\n",
    "all_files = glob.glob(os.path.join(path, \"*.data\"))     \n",
    "filename_list = []\n",
    "opinion_text = []\n",
    "\n",
    "for file_ in all_files:\n",
    "    df = pd.read_table(file_,index_col=None, header=0,encoding='latin1')\n",
    "    filename_ = file_.split('\\\\')[-1]\n",
    "    filename = filename_.split('.')[0]\n",
    "    filename_list.append(filename)\n",
    "    opinion_text.append(df.to_string())\n",
    "\n",
    "document_df = pd.DataFrame({'filename':filename_list, 'opinion_text':opinion_text})\n",
    "\n",
    "tfidf_vect = TfidfVectorizer(tokenizer=LemNormalize, stop_words='english' , \\\n",
    "                             ngram_range=(1,2), min_df=0.05, max_df=0.85 )\n",
    "feature_vect = tfidf_vect.fit_transform(document_df['opinion_text'])\n",
    "\n",
    "km_cluster = KMeans(n_clusters=3, max_iter=10000, random_state=0)\n",
    "km_cluster.fit(feature_vect)\n",
    "cluster_label = km_cluster.labels_\n",
    "cluster_centers = km_cluster.cluster_centers_\n",
    "document_df['cluster_label'] = cluster_label"
   ]
  },
  {
   "cell_type": "code",
   "execution_count": 4,
   "metadata": {},
   "outputs": [
    {
     "data": {
      "text/html": [
       "<div>\n",
       "<style scoped>\n",
       "    .dataframe tbody tr th:only-of-type {\n",
       "        vertical-align: middle;\n",
       "    }\n",
       "\n",
       "    .dataframe tbody tr th {\n",
       "        vertical-align: top;\n",
       "    }\n",
       "\n",
       "    .dataframe thead th {\n",
       "        text-align: right;\n",
       "    }\n",
       "</style>\n",
       "<table border=\"1\" class=\"dataframe\">\n",
       "  <thead>\n",
       "    <tr style=\"text-align: right;\">\n",
       "      <th></th>\n",
       "      <th>filename</th>\n",
       "      <th>opinion_text</th>\n",
       "      <th>cluster_label</th>\n",
       "    </tr>\n",
       "  </thead>\n",
       "  <tbody>\n",
       "    <tr>\n",
       "      <th>6</th>\n",
       "      <td>comfort_honda_accord_2008</td>\n",
       "      <td>...</td>\n",
       "      <td>2</td>\n",
       "    </tr>\n",
       "    <tr>\n",
       "      <th>7</th>\n",
       "      <td>comfort_toyota_camry_2007</td>\n",
       "      <td>...</td>\n",
       "      <td>2</td>\n",
       "    </tr>\n",
       "    <tr>\n",
       "      <th>16</th>\n",
       "      <td>gas_mileage_toyota_camry_2007</td>\n",
       "      <td>...</td>\n",
       "      <td>2</td>\n",
       "    </tr>\n",
       "    <tr>\n",
       "      <th>17</th>\n",
       "      <td>interior_honda_accord_2008</td>\n",
       "      <td>...</td>\n",
       "      <td>2</td>\n",
       "    </tr>\n",
       "    <tr>\n",
       "      <th>18</th>\n",
       "      <td>interior_toyota_camry_2007</td>\n",
       "      <td>...</td>\n",
       "      <td>2</td>\n",
       "    </tr>\n",
       "    <tr>\n",
       "      <th>22</th>\n",
       "      <td>mileage_honda_accord_2008</td>\n",
       "      <td>...</td>\n",
       "      <td>2</td>\n",
       "    </tr>\n",
       "    <tr>\n",
       "      <th>25</th>\n",
       "      <td>performance_honda_accord_2008</td>\n",
       "      <td>...</td>\n",
       "      <td>2</td>\n",
       "    </tr>\n",
       "    <tr>\n",
       "      <th>29</th>\n",
       "      <td>quality_toyota_camry_2007</td>\n",
       "      <td>...</td>\n",
       "      <td>2</td>\n",
       "    </tr>\n",
       "    <tr>\n",
       "      <th>37</th>\n",
       "      <td>seats_honda_accord_2008</td>\n",
       "      <td>...</td>\n",
       "      <td>2</td>\n",
       "    </tr>\n",
       "    <tr>\n",
       "      <th>47</th>\n",
       "      <td>transmission_toyota_camry_2007</td>\n",
       "      <td>...</td>\n",
       "      <td>2</td>\n",
       "    </tr>\n",
       "  </tbody>\n",
       "</table>\n",
       "</div>"
      ],
      "text/plain": [
       "                          filename  \\\n",
       "6        comfort_honda_accord_2008   \n",
       "7        comfort_toyota_camry_2007   \n",
       "16   gas_mileage_toyota_camry_2007   \n",
       "17      interior_honda_accord_2008   \n",
       "18      interior_toyota_camry_2007   \n",
       "22       mileage_honda_accord_2008   \n",
       "25   performance_honda_accord_2008   \n",
       "29       quality_toyota_camry_2007   \n",
       "37         seats_honda_accord_2008   \n",
       "47  transmission_toyota_camry_2007   \n",
       "\n",
       "                                         opinion_text  cluster_label  \n",
       "6                                                 ...              2  \n",
       "7                                                 ...              2  \n",
       "16                                                ...              2  \n",
       "17                                                ...              2  \n",
       "18                                                ...              2  \n",
       "22                                                ...              2  \n",
       "25                                                ...              2  \n",
       "29                                                ...              2  \n",
       "37                                                ...              2  \n",
       "47                                                ...              2  "
      ]
     },
     "execution_count": 4,
     "metadata": {},
     "output_type": "execute_result"
    }
   ],
   "source": [
    "# 자동차\n",
    "document_df[document_df['cluster_label']==2]"
   ]
  },
  {
   "cell_type": "code",
   "execution_count": 5,
   "metadata": {},
   "outputs": [
    {
     "name": "stdout",
     "output_type": "stream",
     "text": [
      "자동차로 클러스터링 된 문서들의 DataFrame Index:\n",
      " Int64Index([6, 7, 16, 17, 18, 22, 25, 29, 37, 47], dtype='int64')\n",
      "\n",
      "##### 비교 기준 문서명  comfort_honda_accord_2008  와 타 문서 유사도######\n",
      "[[1.         0.83969704 0.15655631 0.33044002 0.25981841 0.16544257\n",
      "  0.27569738 0.18050974 0.65502034 0.06229873]]\n"
     ]
    }
   ],
   "source": [
    "from sklearn.metrics.pairwise import cosine_similarity\n",
    "\n",
    "car_indexes = document_df[document_df['cluster_label']==2].index\n",
    "print('자동차로 클러스터링 된 문서들의 DataFrame Index:\\n', car_indexes)\n",
    "print()\n",
    "\n",
    "# 자동차로 클러스터링된 데이터 중 첫번째 문서를 추출하여 파일명 표시.  \n",
    "comparison_docname = document_df.iloc[car_indexes[0]]['filename']\n",
    "print('##### 비교 기준 문서명 ',comparison_docname,' 와 타 문서 유사도######')\n",
    "\n",
    "''' document_df에서 추출한 Index 객체를 feature_vect로 입력하여 호텔 클러스터링된 feature_vect 추출\\n\n",
    "이를 이용하여 호텔로 클러스터링된 문서 중 첫번째 문서와 다른 문서간의 코사인 유사도 측정.'''\n",
    "similarity_pair = cosine_similarity(feature_vect[car_indexes[0]] , feature_vect[car_indexes])\n",
    "print(similarity_pair)"
   ]
  },
  {
   "cell_type": "code",
   "execution_count": 17,
   "metadata": {},
   "outputs": [
    {
     "name": "stdout",
     "output_type": "stream",
     "text": [
      "Int64Index([7, 37, 17, 25, 18, 29, 22, 16, 47], dtype='int64')\n"
     ]
    },
    {
     "data": {
      "image/png": "[encoded data removed]",
      "text/plain": [
       "<Figure size 432x288 with 1 Axes>"
      ]
     },
     "metadata": {
      "needs_background": "light"
     },
     "output_type": "display_data"
    }
   ],
   "source": [
    "import seaborn as sns\n",
    "import numpy as np\n",
    "import matplotlib.pyplot as plt\n",
    "%matplotlib inline\n",
    "\n",
    "# argsort()를 이용하여 앞예제의 첫번째 문서와 타 문서간 유사도가 큰 순으로 정렬한 인덱스 반환하되 자기 자신은 제외. \n",
    "# print(similarity_pair)\n",
    "sorted_index = similarity_pair.argsort()[:,::-1]\n",
    "# print(sorted_index)\n",
    "sorted_index = sorted_index[:, 1:] # 자기 자신은 가장 큰 값으로 1 = 0번째\n",
    "# print(sorted_index)\n",
    "\n",
    "# 유사도가 큰 순으로 car_indexes를 추출하여 재정렬. \n",
    "car_sorted_indexes = car_indexes[sorted_index.reshape(-1)]\n",
    "# print(car_sorted_indexes)\n",
    "\n",
    "# 유사도가 큰 순으로 유사도 값을 재정렬하되 자기 자신은 제외\n",
    "car_1_sim_value = np.sort(similarity_pair.reshape(-1))[::-1]\n",
    "#print(car_1_sim_value)\n",
    "car_1_sim_value = car_1_sim_value[1:] # 자기 자신은 가장 큰 값으로 1 = 0번째\n",
    "#print(car_1_sim_value)\n",
    "\n",
    "# 유사도가 큰 순으로 정렬된 Index와 유사도값을 이용하여 파일명과 유사도값을 \n",
    "# Seaborn 막대 그래프로 시각화\n",
    "car_1_sim_df = pd.DataFrame()\n",
    "\n",
    "# y축\n",
    "car_1_sim_df['filename'] = document_df.iloc[car_sorted_indexes]['filename']\n",
    "# print(document_df.iloc[car_sorted_indexes]['filename'])\n",
    "\n",
    "# x축\n",
    "car_1_sim_df['similarity'] = car_1_sim_value\n",
    "# print(car_1_sim_value)\n",
    "\n",
    "# 시각화\n",
    "sns.barplot(x='similarity', y='filename',data=car_1_sim_df)\n",
    "plt.title(comparison_docname)\n",
    "plt.show()"
   ]
  },
  {
   "cell_type": "markdown",
   "metadata": {},
   "source": [
    "#### 해답"
   ]
  },
  {
   "cell_type": "code",
   "execution_count": 6,
   "metadata": {},
   "outputs": [
    {
     "name": "stdout",
     "output_type": "stream",
     "text": [
      "auto로 클러스터링 된 문서들의 DataFrame Index: Int64Index([6, 7, 16, 17, 18, 22, 25, 29, 37, 47], dtype='int64')\n",
      "##### 비교 기준 문서명  comfort_honda_accord_2008  와 타 문서 유사도######\n",
      "[[1.         0.83969704 0.15655631 0.33044002 0.25981841 0.16544257\n",
      "  0.27569738 0.18050974 0.65502034 0.06229873]]\n"
     ]
    }
   ],
   "source": [
    "from sklearn.metrics.pairwise import cosine_similarity\n",
    "\n",
    "# cluster_label=1인 데이터는 auto로 클러스터링된 데이터임. DataFrame에서 해당 Index를 추출\n",
    "auto_indexes = document_df[document_df['cluster_label']==2].index\n",
    "print('auto로 클러스터링 된 문서들의 DataFrame Index:', auto_indexes)\n",
    "\n",
    "# auto로 클러스터링된 데이터 중 첫번째 문서를 추출하여 파일명 표시.  \n",
    "comparison_docname = document_df.iloc[auto_indexes[0]]['filename']\n",
    "print('##### 비교 기준 문서명 ',comparison_docname,' 와 타 문서 유사도######')\n",
    "\n",
    "''' document_df에서 추출한 Index 객체를 feature_vect로 입력하여 auto 클러스터링된 feature_vect 추출 \n",
    "이를 이용하여 auto로 클러스터링된 문서 중 첫번째 문서와 다른 문서간의 코사인 유사도 측정.'''\n",
    "similarity_pair = cosine_similarity(feature_vect[auto_indexes[0]] , feature_vect[auto_indexes])\n",
    "print(similarity_pair)\n"
   ]
  },
  {
   "cell_type": "code",
   "execution_count": 7,
   "metadata": {},
   "outputs": [
    {
     "data": {
      "text/plain": [
       "Text(0.5, 1.0, 'comfort_honda_accord_2008')"
      ]
     },
     "execution_count": 7,
     "metadata": {},
     "output_type": "execute_result"
    },
    {
     "data": {
      "image/png": "[encoded data removed]",
      "text/plain": [
       "<Figure size 432x288 with 1 Axes>"
      ]
     },
     "metadata": {
      "needs_background": "light"
     },
     "output_type": "display_data"
    }
   ],
   "source": [
    "import seaborn as sns\n",
    "import numpy as np\n",
    "import matplotlib.pyplot as plt\n",
    "%matplotlib inline\n",
    "\n",
    "# argsort()를 이용하여 앞예제의 첫번째 문서와 타 문서간 유사도가 큰 순으로 \n",
    "# 정렬한 인덱스 반환하되 자기 자신은 제외. \n",
    "sorted_index = similarity_pair.argsort()[:,::-1]\n",
    "sorted_index = sorted_index[:, 1:]\n",
    "\n",
    "# 유사도가 큰 순으로 auto_indexes를 추출하여 재 정렬. \n",
    "auto_sorted_indexes = auto_indexes[sorted_index.reshape(-1)]\n",
    "\n",
    "# 유사도가 큰 순으로 유사도 값을 재정렬하되 자기 자신은 제외\n",
    "auto_1_sim_value = np.sort(similarity_pair.reshape(-1))[::-1]\n",
    "auto_1_sim_value = auto_1_sim_value[1:]\n",
    "\n",
    "# 유사도가 큰 순으로 정렬된 Index와 유사도값을 이용하여 파일명과 유사도값을 \n",
    "# Seaborn 막대 그래프로 시각화\n",
    "auto_1_sim_df = pd.DataFrame()\n",
    "auto_1_sim_df['filename'] = document_df.iloc[auto_sorted_indexes]['filename']\n",
    "auto_1_sim_df['similarity'] = auto_1_sim_value\n",
    "\n",
    "sns.barplot(x='similarity', y='filename',data=auto_1_sim_df)\n",
    "plt.title(comparison_docname)"
   ]
  },
  {
   "cell_type": "markdown",
   "metadata": {},
   "source": [
    "### Q. 전자제품으로 군집화된 문서들을 이용해 특정 문서와 다른 문서간의 유사도를 비교"
   ]
  },
  {
   "cell_type": "code",
   "execution_count": 1,
   "metadata": {},
   "outputs": [],
   "source": [
    "# Opinion Review 데이터 셋을 이용한 문서 유사도 측정\n",
    "from nltk.stem import WordNetLemmatizer\n",
    "import nltk\n",
    "import string\n",
    "\n",
    "remove_punct_dict = dict((ord(punct), None) for punct in string.punctuation)\n",
    "lemmar = WordNetLemmatizer()\n",
    "\n",
    "def LemTokens(tokens):\n",
    "    return [lemmar.lemmatize(token) for token in tokens]\n",
    "\n",
    "def LemNormalize(text):\n",
    "    return LemTokens(nltk.word_tokenize(text.lower().translate(remove_punct_dict)))"
   ]
  },
  {
   "cell_type": "code",
   "execution_count": 2,
   "metadata": {},
   "outputs": [
    {
     "name": "stderr",
     "output_type": "stream",
     "text": [
      "C:\\ProgramData\\Anaconda3\\envs\\nlp_python\\lib\\site-packages\\sklearn\\feature_extraction\\text.py:385: UserWarning: Your stop_words may be inconsistent with your preprocessing. Tokenizing the stop words generated tokens ['ha', 'le', 'u', 'wa'] not in stop_words.\n",
      "  'stop_words.' % sorted(inconsistent))\n"
     ]
    }
   ],
   "source": [
    "import pandas as pd\n",
    "import glob ,os\n",
    "from sklearn.feature_extraction.text import TfidfVectorizer\n",
    "from sklearn.cluster import KMeans\n",
    "\n",
    "path = './dataset/OpinosisDataset1.0/topics'\n",
    "all_files = glob.glob(os.path.join(path, \"*.data\"))     \n",
    "filename_list = []\n",
    "opinion_text = []\n",
    "\n",
    "for file_ in all_files:\n",
    "    df = pd.read_table(file_,index_col=None, header=0,encoding='latin1')\n",
    "    filename_ = file_.split('\\\\')[-1]\n",
    "    filename = filename_.split('.')[0]\n",
    "    filename_list.append(filename)\n",
    "    opinion_text.append(df.to_string())\n",
    "\n",
    "document_df = pd.DataFrame({'filename':filename_list, 'opinion_text':opinion_text})\n",
    "\n",
    "tfidf_vect = TfidfVectorizer(tokenizer=LemNormalize, stop_words='english' , \\\n",
    "                             ngram_range=(1,2), min_df=0.05, max_df=0.85 )\n",
    "feature_vect = tfidf_vect.fit_transform(document_df['opinion_text'])\n",
    "\n",
    "km_cluster = KMeans(n_clusters=3, max_iter=10000, random_state=0)\n",
    "km_cluster.fit(feature_vect)\n",
    "cluster_label = km_cluster.labels_\n",
    "cluster_centers = km_cluster.cluster_centers_\n",
    "document_df['cluster_label'] = cluster_label"
   ]
  },
  {
   "cell_type": "code",
   "execution_count": 3,
   "metadata": {},
   "outputs": [
    {
     "data": {
      "text/html": [
       "<div>\n",
       "<style scoped>\n",
       "    .dataframe tbody tr th:only-of-type {\n",
       "        vertical-align: middle;\n",
       "    }\n",
       "\n",
       "    .dataframe tbody tr th {\n",
       "        vertical-align: top;\n",
       "    }\n",
       "\n",
       "    .dataframe thead th {\n",
       "        text-align: right;\n",
       "    }\n",
       "</style>\n",
       "<table border=\"1\" class=\"dataframe\">\n",
       "  <thead>\n",
       "    <tr style=\"text-align: right;\">\n",
       "      <th></th>\n",
       "      <th>filename</th>\n",
       "      <th>opinion_text</th>\n",
       "      <th>cluster_label</th>\n",
       "    </tr>\n",
       "  </thead>\n",
       "  <tbody>\n",
       "    <tr>\n",
       "      <th>0</th>\n",
       "      <td>accuracy_garmin_nuvi_255W_gps</td>\n",
       "      <td>...</td>\n",
       "      <td>0</td>\n",
       "    </tr>\n",
       "    <tr>\n",
       "      <th>2</th>\n",
       "      <td>battery-life_amazon_kindle</td>\n",
       "      <td>...</td>\n",
       "      <td>0</td>\n",
       "    </tr>\n",
       "    <tr>\n",
       "      <th>3</th>\n",
       "      <td>battery-life_ipod_nano_8gb</td>\n",
       "      <td>...</td>\n",
       "      <td>0</td>\n",
       "    </tr>\n",
       "    <tr>\n",
       "      <th>4</th>\n",
       "      <td>battery-life_netbook_1005ha</td>\n",
       "      <td>...</td>\n",
       "      <td>0</td>\n",
       "    </tr>\n",
       "    <tr>\n",
       "      <th>5</th>\n",
       "      <td>buttons_amazon_kindle</td>\n",
       "      <td>...</td>\n",
       "      <td>0</td>\n",
       "    </tr>\n",
       "    <tr>\n",
       "      <th>8</th>\n",
       "      <td>directions_garmin_nuvi_255W_gps</td>\n",
       "      <td>...</td>\n",
       "      <td>0</td>\n",
       "    </tr>\n",
       "    <tr>\n",
       "      <th>9</th>\n",
       "      <td>display_garmin_nuvi_255W_gps</td>\n",
       "      <td>...</td>\n",
       "      <td>0</td>\n",
       "    </tr>\n",
       "    <tr>\n",
       "      <th>10</th>\n",
       "      <td>eyesight-issues_amazon_kindle</td>\n",
       "      <td>...</td>\n",
       "      <td>0</td>\n",
       "    </tr>\n",
       "    <tr>\n",
       "      <th>11</th>\n",
       "      <td>features_windows7</td>\n",
       "      <td>...</td>\n",
       "      <td>0</td>\n",
       "    </tr>\n",
       "    <tr>\n",
       "      <th>12</th>\n",
       "      <td>fonts_amazon_kindle</td>\n",
       "      <td>...</td>\n",
       "      <td>0</td>\n",
       "    </tr>\n",
       "    <tr>\n",
       "      <th>19</th>\n",
       "      <td>keyboard_netbook_1005ha</td>\n",
       "      <td>...</td>\n",
       "      <td>0</td>\n",
       "    </tr>\n",
       "    <tr>\n",
       "      <th>23</th>\n",
       "      <td>navigation_amazon_kindle</td>\n",
       "      <td>...</td>\n",
       "      <td>0</td>\n",
       "    </tr>\n",
       "    <tr>\n",
       "      <th>26</th>\n",
       "      <td>performance_netbook_1005ha</td>\n",
       "      <td>...</td>\n",
       "      <td>0</td>\n",
       "    </tr>\n",
       "    <tr>\n",
       "      <th>27</th>\n",
       "      <td>price_amazon_kindle</td>\n",
       "      <td>...</td>\n",
       "      <td>0</td>\n",
       "    </tr>\n",
       "    <tr>\n",
       "      <th>33</th>\n",
       "      <td>satellite_garmin_nuvi_255W_gps</td>\n",
       "      <td>...</td>\n",
       "      <td>0</td>\n",
       "    </tr>\n",
       "    <tr>\n",
       "      <th>34</th>\n",
       "      <td>screen_garmin_nuvi_255W_gps</td>\n",
       "      <td>...</td>\n",
       "      <td>0</td>\n",
       "    </tr>\n",
       "    <tr>\n",
       "      <th>35</th>\n",
       "      <td>screen_ipod_nano_8gb</td>\n",
       "      <td>...</td>\n",
       "      <td>0</td>\n",
       "    </tr>\n",
       "    <tr>\n",
       "      <th>36</th>\n",
       "      <td>screen_netbook_1005ha</td>\n",
       "      <td>...</td>\n",
       "      <td>0</td>\n",
       "    </tr>\n",
       "    <tr>\n",
       "      <th>41</th>\n",
       "      <td>size_asus_netbook_1005ha</td>\n",
       "      <td>...</td>\n",
       "      <td>0</td>\n",
       "    </tr>\n",
       "    <tr>\n",
       "      <th>42</th>\n",
       "      <td>sound_ipod_nano_8gb</td>\n",
       "      <td>headphone jack i got a clear case for it a...</td>\n",
       "      <td>0</td>\n",
       "    </tr>\n",
       "    <tr>\n",
       "      <th>43</th>\n",
       "      <td>speed_garmin_nuvi_255W_gps</td>\n",
       "      <td>...</td>\n",
       "      <td>0</td>\n",
       "    </tr>\n",
       "    <tr>\n",
       "      <th>44</th>\n",
       "      <td>speed_windows7</td>\n",
       "      <td>...</td>\n",
       "      <td>0</td>\n",
       "    </tr>\n",
       "    <tr>\n",
       "      <th>48</th>\n",
       "      <td>updates_garmin_nuvi_255W_gps</td>\n",
       "      <td>...</td>\n",
       "      <td>0</td>\n",
       "    </tr>\n",
       "    <tr>\n",
       "      <th>49</th>\n",
       "      <td>video_ipod_nano_8gb</td>\n",
       "      <td>...</td>\n",
       "      <td>0</td>\n",
       "    </tr>\n",
       "    <tr>\n",
       "      <th>50</th>\n",
       "      <td>voice_garmin_nuvi_255W_gps</td>\n",
       "      <td>...</td>\n",
       "      <td>0</td>\n",
       "    </tr>\n",
       "  </tbody>\n",
       "</table>\n",
       "</div>"
      ],
      "text/plain": [
       "                           filename  \\\n",
       "0     accuracy_garmin_nuvi_255W_gps   \n",
       "2        battery-life_amazon_kindle   \n",
       "3        battery-life_ipod_nano_8gb   \n",
       "4       battery-life_netbook_1005ha   \n",
       "5             buttons_amazon_kindle   \n",
       "8   directions_garmin_nuvi_255W_gps   \n",
       "9      display_garmin_nuvi_255W_gps   \n",
       "10    eyesight-issues_amazon_kindle   \n",
       "11                features_windows7   \n",
       "12              fonts_amazon_kindle   \n",
       "19          keyboard_netbook_1005ha   \n",
       "23         navigation_amazon_kindle   \n",
       "26       performance_netbook_1005ha   \n",
       "27              price_amazon_kindle   \n",
       "33   satellite_garmin_nuvi_255W_gps   \n",
       "34      screen_garmin_nuvi_255W_gps   \n",
       "35             screen_ipod_nano_8gb   \n",
       "36            screen_netbook_1005ha   \n",
       "41         size_asus_netbook_1005ha   \n",
       "42              sound_ipod_nano_8gb   \n",
       "43       speed_garmin_nuvi_255W_gps   \n",
       "44                   speed_windows7   \n",
       "48     updates_garmin_nuvi_255W_gps   \n",
       "49              video_ipod_nano_8gb   \n",
       "50       voice_garmin_nuvi_255W_gps   \n",
       "\n",
       "                                         opinion_text  cluster_label  \n",
       "0                                                 ...              0  \n",
       "2                                                 ...              0  \n",
       "3                                                 ...              0  \n",
       "4                                                 ...              0  \n",
       "5                                                 ...              0  \n",
       "8                                                 ...              0  \n",
       "9                                                 ...              0  \n",
       "10                                                ...              0  \n",
       "11                                                ...              0  \n",
       "12                                                ...              0  \n",
       "19                                                ...              0  \n",
       "23                                                ...              0  \n",
       "26                                                ...              0  \n",
       "27                                                ...              0  \n",
       "33                                                ...              0  \n",
       "34                                                ...              0  \n",
       "35                                                ...              0  \n",
       "36                                                ...              0  \n",
       "41                                                ...              0  \n",
       "42      headphone jack i got a clear case for it a...              0  \n",
       "43                                                ...              0  \n",
       "44                                                ...              0  \n",
       "48                                                ...              0  \n",
       "49                                                ...              0  \n",
       "50                                                ...              0  "
      ]
     },
     "execution_count": 3,
     "metadata": {},
     "output_type": "execute_result"
    }
   ],
   "source": [
    "# 전자제품\n",
    "document_df[document_df['cluster_label']==0]"
   ]
  },
  {
   "cell_type": "code",
   "execution_count": 4,
   "metadata": {},
   "outputs": [
    {
     "name": "stdout",
     "output_type": "stream",
     "text": [
      "전자제품으로 클러스터링 된 문서들의 DataFrame Index:\n",
      " Int64Index([ 0,  2,  3,  4,  5,  8,  9, 10, 11, 12, 19, 23, 26, 27, 33, 34, 35,\n",
      "            36, 41, 42, 43, 44, 48, 49, 50],\n",
      "           dtype='int64')\n",
      "\n",
      "##### 비교 기준 문서명  accuracy_garmin_nuvi_255W_gps  와 타 문서 유사도######\n",
      "[[1.         0.03004155 0.0399055  0.03321949 0.01659167 0.34657949\n",
      "  0.19665144 0.03271487 0.03613626 0.01828703 0.02061394 0.0511192\n",
      "  0.03626147 0.01762981 0.10104874 0.15598296 0.03667107 0.03388559\n",
      "  0.03301419 0.02971984 0.20146574 0.02735475 0.18343275 0.01715513\n",
      "  0.12148216]]\n"
     ]
    }
   ],
   "source": [
    "# 전자제품\n",
    "from sklearn.metrics.pairwise import cosine_similarity\n",
    "\n",
    "elec_indexes = document_df[document_df['cluster_label']==0].index\n",
    "print('전자제품으로 클러스터링 된 문서들의 DataFrame Index:\\n', elec_indexes)\n",
    "print()\n",
    "\n",
    "# 전자제품로 클러스터링된 데이터 중 첫번째 문서를 추출하여 파일명 표시.  \n",
    "comparison_docname = document_df.iloc[elec_indexes[0]]['filename']\n",
    "print('##### 비교 기준 문서명 ',comparison_docname,' 와 타 문서 유사도######')\n",
    "\n",
    "''' document_df에서 추출한 Index 객체를 feature_vect로 입력하여 호텔 클러스터링된 feature_vect 추출\\n\n",
    "이를 이용하여 호텔로 클러스터링된 문서 중 첫번째 문서와 다른 문서간의 코사인 유사도 측정.'''\n",
    "similarity_pair = cosine_similarity(feature_vect[elec_indexes[0]] , feature_vect[elec_indexes])\n",
    "print(similarity_pair)"
   ]
  },
  {
   "cell_type": "code",
   "execution_count": 5,
   "metadata": {},
   "outputs": [
    {
     "data": {
      "image/png": "[encoded data removed]",
      "text/plain": [
       "<Figure size 432x288 with 1 Axes>"
      ]
     },
     "metadata": {
      "needs_background": "light"
     },
     "output_type": "display_data"
    }
   ],
   "source": [
    "import seaborn as sns\n",
    "import numpy as np\n",
    "import matplotlib.pyplot as plt\n",
    "%matplotlib inline\n",
    "\n",
    "# argsort()를 이용하여 앞예제의 첫번째 문서와 타 문서간 유사도가 큰 순으로 정렬한 인덱스 반환하되 자기 자신은 제외. \n",
    "# print(similarity_pair)\n",
    "sorted_index = similarity_pair.argsort()[:,::-1]\n",
    "# print(sorted_index)\n",
    "sorted_index = sorted_index[:, 1:] # 자기 자신은 가장 큰 값으로 1 = 0번째\n",
    "# print(sorted_index)\n",
    "\n",
    "# 유사도가 큰 순으로 car_indexes를 추출하여 재정렬. \n",
    "elec_sorted_indexes = elec_indexes[sorted_index.reshape(-1)]\n",
    "# print(elec_sorted_indexes)\n",
    "\n",
    "# 유사도가 큰 순으로 유사도 값을 재정렬하되 자기 자신은 제외\n",
    "elec_1_sim_value = np.sort(similarity_pair.reshape(-1))[::-1]\n",
    "#print(elec_1_sim_value)\n",
    "elec_1_sim_value = elec_1_sim_value[1:] # 자기 자신은 가장 큰 값으로 1 = 0번째\n",
    "#print(elec_1_sim_value)\n",
    "\n",
    "# 유사도가 큰 순으로 정렬된 Index와 유사도값을 이용하여 파일명과 유사도값을 \n",
    "# Seaborn 막대 그래프로 시각화\n",
    "elec_1_sim_df = pd.DataFrame()\n",
    "\n",
    "# y축\n",
    "elec_1_sim_df['filename'] = document_df.iloc[elec_sorted_indexes]['filename']\n",
    "# print(document_df.iloc[elec_sorted_indexes]['filename'])\n",
    "\n",
    "# x축\n",
    "elec_1_sim_df['similarity'] = elec_1_sim_value\n",
    "# print(car_1_sim_value)\n",
    "\n",
    "# 시각화\n",
    "sns.barplot(x='similarity', y='filename',data=elec_1_sim_df)\n",
    "plt.title(comparison_docname)\n",
    "plt.show()"
   ]
  }
 ],
 "metadata": {
  "kernelspec": {
   "display_name": "Python 3",
   "language": "python",
   "name": "python3"
  },
  "language_info": {
   "codemirror_mode": {
    "name": "ipython",
    "version": 3
   },
   "file_extension": ".py",
   "mimetype": "text/x-python",
   "name": "python",
   "nbconvert_exporter": "python",
   "pygments_lexer": "ipython3",
   "version": "3.7.7"
  }
 },
 "nbformat": 4,
 "nbformat_minor": 4
}
