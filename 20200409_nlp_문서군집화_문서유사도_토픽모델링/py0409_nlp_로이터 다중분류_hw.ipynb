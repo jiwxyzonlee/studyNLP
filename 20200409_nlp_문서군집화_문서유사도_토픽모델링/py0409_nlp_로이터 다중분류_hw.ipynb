{
 "cells": [
  {
   "cell_type": "markdown",
   "metadata": {},
   "source": [
    "### Q. 로이터 뉴스를 46개의 상호 배타적인 토픽으로 분류하는 신경망 모델 개발\n",
    "- 데이터 소스 : from keras.datasets import reuters\n",
    "- 데이터 및 레이블 벡터 변환 : 주어진 사용자 함수 참조\n",
    "- 모델 구성 : 2개 은닉층(64개 유닛), 1개 출력층\n",
    "- 검증(validation) : 훈련 데이터에서 1000개 분리하여 검증 데이터로 사용\n",
    "- 시각화 : 정확도와 손실율 곡선을 비교 시사점 도출"
   ]
  },
  {
   "cell_type": "markdown",
   "metadata": {},
   "source": [
    "### Reuters newswire topics classification\n",
    "Dataset of 11,228 newswires from Reuters, labeled over 46 topics. As with the IMDB dataset, each wire is encoded as a sequence of word indexes (same conventions)\n",
    "\n",
    "https://keras.io/datasets/#reuters-newswire-topics-classification"
   ]
  },
  {
   "cell_type": "code",
   "execution_count": 22,
   "metadata": {},
   "outputs": [],
   "source": [
    "from keras.datasets import reuters\n",
    "\n",
    "(x_train, y_train), (x_test, y_test) = reuters.load_data(num_words=10000, seed=113)"
   ]
  },
  {
   "cell_type": "code",
   "execution_count": 23,
   "metadata": {},
   "outputs": [
    {
     "name": "stdout",
     "output_type": "stream",
     "text": [
      "8982\n"
     ]
    }
   ],
   "source": [
    "print(len(x_train))"
   ]
  },
  {
   "cell_type": "code",
   "execution_count": 24,
   "metadata": {},
   "outputs": [
    {
     "name": "stdout",
     "output_type": "stream",
     "text": [
      "2246\n"
     ]
    }
   ],
   "source": [
    "print(len(x_test))"
   ]
  },
  {
   "cell_type": "markdown",
   "metadata": {},
   "source": [
    "참고: \n",
    "https://tensorflow.blog/%EC%BC%80%EB%9D%BC%EC%8A%A4-%EB%94%A5%EB%9F%AC%EB%8B%9D/3-5-%EB%89%B4%EC%8A%A4-%EA%B8%B0%EC%82%AC-%EB%B6%84%EB%A5%98-%EB%8B%A4%EC%A4%91-%EB%B6%84%EB%A5%98-%EB%AC%B8%EC%A0%9C/"
   ]
  },
  {
   "cell_type": "code",
   "execution_count": 25,
   "metadata": {},
   "outputs": [],
   "source": [
    "# 데이터를 벡터로 변환\n",
    "import numpy as np\n",
    "\n",
    "def vectorize_sequence(sequences, dimension=10000):\n",
    "    results = np.zeros((len(sequences), dimension))\n",
    "    for i, sequence in enumerate(sequences):\n",
    "        results[i, sequence] = 1.\n",
    "    return results\n",
    "\n",
    "x_train = vectorize_sequence(x_train) # 훈련 데이터 벡터 변환\n",
    "x_test = vectorize_sequence(x_test) # 테스트 데이터 벡터 변환"
   ]
  },
  {
   "cell_type": "code",
   "execution_count": 26,
   "metadata": {},
   "outputs": [],
   "source": [
    "# 레이블을 벡터로 변환\n",
    "def to_one_hot(labels, dimension=46):\n",
    "    result = np.zeros((len(labels), dimension))\n",
    "    for i, label in enumerate(labels):\n",
    "        result[i, label] = 1.\n",
    "    return result\n",
    "\n",
    "one_hot_train_labels = to_one_hot(y_train) # 훈련 레이블 벡터 변환\n",
    "one_hot_test_labels = to_one_hot(y_test) # 테스트 레이블 벡터 변환"
   ]
  },
  {
   "cell_type": "code",
   "execution_count": 27,
   "metadata": {},
   "outputs": [
    {
     "name": "stdout",
     "output_type": "stream",
     "text": [
      "Model: \"sequential_6\"\n",
      "_________________________________________________________________\n",
      "Layer (type)                 Output Shape              Param #   \n",
      "=================================================================\n",
      "dense_21 (Dense)             (None, 64)                640064    \n",
      "_________________________________________________________________\n",
      "dropout_11 (Dropout)         (None, 64)                0         \n",
      "_________________________________________________________________\n",
      "dense_22 (Dense)             (None, 64)                4160      \n",
      "_________________________________________________________________\n",
      "dropout_12 (Dropout)         (None, 64)                0         \n",
      "_________________________________________________________________\n",
      "dense_23 (Dense)             (None, 64)                4160      \n",
      "_________________________________________________________________\n",
      "dense_24 (Dense)             (None, 46)                2990      \n",
      "=================================================================\n",
      "Total params: 651,374\n",
      "Trainable params: 651,374\n",
      "Non-trainable params: 0\n",
      "_________________________________________________________________\n",
      "Train on 8982 samples, validate on 2246 samples\n",
      "Epoch 1/10\n",
      "8982/8982 [==============================] - 1s 117us/step - loss: 2.9145 - accuracy: 0.3916 - val_loss: 2.0053 - val_accuracy: 0.5343\n",
      "Epoch 2/10\n",
      "8982/8982 [==============================] - 1s 88us/step - loss: 1.8174 - accuracy: 0.5543 - val_loss: 1.6100 - val_accuracy: 0.6376\n",
      "Epoch 3/10\n",
      "8982/8982 [==============================] - 1s 88us/step - loss: 1.4868 - accuracy: 0.6505 - val_loss: 1.4279 - val_accuracy: 0.6817\n",
      "Epoch 4/10\n",
      "8982/8982 [==============================] - 1s 87us/step - loss: 1.2934 - accuracy: 0.6965 - val_loss: 1.3391 - val_accuracy: 0.6883\n",
      "Epoch 5/10\n",
      "8982/8982 [==============================] - 1s 91us/step - loss: 1.1449 - accuracy: 0.7255 - val_loss: 1.2530 - val_accuracy: 0.7057\n",
      "Epoch 6/10\n",
      "8982/8982 [==============================] - 1s 88us/step - loss: 1.0234 - accuracy: 0.7466 - val_loss: 1.2105 - val_accuracy: 0.7195\n",
      "Epoch 7/10\n",
      "8982/8982 [==============================] - 1s 88us/step - loss: 0.9194 - accuracy: 0.7791 - val_loss: 1.1426 - val_accuracy: 0.7453\n",
      "Epoch 8/10\n",
      "8982/8982 [==============================] - 1s 88us/step - loss: 0.8294 - accuracy: 0.7993 - val_loss: 1.1039 - val_accuracy: 0.7596\n",
      "Epoch 9/10\n",
      "8982/8982 [==============================] - 1s 87us/step - loss: 0.7423 - accuracy: 0.8235 - val_loss: 1.0903 - val_accuracy: 0.7649\n",
      "Epoch 10/10\n",
      "8982/8982 [==============================] - 1s 89us/step - loss: 0.6857 - accuracy: 0.8332 - val_loss: 1.0702 - val_accuracy: 0.7707\n",
      "2246/2246 [==============================] - 0s 82us/step\n",
      "accuracy= 0.7707034945487976 loss= 1.070227531270055\n"
     ]
    },
    {
     "data": {
      "image/png": "[encoded data removed]",
      "text/plain": [
       "<Figure size 432x288 with 1 Axes>"
      ]
     },
     "metadata": {
      "needs_background": "light"
     },
     "output_type": "display_data"
    },
    {
     "data": {
      "image/png": "[encoded data removed]",
      "text/plain": [
       "<Figure size 432x288 with 1 Axes>"
      ]
     },
     "metadata": {
      "needs_background": "light"
     },
     "output_type": "display_data"
    }
   ],
   "source": [
    "import sklearn.metrics as metrics\n",
    "import keras\n",
    "from keras.models import Sequential\n",
    "from keras.layers import Dense, Dropout\n",
    "import matplotlib.pyplot as plt\n",
    "import h5py\n",
    "import warnings\n",
    "warnings.filterwarnings('ignore')\n",
    "\n",
    "# 모델 정의 16개의 은닉 유닛을 가진 2개의 은닉층(relu) 64개 유닛, 1개의 출력층(softmax)\n",
    "\n",
    "model = Sequential()\n",
    "# Input - Layer\n",
    "model.add(Dense(64, activation='relu', input_shape=(10000, )))\n",
    "# Hidden - Layers\n",
    "model.add(Dropout(0.2, noise_shape=None, seed=None))\n",
    "model.add(Dense(64, activation = \"relu\"))\n",
    "model.add(Dropout(0.2, noise_shape=None, seed=None))\n",
    "model.add(Dense(64, activation = \"relu\"))\n",
    "# Output- Layer\n",
    "model.add(Dense(46, activation = \"softmax\"))\n",
    "model.summary()\n",
    "\n",
    "\n",
    "# 모델 컴파일하기\n",
    "model.compile(\n",
    "    loss='categorical_crossentropy',\n",
    "    optimizer='rmsprop',\n",
    "    metrics=['accuracy'])\n",
    "\n",
    "\n",
    "# 학습 실행하기 \n",
    "hist = model.fit(x_train, one_hot_train_labels\n",
    "                 , batch_size=1000\n",
    "                 , epochs=10\n",
    "                 , verbose=1\n",
    "                 , validation_data=(x_test, one_hot_test_labels))\n",
    "\n",
    "\n",
    "# 평가하기 \n",
    "score = model.evaluate(x_test, one_hot_test_labels, verbose=1)\n",
    "print(\"accuracy=\", score[1], 'loss=', score[0])\n",
    "\n",
    "# 가중치데이터 저장하기 \n",
    "model.save_weights('./dataset/genre-model.hdf5')\n",
    "\n",
    "# 에폭별 정확도 시각화 및 적정 에폭 제시\n",
    "# plt.plot(hist.history['loss'])\n",
    "plt.plot(hist.history['accuracy'])\n",
    "# plt.plot(hist.history['val_loss'])\n",
    "plt.plot(hist.history['val_accuracy'])\n",
    "plt.title('Accuracy')\n",
    "plt.legend(['train', 'test'], loc='upper left')\n",
    "plt.show()\n",
    "\n",
    "plt.plot(hist.history['loss'])\n",
    "#plt.plot(hist.history['accuracy'])\n",
    "plt.plot(hist.history['val_loss'])\n",
    "#plt.plot(hist.history['val_accuracy'])\n",
    "plt.title('Loss')\n",
    "plt.legend(['train', 'test'], loc='upper left')\n",
    "plt.show()"
   ]
  },
  {
   "cell_type": "code",
   "execution_count": null,
   "metadata": {},
   "outputs": [],
   "source": [
    "x_val = x_train[:1000]\n",
    "partial_x_train = x_train[1000:]\n",
    "\n",
    "y_val = one_hot_train_labels[:1000]\n",
    "partial_y_train = one_hot_train_labels[1000:]\n",
    "\n",
    "history = model.fit(partial_x_train,\n",
    "                    partial_y_train,\n",
    "                    epochs=20,\n",
    "                    batch_size=512,\n",
    "                    validation_data=(x_val, y_val))"
   ]
  }
 ],
 "metadata": {
  "kernelspec": {
   "display_name": "Python 3",
   "language": "python",
   "name": "python3"
  },
  "language_info": {
   "codemirror_mode": {
    "name": "ipython",
    "version": 3
   },
   "file_extension": ".py",
   "mimetype": "text/x-python",
   "name": "python",
   "nbconvert_exporter": "python",
   "pygments_lexer": "ipython3",
   "version": "3.7.7"
  }
 },
 "nbformat": 4,
 "nbformat_minor": 2
}
